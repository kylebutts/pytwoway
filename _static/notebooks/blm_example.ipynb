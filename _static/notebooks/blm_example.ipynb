{
 "cells": [
  {
   "cell_type": "markdown",
   "metadata": {},
   "source": [
    "# BLM example"
   ]
  },
  {
   "cell_type": "code",
   "execution_count": 1,
   "metadata": {},
   "outputs": [],
   "source": [
    "# Add PyTwoWay to system path (do not run this)\n",
    "# import sys\n",
    "# sys.path.append('../../..')"
   ]
  },
  {
   "cell_type": "markdown",
   "metadata": {},
   "source": [
    "## Import the PyTwoWay package\n",
    "\n",
    "Make sure to install it using `pip install pytwoway`."
   ]
  },
  {
   "cell_type": "code",
   "execution_count": 2,
   "metadata": {},
   "outputs": [],
   "source": [
    "import numpy as np\n",
    "import bipartitepandas as bpd\n",
    "import pytwoway as tw\n",
    "from pytwoway import constraints as cons\n",
    "from matplotlib import pyplot as plt"
   ]
  },
  {
   "cell_type": "markdown",
   "metadata": {},
   "source": [
    "## First, check out parameter options\n",
    "\n",
    "Do this by running:\n",
    "\n",
    "- BLM - `tw.blm_params().describe_all()`\n",
    "\n",
    "- Clustering - `bpd.cluster_params().describe_all()`\n",
    "\n",
    "- Cleaning - `bpd.clean_params().describe_all()`\n",
    "\n",
    "- Simulating - `bpd.sim_params().describe_all()`\n",
    "\n",
    "Alternatively, run `x_params().keys()` to view all the keys for a parameter dictionary, then `x_params().describe(key)` to get a description for a single key."
   ]
  },
  {
   "cell_type": "markdown",
   "metadata": {},
   "source": [
    "## Second, set parameter choices"
   ]
  },
  {
   "cell_type": "code",
   "execution_count": 3,
   "metadata": {},
   "outputs": [],
   "source": [
    "nl = 3 # Number of worker types\n",
    "nk = 4 # Number of firm types\n",
    "blm_params = tw.blm_params({\n",
    "    'nl': nl, 'nk': nk,\n",
    "    'a1_mu': 0, 'a1_sig': 1.5, 'a2_mu': 0, 'a2_sig': 1.5,\n",
    "    's1_low': 0.5, 's1_high': 1.5, 's2_low': 0.5, 's2_high': 1.5\n",
    "})\n",
    "cluster_params = bpd.cluster_params({\n",
    "    'measures': bpd.measures.CDFs(),\n",
    "    'grouping': bpd.grouping.KMeans(n_clusters=nk),\n",
    "    'is_sorted': True,\n",
    "    'copy': False\n",
    "})\n",
    "clean_params = bpd.clean_params({\n",
    "    'drop_returns': 'returners',\n",
    "    'copy': False\n",
    "})\n",
    "sim_params = bpd.sim_params({\n",
    "    'nl': nl, 'nk': nk,\n",
    "    'alpha_sig': 1, 'psi_sig': 1, 'w_sig': 0.6,\n",
    "    'c_sort': 0, 'c_netw': 0, 'c_sig': 1\n",
    "})"
   ]
  },
  {
   "cell_type": "markdown",
   "metadata": {},
   "source": [
    "## Extract data (we simulate for the example)\n",
    "\n",
    "`BipartitePandas` contains the class `SimBipartite` which we use here to simulate a bipartite network. If you have your own data, you can import it during this step. Load it as a `Pandas DataFrame` and then convert it into a `BipartitePandas DataFrame` in the next step.\n",
    "\n",
    "Note that `l` gives the true worker type and `k` gives the true firm type, while `alpha` gives the true worker effect and `psi` gives the true firm effect. We will save these columns separately.\n",
    "\n",
    "The BLM estimator uses the firm types computed via clustering, which are saved in columns `g1` and `g2`."
   ]
  },
  {
   "cell_type": "code",
   "execution_count": 4,
   "metadata": {},
   "outputs": [],
   "source": [
    "sim_data = bpd.SimBipartite(sim_params).simulate()"
   ]
  },
  {
   "cell_type": "markdown",
   "metadata": {},
   "source": [
    "## Prepare data\n",
    "\n",
    "This is exactly how you should prepare real data prior to running the BLM estimator.\n",
    "\n",
    "- First, we convert the data into a `BipartitePandas DataFrame`\n",
    "\n",
    "- Second, we clean the data (e.g. drop NaN observations, make sure firm and worker ids are contiguous, etc.)\n",
    "\n",
    "- Third, we cluster firms by their wage distributions, to generate firm classes (columns `g1` and `g2`). Alternatively, manually set the columns `g1` and `g2` to pre-estimated clusters (but make sure to [add them correctly!](https://tlamadon.github.io/bipartitepandas/notebooks/custom_columns.html#Adding-custom-columns-to-an-instantiated-DataFrame)).\n",
    "\n",
    "- Fourth, we collapse the data at the worker-firm spell level (taking mean wage over the spell)\n",
    "\n",
    "- Fifth, we convert the data into event study format\n",
    "\n",
    "Further details on `BipartitePandas` can be found in the package documentation, available [here](https://tlamadon.github.io/bipartitepandas/)."
   ]
  },
  {
   "cell_type": "code",
   "execution_count": 5,
   "metadata": {},
   "outputs": [
    {
     "name": "stdout",
     "output_type": "stream",
     "text": [
      "checking required columns and datatypes\n",
      "sorting rows\n",
      "dropping NaN observations\n",
      "generating 'm' column\n",
      "keeping highest paying job for i-t (worker-year) duplicates (how='max')\n",
      "dropping workers who leave a firm then return to it (how='returners')\n",
      "making 'i' ids contiguous\n",
      "making 'j' ids contiguous\n",
      "computing largest connected set (how=None)\n",
      "sorting columns\n",
      "resetting index\n"
     ]
    }
   ],
   "source": [
    "# Convert into BipartitePandas DataFrame\n",
    "sim_data = bpd.BipartiteDataFrame(sim_data)\n",
    "# Clean and collapse\n",
    "sim_data = sim_data.clean(clean_params).collapse(is_sorted=True, copy=False)\n",
    "# Cluster\n",
    "sim_data = sim_data.cluster(cluster_params)\n",
    "# Convert to event study format\n",
    "sim_data = sim_data.to_eventstudy(is_sorted=True, copy=False)"
   ]
  },
  {
   "cell_type": "markdown",
   "metadata": {},
   "source": [
    "## Separate observed and unobserved data\n",
    "\n",
    "Some of the simulated data is not observed, so we separate out that data during estimation."
   ]
  },
  {
   "cell_type": "code",
   "execution_count": 6,
   "metadata": {},
   "outputs": [],
   "source": [
    "sim_data_observed = sim_data.loc[:, ['i', 'j1', 'j2', 'y1', 'y2', 't11', 't12', 't21', 't22', 'g1', 'g2', 'w1', 'w2', 'm']]\n",
    "sim_data_unobserved = sim_data.loc[:, ['alpha1', 'alpha2', 'k1', 'k2', 'l1', 'l2', 'psi1', 'psi2']]"
   ]
  },
  {
   "cell_type": "markdown",
   "metadata": {},
   "source": [
    "## Separate movers and stayers data\n",
    "\n",
    "We need to distinguish movers and stayers for the estimator."
   ]
  },
  {
   "cell_type": "code",
   "execution_count": 7,
   "metadata": {},
   "outputs": [],
   "source": [
    "movers = sim_data_observed.get_worker_m(is_sorted=True)\n",
    "jdata = sim_data_observed.loc[movers, :]\n",
    "sdata = sim_data_observed.loc[~movers, :]"
   ]
  },
  {
   "cell_type": "markdown",
   "metadata": {},
   "source": [
    "## Check the data\n",
    "\n",
    "Let's check the cleaned data."
   ]
  },
  {
   "cell_type": "code",
   "execution_count": 8,
   "metadata": {},
   "outputs": [
    {
     "name": "stdout",
     "output_type": "stream",
     "text": [
      "Movers data\n"
     ]
    },
    {
     "data": {
      "text/html": [
       "<div>\n",
       "<style scoped>\n",
       "    .dataframe tbody tr th:only-of-type {\n",
       "        vertical-align: middle;\n",
       "    }\n",
       "\n",
       "    .dataframe tbody tr th {\n",
       "        vertical-align: top;\n",
       "    }\n",
       "\n",
       "    .dataframe thead th {\n",
       "        text-align: right;\n",
       "    }\n",
       "</style>\n",
       "<table border=\"1\" class=\"dataframe\">\n",
       "  <thead>\n",
       "    <tr style=\"text-align: right;\">\n",
       "      <th></th>\n",
       "      <th>i</th>\n",
       "      <th>j1</th>\n",
       "      <th>j2</th>\n",
       "      <th>y1</th>\n",
       "      <th>y2</th>\n",
       "      <th>t11</th>\n",
       "      <th>t12</th>\n",
       "      <th>t21</th>\n",
       "      <th>t22</th>\n",
       "      <th>g1</th>\n",
       "      <th>g2</th>\n",
       "      <th>w1</th>\n",
       "      <th>w2</th>\n",
       "      <th>m</th>\n",
       "    </tr>\n",
       "  </thead>\n",
       "  <tbody>\n",
       "    <tr>\n",
       "      <th>0</th>\n",
       "      <td>0</td>\n",
       "      <td>189</td>\n",
       "      <td>141</td>\n",
       "      <td>0.658481</td>\n",
       "      <td>-0.302737</td>\n",
       "      <td>0</td>\n",
       "      <td>0</td>\n",
       "      <td>1</td>\n",
       "      <td>3</td>\n",
       "      <td>0</td>\n",
       "      <td>3</td>\n",
       "      <td>1</td>\n",
       "      <td>3</td>\n",
       "      <td>1</td>\n",
       "    </tr>\n",
       "    <tr>\n",
       "      <th>1</th>\n",
       "      <td>0</td>\n",
       "      <td>141</td>\n",
       "      <td>179</td>\n",
       "      <td>-0.302737</td>\n",
       "      <td>-0.070679</td>\n",
       "      <td>1</td>\n",
       "      <td>3</td>\n",
       "      <td>4</td>\n",
       "      <td>4</td>\n",
       "      <td>3</td>\n",
       "      <td>0</td>\n",
       "      <td>3</td>\n",
       "      <td>1</td>\n",
       "      <td>1</td>\n",
       "    </tr>\n",
       "    <tr>\n",
       "      <th>2</th>\n",
       "      <td>1</td>\n",
       "      <td>3</td>\n",
       "      <td>178</td>\n",
       "      <td>-0.977635</td>\n",
       "      <td>-0.138164</td>\n",
       "      <td>0</td>\n",
       "      <td>0</td>\n",
       "      <td>1</td>\n",
       "      <td>4</td>\n",
       "      <td>1</td>\n",
       "      <td>0</td>\n",
       "      <td>1</td>\n",
       "      <td>4</td>\n",
       "      <td>1</td>\n",
       "    </tr>\n",
       "    <tr>\n",
       "      <th>3</th>\n",
       "      <td>2</td>\n",
       "      <td>179</td>\n",
       "      <td>9</td>\n",
       "      <td>0.273751</td>\n",
       "      <td>-2.872666</td>\n",
       "      <td>0</td>\n",
       "      <td>2</td>\n",
       "      <td>3</td>\n",
       "      <td>3</td>\n",
       "      <td>0</td>\n",
       "      <td>1</td>\n",
       "      <td>3</td>\n",
       "      <td>1</td>\n",
       "      <td>1</td>\n",
       "    </tr>\n",
       "    <tr>\n",
       "      <th>4</th>\n",
       "      <td>2</td>\n",
       "      <td>9</td>\n",
       "      <td>113</td>\n",
       "      <td>-2.872666</td>\n",
       "      <td>-1.395046</td>\n",
       "      <td>3</td>\n",
       "      <td>3</td>\n",
       "      <td>4</td>\n",
       "      <td>4</td>\n",
       "      <td>1</td>\n",
       "      <td>3</td>\n",
       "      <td>1</td>\n",
       "      <td>1</td>\n",
       "      <td>1</td>\n",
       "    </tr>\n",
       "    <tr>\n",
       "      <th>...</th>\n",
       "      <td>...</td>\n",
       "      <td>...</td>\n",
       "      <td>...</td>\n",
       "      <td>...</td>\n",
       "      <td>...</td>\n",
       "      <td>...</td>\n",
       "      <td>...</td>\n",
       "      <td>...</td>\n",
       "      <td>...</td>\n",
       "      <td>...</td>\n",
       "      <td>...</td>\n",
       "      <td>...</td>\n",
       "      <td>...</td>\n",
       "      <td>...</td>\n",
       "    </tr>\n",
       "    <tr>\n",
       "      <th>20331</th>\n",
       "      <td>9923</td>\n",
       "      <td>5</td>\n",
       "      <td>18</td>\n",
       "      <td>-2.439280</td>\n",
       "      <td>-2.086203</td>\n",
       "      <td>0</td>\n",
       "      <td>0</td>\n",
       "      <td>1</td>\n",
       "      <td>1</td>\n",
       "      <td>1</td>\n",
       "      <td>1</td>\n",
       "      <td>1</td>\n",
       "      <td>1</td>\n",
       "      <td>1</td>\n",
       "    </tr>\n",
       "    <tr>\n",
       "      <th>20332</th>\n",
       "      <td>9923</td>\n",
       "      <td>18</td>\n",
       "      <td>186</td>\n",
       "      <td>-2.086203</td>\n",
       "      <td>0.518828</td>\n",
       "      <td>1</td>\n",
       "      <td>1</td>\n",
       "      <td>2</td>\n",
       "      <td>2</td>\n",
       "      <td>1</td>\n",
       "      <td>0</td>\n",
       "      <td>1</td>\n",
       "      <td>1</td>\n",
       "      <td>1</td>\n",
       "    </tr>\n",
       "    <tr>\n",
       "      <th>20333</th>\n",
       "      <td>9923</td>\n",
       "      <td>186</td>\n",
       "      <td>92</td>\n",
       "      <td>0.518828</td>\n",
       "      <td>0.440968</td>\n",
       "      <td>2</td>\n",
       "      <td>2</td>\n",
       "      <td>3</td>\n",
       "      <td>3</td>\n",
       "      <td>0</td>\n",
       "      <td>2</td>\n",
       "      <td>1</td>\n",
       "      <td>1</td>\n",
       "      <td>1</td>\n",
       "    </tr>\n",
       "    <tr>\n",
       "      <th>20334</th>\n",
       "      <td>9923</td>\n",
       "      <td>92</td>\n",
       "      <td>14</td>\n",
       "      <td>0.440968</td>\n",
       "      <td>-1.070705</td>\n",
       "      <td>3</td>\n",
       "      <td>3</td>\n",
       "      <td>4</td>\n",
       "      <td>4</td>\n",
       "      <td>2</td>\n",
       "      <td>1</td>\n",
       "      <td>1</td>\n",
       "      <td>1</td>\n",
       "      <td>1</td>\n",
       "    </tr>\n",
       "    <tr>\n",
       "      <th>20335</th>\n",
       "      <td>9924</td>\n",
       "      <td>167</td>\n",
       "      <td>42</td>\n",
       "      <td>1.730241</td>\n",
       "      <td>-0.256907</td>\n",
       "      <td>0</td>\n",
       "      <td>0</td>\n",
       "      <td>1</td>\n",
       "      <td>4</td>\n",
       "      <td>0</td>\n",
       "      <td>1</td>\n",
       "      <td>1</td>\n",
       "      <td>4</td>\n",
       "      <td>1</td>\n",
       "    </tr>\n",
       "  </tbody>\n",
       "</table>\n",
       "<p>19695 rows × 14 columns</p>\n",
       "</div>"
      ],
      "text/plain": [
       "          i   j1   j2        y1        y2  t11  t12  t21  t22 g1  g2  w1  w2  \\\n",
       "0         0  189  141  0.658481 -0.302737    0    0    1    3  0   3   1   3   \n",
       "1         0  141  179 -0.302737 -0.070679    1    3    4    4  3   0   3   1   \n",
       "2         1    3  178 -0.977635 -0.138164    0    0    1    4  1   0   1   4   \n",
       "3         2  179    9  0.273751 -2.872666    0    2    3    3  0   1   3   1   \n",
       "4         2    9  113 -2.872666 -1.395046    3    3    4    4  1   3   1   1   \n",
       "...     ...  ...  ...       ...       ...  ...  ...  ...  ... ..  ..  ..  ..   \n",
       "20331  9923    5   18 -2.439280 -2.086203    0    0    1    1  1   1   1   1   \n",
       "20332  9923   18  186 -2.086203  0.518828    1    1    2    2  1   0   1   1   \n",
       "20333  9923  186   92  0.518828  0.440968    2    2    3    3  0   2   1   1   \n",
       "20334  9923   92   14  0.440968 -1.070705    3    3    4    4  2   1   1   1   \n",
       "20335  9924  167   42  1.730241 -0.256907    0    0    1    4  0   1   1   4   \n",
       "\n",
       "       m  \n",
       "0      1  \n",
       "1      1  \n",
       "2      1  \n",
       "3      1  \n",
       "4      1  \n",
       "...   ..  \n",
       "20331  1  \n",
       "20332  1  \n",
       "20333  1  \n",
       "20334  1  \n",
       "20335  1  \n",
       "\n",
       "[19695 rows x 14 columns]"
      ]
     },
     "metadata": {},
     "output_type": "display_data"
    },
    {
     "name": "stdout",
     "output_type": "stream",
     "text": [
      "Stayers data\n"
     ]
    },
    {
     "data": {
      "text/html": [
       "<div>\n",
       "<style scoped>\n",
       "    .dataframe tbody tr th:only-of-type {\n",
       "        vertical-align: middle;\n",
       "    }\n",
       "\n",
       "    .dataframe tbody tr th {\n",
       "        vertical-align: top;\n",
       "    }\n",
       "\n",
       "    .dataframe thead th {\n",
       "        text-align: right;\n",
       "    }\n",
       "</style>\n",
       "<table border=\"1\" class=\"dataframe\">\n",
       "  <thead>\n",
       "    <tr style=\"text-align: right;\">\n",
       "      <th></th>\n",
       "      <th>i</th>\n",
       "      <th>j1</th>\n",
       "      <th>j2</th>\n",
       "      <th>y1</th>\n",
       "      <th>y2</th>\n",
       "      <th>t11</th>\n",
       "      <th>t12</th>\n",
       "      <th>t21</th>\n",
       "      <th>t22</th>\n",
       "      <th>g1</th>\n",
       "      <th>g2</th>\n",
       "      <th>w1</th>\n",
       "      <th>w2</th>\n",
       "      <th>m</th>\n",
       "    </tr>\n",
       "  </thead>\n",
       "  <tbody>\n",
       "    <tr>\n",
       "      <th>16</th>\n",
       "      <td>9</td>\n",
       "      <td>183</td>\n",
       "      <td>183</td>\n",
       "      <td>1.775003</td>\n",
       "      <td>1.775003</td>\n",
       "      <td>0</td>\n",
       "      <td>4</td>\n",
       "      <td>0</td>\n",
       "      <td>4</td>\n",
       "      <td>0</td>\n",
       "      <td>0</td>\n",
       "      <td>5</td>\n",
       "      <td>5</td>\n",
       "      <td>0</td>\n",
       "    </tr>\n",
       "    <tr>\n",
       "      <th>101</th>\n",
       "      <td>55</td>\n",
       "      <td>36</td>\n",
       "      <td>36</td>\n",
       "      <td>-0.154698</td>\n",
       "      <td>-0.154698</td>\n",
       "      <td>0</td>\n",
       "      <td>4</td>\n",
       "      <td>0</td>\n",
       "      <td>4</td>\n",
       "      <td>1</td>\n",
       "      <td>1</td>\n",
       "      <td>5</td>\n",
       "      <td>5</td>\n",
       "      <td>0</td>\n",
       "    </tr>\n",
       "    <tr>\n",
       "      <th>127</th>\n",
       "      <td>65</td>\n",
       "      <td>192</td>\n",
       "      <td>192</td>\n",
       "      <td>0.476397</td>\n",
       "      <td>0.476397</td>\n",
       "      <td>0</td>\n",
       "      <td>4</td>\n",
       "      <td>0</td>\n",
       "      <td>4</td>\n",
       "      <td>0</td>\n",
       "      <td>0</td>\n",
       "      <td>5</td>\n",
       "      <td>5</td>\n",
       "      <td>0</td>\n",
       "    </tr>\n",
       "    <tr>\n",
       "      <th>131</th>\n",
       "      <td>67</td>\n",
       "      <td>123</td>\n",
       "      <td>123</td>\n",
       "      <td>-0.268389</td>\n",
       "      <td>-0.268389</td>\n",
       "      <td>0</td>\n",
       "      <td>4</td>\n",
       "      <td>0</td>\n",
       "      <td>4</td>\n",
       "      <td>3</td>\n",
       "      <td>3</td>\n",
       "      <td>5</td>\n",
       "      <td>5</td>\n",
       "      <td>0</td>\n",
       "    </tr>\n",
       "    <tr>\n",
       "      <th>152</th>\n",
       "      <td>78</td>\n",
       "      <td>15</td>\n",
       "      <td>15</td>\n",
       "      <td>-0.318783</td>\n",
       "      <td>-0.318783</td>\n",
       "      <td>0</td>\n",
       "      <td>4</td>\n",
       "      <td>0</td>\n",
       "      <td>4</td>\n",
       "      <td>1</td>\n",
       "      <td>1</td>\n",
       "      <td>5</td>\n",
       "      <td>5</td>\n",
       "      <td>0</td>\n",
       "    </tr>\n",
       "    <tr>\n",
       "      <th>...</th>\n",
       "      <td>...</td>\n",
       "      <td>...</td>\n",
       "      <td>...</td>\n",
       "      <td>...</td>\n",
       "      <td>...</td>\n",
       "      <td>...</td>\n",
       "      <td>...</td>\n",
       "      <td>...</td>\n",
       "      <td>...</td>\n",
       "      <td>...</td>\n",
       "      <td>...</td>\n",
       "      <td>...</td>\n",
       "      <td>...</td>\n",
       "      <td>...</td>\n",
       "    </tr>\n",
       "    <tr>\n",
       "      <th>20111</th>\n",
       "      <td>9820</td>\n",
       "      <td>177</td>\n",
       "      <td>177</td>\n",
       "      <td>0.865980</td>\n",
       "      <td>0.865980</td>\n",
       "      <td>0</td>\n",
       "      <td>4</td>\n",
       "      <td>0</td>\n",
       "      <td>4</td>\n",
       "      <td>0</td>\n",
       "      <td>0</td>\n",
       "      <td>5</td>\n",
       "      <td>5</td>\n",
       "      <td>0</td>\n",
       "    </tr>\n",
       "    <tr>\n",
       "      <th>20155</th>\n",
       "      <td>9840</td>\n",
       "      <td>111</td>\n",
       "      <td>111</td>\n",
       "      <td>1.149045</td>\n",
       "      <td>1.149045</td>\n",
       "      <td>0</td>\n",
       "      <td>4</td>\n",
       "      <td>0</td>\n",
       "      <td>4</td>\n",
       "      <td>3</td>\n",
       "      <td>3</td>\n",
       "      <td>5</td>\n",
       "      <td>5</td>\n",
       "      <td>0</td>\n",
       "    </tr>\n",
       "    <tr>\n",
       "      <th>20213</th>\n",
       "      <td>9866</td>\n",
       "      <td>187</td>\n",
       "      <td>187</td>\n",
       "      <td>1.390672</td>\n",
       "      <td>1.390672</td>\n",
       "      <td>0</td>\n",
       "      <td>4</td>\n",
       "      <td>0</td>\n",
       "      <td>4</td>\n",
       "      <td>0</td>\n",
       "      <td>0</td>\n",
       "      <td>5</td>\n",
       "      <td>5</td>\n",
       "      <td>0</td>\n",
       "    </tr>\n",
       "    <tr>\n",
       "      <th>20259</th>\n",
       "      <td>9885</td>\n",
       "      <td>17</td>\n",
       "      <td>17</td>\n",
       "      <td>-1.266577</td>\n",
       "      <td>-1.266577</td>\n",
       "      <td>0</td>\n",
       "      <td>4</td>\n",
       "      <td>0</td>\n",
       "      <td>4</td>\n",
       "      <td>1</td>\n",
       "      <td>1</td>\n",
       "      <td>5</td>\n",
       "      <td>5</td>\n",
       "      <td>0</td>\n",
       "    </tr>\n",
       "    <tr>\n",
       "      <th>20272</th>\n",
       "      <td>9892</td>\n",
       "      <td>47</td>\n",
       "      <td>47</td>\n",
       "      <td>0.795123</td>\n",
       "      <td>0.795123</td>\n",
       "      <td>0</td>\n",
       "      <td>4</td>\n",
       "      <td>0</td>\n",
       "      <td>4</td>\n",
       "      <td>2</td>\n",
       "      <td>2</td>\n",
       "      <td>5</td>\n",
       "      <td>5</td>\n",
       "      <td>0</td>\n",
       "    </tr>\n",
       "  </tbody>\n",
       "</table>\n",
       "<p>641 rows × 14 columns</p>\n",
       "</div>"
      ],
      "text/plain": [
       "          i   j1   j2        y1        y2  t11  t12  t21  t22 g1  g2  w1  w2  \\\n",
       "16        9  183  183  1.775003  1.775003    0    4    0    4  0   0   5   5   \n",
       "101      55   36   36 -0.154698 -0.154698    0    4    0    4  1   1   5   5   \n",
       "127      65  192  192  0.476397  0.476397    0    4    0    4  0   0   5   5   \n",
       "131      67  123  123 -0.268389 -0.268389    0    4    0    4  3   3   5   5   \n",
       "152      78   15   15 -0.318783 -0.318783    0    4    0    4  1   1   5   5   \n",
       "...     ...  ...  ...       ...       ...  ...  ...  ...  ... ..  ..  ..  ..   \n",
       "20111  9820  177  177  0.865980  0.865980    0    4    0    4  0   0   5   5   \n",
       "20155  9840  111  111  1.149045  1.149045    0    4    0    4  3   3   5   5   \n",
       "20213  9866  187  187  1.390672  1.390672    0    4    0    4  0   0   5   5   \n",
       "20259  9885   17   17 -1.266577 -1.266577    0    4    0    4  1   1   5   5   \n",
       "20272  9892   47   47  0.795123  0.795123    0    4    0    4  2   2   5   5   \n",
       "\n",
       "       m  \n",
       "16     0  \n",
       "101    0  \n",
       "127    0  \n",
       "131    0  \n",
       "152    0  \n",
       "...   ..  \n",
       "20111  0  \n",
       "20155  0  \n",
       "20213  0  \n",
       "20259  0  \n",
       "20272  0  \n",
       "\n",
       "[641 rows x 14 columns]"
      ]
     },
     "metadata": {},
     "output_type": "display_data"
    }
   ],
   "source": [
    "print('Movers data')\n",
    "display(jdata)\n",
    "print('Stayers data')\n",
    "display(sdata)"
   ]
  },
  {
   "cell_type": "markdown",
   "metadata": {},
   "source": [
    "## Initialize and run BLMEstimator\n",
    "\n",
    "<div class=\"alert alert-info\">\n",
    "\n",
    "Note\n",
    "\n",
    "The `BLMEstimator` class requires data to be formatted as a BipartitePandas DataFrame.\n",
    "\n",
    "</div>"
   ]
  },
  {
   "cell_type": "code",
   "execution_count": null,
   "metadata": {},
   "outputs": [],
   "source": [
    "# Initialize BLM estimator\n",
    "blm_fit = tw.BLMEstimator(blm_params)\n",
    "# Fit BLM estimator\n",
    "blm_fit.fit(jdata=jdata, sdata=sdata, n_init=40, n_best=5, ncore=8)\n",
    "# Store best model\n",
    "blm_model = blm_fit.model"
   ]
  },
  {
   "cell_type": "markdown",
   "metadata": {},
   "source": [
    "## Check that log-likelihoods are monotonic"
   ]
  },
  {
   "cell_type": "code",
   "execution_count": 10,
   "metadata": {},
   "outputs": [
    {
     "name": "stdout",
     "output_type": "stream",
     "text": [
      "Log-likelihoods monotonic (movers): True\n"
     ]
    },
    {
     "data": {
      "text/plain": [
       "Text(0, 0.5, 'Change in log-likelihood')"
      ]
     },
     "execution_count": 10,
     "metadata": {},
     "output_type": "execute_result"
    },
    {
     "data": {
      "image/png": "[encoded data removed]",
      "text/plain": [
       "<Figure size 432x288 with 1 Axes>"
      ]
     },
     "metadata": {
      "needs_background": "light"
     },
     "output_type": "display_data"
    }
   ],
   "source": [
    "liks1 = blm_model.liks1\n",
    "\n",
    "print('Log-likelihoods monotonic (movers):', np.min(np.diff(liks1)) >= 0)\n",
    "\n",
    "x_axis = range(1, len(liks1))\n",
    "plt.plot(x_axis, np.diff(liks1), '.', label='liks1', color='red')\n",
    "plt.plot(x_axis, np.zeros(len(liks1) - 1))\n",
    "plt.xlabel('Iteration')\n",
    "plt.ylabel('Change in log-likelihood')"
   ]
  },
  {
   "cell_type": "code",
   "execution_count": 11,
   "metadata": {},
   "outputs": [
    {
     "name": "stdout",
     "output_type": "stream",
     "text": [
      "Log-likelihoods monotonic (stayers): True\n"
     ]
    },
    {
     "data": {
      "text/plain": [
       "Text(0, 0.5, 'Change in log-likelihood')"
      ]
     },
     "execution_count": 11,
     "metadata": {},
     "output_type": "execute_result"
    },
    {
     "data": {
      "image/png": "[encoded data removed]",
      "text/plain": [
       "<Figure size 432x288 with 1 Axes>"
      ]
     },
     "metadata": {
      "needs_background": "light"
     },
     "output_type": "display_data"
    }
   ],
   "source": [
    "liks0 = blm_model.liks0\n",
    "\n",
    "print('Log-likelihoods monotonic (stayers):', np.min(np.diff(liks0)) >= 0)\n",
    "\n",
    "x_axis = range(1, len(liks0))\n",
    "plt.plot(x_axis, np.diff(liks0), '.', label='liks0', color='red')\n",
    "plt.plot(x_axis, np.zeros(len(liks0) - 1))\n",
    "plt.xlabel('Iteration')\n",
    "plt.ylabel('Change in log-likelihood')"
   ]
  },
  {
   "cell_type": "markdown",
   "metadata": {},
   "source": [
    "## Now we can investigate the results"
   ]
  },
  {
   "cell_type": "code",
   "execution_count": 12,
   "metadata": {},
   "outputs": [
    {
     "data": {
      "image/png": "[encoded data removed]",
      "text/plain": [
       "<Figure size 432x288 with 1 Axes>"
      ]
     },
     "metadata": {
      "needs_background": "light"
     },
     "output_type": "display_data"
    }
   ],
   "source": [
    "# Plot likelihood vs. connectedness\n",
    "blm_fit.plot_liks_connectedness()"
   ]
  },
  {
   "cell_type": "code",
   "execution_count": 13,
   "metadata": {},
   "outputs": [
    {
     "data": {
      "image/png": "[encoded data removed]",
      "text/plain": [
       "<Figure size 432x288 with 1 Axes>"
      ]
     },
     "metadata": {
      "needs_background": "light"
     },
     "output_type": "display_data"
    }
   ],
   "source": [
    "blm_fit.plot_log_earnings()"
   ]
  },
  {
   "cell_type": "code",
   "execution_count": 14,
   "metadata": {
    "scrolled": true
   },
   "outputs": [
    {
     "data": {
      "image/png": "[encoded data removed]",
      "text/plain": [
       "<Figure size 432x288 with 1 Axes>"
      ]
     },
     "metadata": {
      "needs_background": "light"
     },
     "output_type": "display_data"
    }
   ],
   "source": [
    "blm_fit.plot_type_proportions()"
   ]
  },
  {
   "cell_type": "markdown",
   "metadata": {},
   "source": [
    "## Finally, we can compare estimates to the truth"
   ]
  },
  {
   "cell_type": "code",
   "execution_count": 15,
   "metadata": {},
   "outputs": [],
   "source": [
    "# Compute true parameters\n",
    "true_A1 = np.expand_dims(sim_data_unobserved.groupby('l1')['alpha1'].mean().to_numpy(), 1) + np.tile(sim_data_unobserved.groupby('k1')['psi1'].mean().to_numpy(), (nl, 1))\n",
    "true_A2 = np.expand_dims(sim_data_unobserved.groupby('l2')['alpha2'].mean().to_numpy(), 1) + np.tile(sim_data_unobserved.groupby('k2')['psi2'].mean().to_numpy(), (nl, 1))\n",
    "\n",
    "# Sort estimated parameters (this is because the firm type order generated by clustering is random - this is automatically handled in the built-in plotting functions)\n",
    "A1, A2 = blm_model._sort_parameters(blm_model.A1, blm_model.A2, sort_firm_types=True)"
   ]
  },
  {
   "cell_type": "code",
   "execution_count": 16,
   "metadata": {},
   "outputs": [
    {
     "data": {
      "image/png": "[encoded data removed]",
      "text/plain": [
       "<Figure size 432x288 with 1 Axes>"
      ]
     },
     "metadata": {
      "needs_background": "light"
     },
     "output_type": "display_data"
    }
   ],
   "source": [
    "plt.plot(true_A1.flatten(), A1.flatten(), '.', label='A1', color='red')\n",
    "plt.plot(true_A2.flatten(), A2.flatten(), '.', label='A2', color='green')\n",
    "plt.xlabel('Truth')\n",
    "plt.ylabel('Estimate')\n",
    "plt.legend()\n",
    "plt.grid()\n",
    "plt.show()"
   ]
  },
  {
   "cell_type": "markdown",
   "metadata": {},
   "source": [
    "## Bootstrapped errors\n",
    "\n",
    "The package contains the class `BLMBootstrap`, which allows for the construction of bootstrapped error bars.\n",
    "\n",
    "In this example, we use the same simulated data and estimation parameters as in the previous example."
   ]
  },
  {
   "cell_type": "code",
   "execution_count": null,
   "metadata": {},
   "outputs": [],
   "source": [
    "# Initialize BLM bootstrap estimator\n",
    "blm_fit = tw.BLMBootstrap(blm_params)\n",
    "# Fit BLM estimator\n",
    "blm_fit.fit(\n",
    "    jdata=jdata, sdata=sdata,\n",
    "    blm_model=blm_model,\n",
    "    n_samples=20,\n",
    "    cluster_params=cluster_params,\n",
    "    ncore=8,\n",
    "    verbose=False\n",
    ")"
   ]
  },
  {
   "cell_type": "markdown",
   "metadata": {},
   "source": [
    "## Now we can investigate the results"
   ]
  },
  {
   "cell_type": "code",
   "execution_count": 18,
   "metadata": {},
   "outputs": [
    {
     "data": {
      "image/png": "[encoded data removed]",
      "text/plain": [
       "<Figure size 432x288 with 1 Axes>"
      ]
     },
     "metadata": {
      "needs_background": "light"
     },
     "output_type": "display_data"
    }
   ],
   "source": [
    "blm_fit.plot_log_earnings()"
   ]
  },
  {
   "cell_type": "code",
   "execution_count": 19,
   "metadata": {},
   "outputs": [
    {
     "data": {
      "image/png": "[encoded data removed]",
      "text/plain": [
       "<Figure size 432x288 with 1 Axes>"
      ]
     },
     "metadata": {
      "needs_background": "light"
     },
     "output_type": "display_data"
    }
   ],
   "source": [
    "blm_fit.plot_type_proportions()"
   ]
  },
  {
   "cell_type": "markdown",
   "metadata": {},
   "source": [
    "## Control variables\n",
    "\n",
    "<div class=\"alert alert-info\">\n",
    "\n",
    "Hint\n",
    "\n",
    "Check out how to add custom columns to your BipartitePandas DataFrame [here](https://tlamadon.github.io/bipartitepandas/notebooks/custom_columns.html#)! If you don't add custom columns properly, they may not be handled during data cleaning and estimation how you want and/or expect!\n",
    "\n",
    "</div>\n",
    "\n",
    "## Simulating data with controls\n",
    "\n",
    "The package contains functions to simulate data from the BLM dgp. We use this here to see how to use control variables.\n",
    "\n",
    "In this example, we simulate a categorical, non-stationary, non-worker-type-interaction control variable. We use a low variance to ensure stability of the estimator.\n",
    "\n",
    "## Check out simulation parameter options\n",
    "\n",
    "Do this by running:\n",
    "\n",
    "- Simulating Categorical Controls - `tw.sim_categorical_control_params().describe_all()`\n",
    "\n",
    "- Simulating Continuous Controls - `tw.sim_continuous_control_params().describe_all()`\n",
    "\n",
    "Alternatively, run `x_params().keys()` to view all the keys for a parameter dictionary, then `x_params().describe(key)` to get a description for a single key."
   ]
  },
  {
   "cell_type": "markdown",
   "metadata": {},
   "source": [
    "## Set simulation parameter choices"
   ]
  },
  {
   "cell_type": "code",
   "execution_count": 20,
   "metadata": {},
   "outputs": [],
   "source": [
    "n_control = 2 # Number of types for control variable\n",
    "\n",
    "sim_cat_params = tw.sim_categorical_control_params({\n",
    "    'n': n_control,\n",
    "    'stationary_A': False, 'stationary_S': False,\n",
    "    'worker_type_interaction': False,\n",
    "    'a1_mu': -0.5, 'a1_sig': 0.25, 'a2_mu': 0.5, 'a2_sig': 0.25,\n",
    "    's1_low': 0, 's1_high': 0.01, 's2_low': 0, 's2_high': 0.01\n",
    "})\n",
    "sim_cts_params = tw.sim_continuous_control_params({\n",
    "    'stationary_A': True, 'stationary_S': True,\n",
    "    'worker_type_interaction': True,\n",
    "    'a1_mu': -0.15, 'a1_sig': 0.05, 'a2_mu': 0.15, 'a2_sig': 0.05,\n",
    "    's1_low': 0, 's1_high': 0.01, 's2_low': 0, 's2_high': 0.01\n",
    "})\n",
    "sim_blm_params = tw.sim_blm_params({\n",
    "    'nl': nl, 'nk': nk,\n",
    "    'a1_mu': -2, 'a1_sig': 0.25, 'a2_mu': 2, 'a2_sig': 0.25,\n",
    "    's1_low': 0, 's1_high': 0.01, 's2_low': 0, 's2_high': 0.01,\n",
    "    'categorical_controls': {'cat_control': sim_cat_params},\n",
    "    'continuous_controls': {'cts_control': sim_cts_params}\n",
    "})"
   ]
  },
  {
   "cell_type": "markdown",
   "metadata": {},
   "source": [
    "## Estimating control variables\n",
    "\n",
    "PyTwoWay allows for categorical and continuous control variables.\n",
    "\n",
    "### Categorical\n",
    "\n",
    "To define a categorical control variable, construct an instance of the parameter dictionary `tw.categorical_control_params()`.\n",
    "\n",
    "Then, inside an instance of `blm_params()`, link the key `'categorical_controls'` to a dictionary linking column names to their associated parameter dictionaries.\n",
    "\n",
    "### Continuous\n",
    "\n",
    "To define a continuous control variable, construct an instance of the parameter dictionary `tw.continuous_control_params()`.\n",
    "\n",
    "Then, inside an instance of `blm_params()`, link the key `'continuous_controls'` to a dictionary linking column names to their associated parameter dictionaries.\n",
    "\n",
    "### Constraints\n",
    "\n",
    "Constraints can be specified for control variables. They are set through the `cons_a` and `cons_s` keys for a given control variable's parameter dictionary, except for `NoWorkerTypeInteraction()`. Constraint options are:\n",
    "- `Linear()` - for a fixed firm type, worker types effects must change linearly\n",
    "- `Monotonic()` - for a fixed firm type, worker types effects must increase (or decrease) monotonically\n",
    "- `NoWorkerTypeInteraction()` - for a fixed firm type, worker types effects must all be the same\n",
    "- `Stationary()` - worker-firm pair effects are the same in all periods\n",
    "- `StationaryFirmTypeVariation()` - firm type induced variation of worker-firm pair effects is the same in all periods. In particular, this is equivalent to setting `A2 = (np.mean(A2, axis=1) + A1.T - np.mean(A1, axis=1)).T`.\n",
    "- `BoundedBelow()` - worker-firm pair effects are bounded below\n",
    "- `BoundedAbove()` - worker-firm pair effects are bounded above\n",
    "\n",
    "`NoWorkerTypeInteraction()` is not specified through the `cons_a` and `cons_s` keys. Instead, if you want a control variable to interact with the unobserved worker types, this can be specified by setting `worker_type_interaction=True` in the control variable's parameter dictionary.\n",
    "\n",
    "<div class=\"alert alert-warning\">\n",
    "\n",
    "Warning\n",
    "\n",
    "Be careful when adding constraints to categorical control variables (note that not interacting with worker types requires constraints). Because categorical control variables require normalization, the choice of how to normalize can alter parameter estimates. This may raise a warning if the normalization gets stuck in a cycle of changing how to normalize every loop and the estimator is not converging. The estimator will work if you set `force_min_firm_type=True` in your BLM parameter dictionary - the warning will also provide a reminder of this option.\n",
    "\n",
    "</div>\n",
    "\n",
    "## Check out estimation parameter options\n",
    "\n",
    "Do this by running:\n",
    "\n",
    "- Estimating Categorical Controls - `tw.categorical_control_params().describe_all()`\n",
    "\n",
    "- Estimating Continuous Controls - `tw.continuous_control_params().describe_all()`\n",
    "\n",
    "Alternatively, run `x_params().keys()` to view all the keys for a parameter dictionary, then `x_params().describe(key)` to get a description for a single key."
   ]
  },
  {
   "cell_type": "markdown",
   "metadata": {},
   "source": [
    "## Set estimation parameter choices"
   ]
  },
  {
   "cell_type": "code",
   "execution_count": 21,
   "metadata": {},
   "outputs": [],
   "source": [
    "cat_params = tw.categorical_control_params({\n",
    "    'n': n_control,\n",
    "    'worker_type_interaction': False,\n",
    "    'cons_a': None, 'cons_s': None,\n",
    "    'a1_mu': -0.5, 'a1_sig': 0.25, 'a2_mu': 0.5, 'a2_sig': 0.25,\n",
    "    's1_low': 0, 's1_high': 0.01, 's2_low': 0, 's2_high': 0.01\n",
    "})\n",
    "cts_params = tw.continuous_control_params({\n",
    "    'worker_type_interaction': True,\n",
    "    'cons_a': cons.Stationary(), 'cons_s': cons.Stationary(),\n",
    "    'a1_mu': -0.15, 'a1_sig': 0.05, 'a2_mu': 0.15, 'a2_sig': 0.05,\n",
    "    's1_low': 0, 's1_high': 0.01, 's2_low': 0, 's2_high': 0.01\n",
    "})\n",
    "blm_params = tw.blm_params({\n",
    "    'nl': nl, 'nk': nk,\n",
    "    'a1_mu': -2, 'a1_sig': 0.25, 'a2_mu': 2, 'a2_sig': 0.25,\n",
    "    's1_low': 0, 's1_high': 0.01, 's2_low': 0, 's2_high': 0.01,\n",
    "    'categorical_controls': {'cat_control': cat_params},\n",
    "    'continuous_controls': {'cts_control': cts_params},\n",
    "    'force_min_firm_type': True\n",
    "})"
   ]
  },
  {
   "cell_type": "markdown",
   "metadata": {},
   "source": [
    "## Simulate data\n",
    "\n",
    "`sim_data` gives a dictionary where the key `'jdata'` gives simulated mover data and the key `'sdata'` gives simulated stayer data.\n",
    "\n",
    "`sim_params` gives a dictionary that links each type of control variable to the simulated parameter values for that type."
   ]
  },
  {
   "cell_type": "code",
   "execution_count": 22,
   "metadata": {},
   "outputs": [],
   "source": [
    "blm_true = tw.SimBLM(sim_blm_params)\n",
    "sim_data, sim_params = blm_true.simulate(return_parameters=True)\n",
    "jdata, sdata = sim_data['jdata'], sim_data['sdata']"
   ]
  },
  {
   "cell_type": "code",
   "execution_count": 23,
   "metadata": {},
   "outputs": [
    {
     "name": "stdout",
     "output_type": "stream",
     "text": [
      "Movers data\n"
     ]
    },
    {
     "data": {
      "text/html": [
       "<div>\n",
       "<style scoped>\n",
       "    .dataframe tbody tr th:only-of-type {\n",
       "        vertical-align: middle;\n",
       "    }\n",
       "\n",
       "    .dataframe tbody tr th {\n",
       "        vertical-align: top;\n",
       "    }\n",
       "\n",
       "    .dataframe thead th {\n",
       "        text-align: right;\n",
       "    }\n",
       "</style>\n",
       "<table border=\"1\" class=\"dataframe\">\n",
       "  <thead>\n",
       "    <tr style=\"text-align: right;\">\n",
       "      <th></th>\n",
       "      <th>i</th>\n",
       "      <th>j1</th>\n",
       "      <th>j2</th>\n",
       "      <th>y1</th>\n",
       "      <th>y2</th>\n",
       "      <th>g1</th>\n",
       "      <th>g2</th>\n",
       "      <th>m</th>\n",
       "      <th>cat_control1</th>\n",
       "      <th>cat_control2</th>\n",
       "      <th>cts_control1</th>\n",
       "      <th>cts_control2</th>\n",
       "      <th>l</th>\n",
       "    </tr>\n",
       "  </thead>\n",
       "  <tbody>\n",
       "    <tr>\n",
       "      <th>0</th>\n",
       "      <td>0</td>\n",
       "      <td>0</td>\n",
       "      <td>1</td>\n",
       "      <td>-1.405170</td>\n",
       "      <td>2.884550</td>\n",
       "      <td>0</td>\n",
       "      <td>0</td>\n",
       "      <td>1</td>\n",
       "      <td>0</td>\n",
       "      <td>1</td>\n",
       "      <td>-1.597127</td>\n",
       "      <td>-0.863375</td>\n",
       "      <td>1</td>\n",
       "    </tr>\n",
       "    <tr>\n",
       "      <th>1</th>\n",
       "      <td>1</td>\n",
       "      <td>0</td>\n",
       "      <td>1</td>\n",
       "      <td>-2.944559</td>\n",
       "      <td>2.699658</td>\n",
       "      <td>0</td>\n",
       "      <td>0</td>\n",
       "      <td>1</td>\n",
       "      <td>1</td>\n",
       "      <td>1</td>\n",
       "      <td>0.418682</td>\n",
       "      <td>0.439516</td>\n",
       "      <td>1</td>\n",
       "    </tr>\n",
       "    <tr>\n",
       "      <th>2</th>\n",
       "      <td>2</td>\n",
       "      <td>1</td>\n",
       "      <td>0</td>\n",
       "      <td>-1.283777</td>\n",
       "      <td>2.810403</td>\n",
       "      <td>0</td>\n",
       "      <td>0</td>\n",
       "      <td>1</td>\n",
       "      <td>0</td>\n",
       "      <td>1</td>\n",
       "      <td>-2.397280</td>\n",
       "      <td>-0.507434</td>\n",
       "      <td>1</td>\n",
       "    </tr>\n",
       "    <tr>\n",
       "      <th>3</th>\n",
       "      <td>3</td>\n",
       "      <td>0</td>\n",
       "      <td>1</td>\n",
       "      <td>-2.674142</td>\n",
       "      <td>2.781658</td>\n",
       "      <td>0</td>\n",
       "      <td>0</td>\n",
       "      <td>1</td>\n",
       "      <td>1</td>\n",
       "      <td>1</td>\n",
       "      <td>-1.445132</td>\n",
       "      <td>-0.133028</td>\n",
       "      <td>1</td>\n",
       "    </tr>\n",
       "    <tr>\n",
       "      <th>4</th>\n",
       "      <td>4</td>\n",
       "      <td>0</td>\n",
       "      <td>1</td>\n",
       "      <td>-2.810683</td>\n",
       "      <td>2.110046</td>\n",
       "      <td>0</td>\n",
       "      <td>0</td>\n",
       "      <td>1</td>\n",
       "      <td>1</td>\n",
       "      <td>0</td>\n",
       "      <td>-0.464561</td>\n",
       "      <td>1.254681</td>\n",
       "      <td>1</td>\n",
       "    </tr>\n",
       "    <tr>\n",
       "      <th>...</th>\n",
       "      <td>...</td>\n",
       "      <td>...</td>\n",
       "      <td>...</td>\n",
       "      <td>...</td>\n",
       "      <td>...</td>\n",
       "      <td>...</td>\n",
       "      <td>...</td>\n",
       "      <td>...</td>\n",
       "      <td>...</td>\n",
       "      <td>...</td>\n",
       "      <td>...</td>\n",
       "      <td>...</td>\n",
       "      <td>...</td>\n",
       "    </tr>\n",
       "    <tr>\n",
       "      <th>155</th>\n",
       "      <td>155</td>\n",
       "      <td>7</td>\n",
       "      <td>6</td>\n",
       "      <td>-1.076676</td>\n",
       "      <td>1.609433</td>\n",
       "      <td>3</td>\n",
       "      <td>3</td>\n",
       "      <td>1</td>\n",
       "      <td>0</td>\n",
       "      <td>0</td>\n",
       "      <td>-0.801424</td>\n",
       "      <td>1.277516</td>\n",
       "      <td>2</td>\n",
       "    </tr>\n",
       "    <tr>\n",
       "      <th>156</th>\n",
       "      <td>156</td>\n",
       "      <td>6</td>\n",
       "      <td>7</td>\n",
       "      <td>-2.718684</td>\n",
       "      <td>1.932711</td>\n",
       "      <td>3</td>\n",
       "      <td>3</td>\n",
       "      <td>1</td>\n",
       "      <td>1</td>\n",
       "      <td>0</td>\n",
       "      <td>0.094787</td>\n",
       "      <td>-0.568200</td>\n",
       "      <td>0</td>\n",
       "    </tr>\n",
       "    <tr>\n",
       "      <th>157</th>\n",
       "      <td>157</td>\n",
       "      <td>6</td>\n",
       "      <td>7</td>\n",
       "      <td>-2.753058</td>\n",
       "      <td>1.655190</td>\n",
       "      <td>3</td>\n",
       "      <td>3</td>\n",
       "      <td>1</td>\n",
       "      <td>1</td>\n",
       "      <td>0</td>\n",
       "      <td>0.292111</td>\n",
       "      <td>1.155452</td>\n",
       "      <td>0</td>\n",
       "    </tr>\n",
       "    <tr>\n",
       "      <th>158</th>\n",
       "      <td>158</td>\n",
       "      <td>6</td>\n",
       "      <td>7</td>\n",
       "      <td>-2.889319</td>\n",
       "      <td>2.357755</td>\n",
       "      <td>3</td>\n",
       "      <td>3</td>\n",
       "      <td>1</td>\n",
       "      <td>1</td>\n",
       "      <td>1</td>\n",
       "      <td>1.194183</td>\n",
       "      <td>-0.255207</td>\n",
       "      <td>0</td>\n",
       "    </tr>\n",
       "    <tr>\n",
       "      <th>159</th>\n",
       "      <td>159</td>\n",
       "      <td>7</td>\n",
       "      <td>6</td>\n",
       "      <td>-1.292902</td>\n",
       "      <td>2.245363</td>\n",
       "      <td>3</td>\n",
       "      <td>3</td>\n",
       "      <td>1</td>\n",
       "      <td>0</td>\n",
       "      <td>0</td>\n",
       "      <td>0.035616</td>\n",
       "      <td>1.193493</td>\n",
       "      <td>1</td>\n",
       "    </tr>\n",
       "  </tbody>\n",
       "</table>\n",
       "<p>160 rows × 13 columns</p>\n",
       "</div>"
      ],
      "text/plain": [
       "       i  j1  j2        y1        y2  g1  g2  m  cat_control1  cat_control2  \\\n",
       "0      0   0   1 -1.405170  2.884550   0   0  1             0             1   \n",
       "1      1   0   1 -2.944559  2.699658   0   0  1             1             1   \n",
       "2      2   1   0 -1.283777  2.810403   0   0  1             0             1   \n",
       "3      3   0   1 -2.674142  2.781658   0   0  1             1             1   \n",
       "4      4   0   1 -2.810683  2.110046   0   0  1             1             0   \n",
       "..   ...  ..  ..       ...       ...  ..  .. ..           ...           ...   \n",
       "155  155   7   6 -1.076676  1.609433   3   3  1             0             0   \n",
       "156  156   6   7 -2.718684  1.932711   3   3  1             1             0   \n",
       "157  157   6   7 -2.753058  1.655190   3   3  1             1             0   \n",
       "158  158   6   7 -2.889319  2.357755   3   3  1             1             1   \n",
       "159  159   7   6 -1.292902  2.245363   3   3  1             0             0   \n",
       "\n",
       "     cts_control1  cts_control2  l  \n",
       "0       -1.597127     -0.863375  1  \n",
       "1        0.418682      0.439516  1  \n",
       "2       -2.397280     -0.507434  1  \n",
       "3       -1.445132     -0.133028  1  \n",
       "4       -0.464561      1.254681  1  \n",
       "..            ...           ... ..  \n",
       "155     -0.801424      1.277516  2  \n",
       "156      0.094787     -0.568200  0  \n",
       "157      0.292111      1.155452  0  \n",
       "158      1.194183     -0.255207  0  \n",
       "159      0.035616      1.193493  1  \n",
       "\n",
       "[160 rows x 13 columns]"
      ]
     },
     "metadata": {},
     "output_type": "display_data"
    },
    {
     "name": "stdout",
     "output_type": "stream",
     "text": [
      "Stayers data\n"
     ]
    },
    {
     "data": {
      "text/html": [
       "<div>\n",
       "<style scoped>\n",
       "    .dataframe tbody tr th:only-of-type {\n",
       "        vertical-align: middle;\n",
       "    }\n",
       "\n",
       "    .dataframe tbody tr th {\n",
       "        vertical-align: top;\n",
       "    }\n",
       "\n",
       "    .dataframe thead th {\n",
       "        text-align: right;\n",
       "    }\n",
       "</style>\n",
       "<table border=\"1\" class=\"dataframe\">\n",
       "  <thead>\n",
       "    <tr style=\"text-align: right;\">\n",
       "      <th></th>\n",
       "      <th>i</th>\n",
       "      <th>j1</th>\n",
       "      <th>j2</th>\n",
       "      <th>y1</th>\n",
       "      <th>y2</th>\n",
       "      <th>g1</th>\n",
       "      <th>g2</th>\n",
       "      <th>m</th>\n",
       "      <th>cat_control1</th>\n",
       "      <th>cat_control2</th>\n",
       "      <th>cts_control1</th>\n",
       "      <th>cts_control2</th>\n",
       "      <th>l</th>\n",
       "    </tr>\n",
       "  </thead>\n",
       "  <tbody>\n",
       "    <tr>\n",
       "      <th>0</th>\n",
       "      <td>160</td>\n",
       "      <td>0</td>\n",
       "      <td>0</td>\n",
       "      <td>-3.065299</td>\n",
       "      <td>2.939253</td>\n",
       "      <td>0</td>\n",
       "      <td>0</td>\n",
       "      <td>0</td>\n",
       "      <td>1</td>\n",
       "      <td>1</td>\n",
       "      <td>1.280102</td>\n",
       "      <td>-1.276638</td>\n",
       "      <td>1</td>\n",
       "    </tr>\n",
       "    <tr>\n",
       "      <th>1</th>\n",
       "      <td>161</td>\n",
       "      <td>1</td>\n",
       "      <td>1</td>\n",
       "      <td>-3.308012</td>\n",
       "      <td>1.882332</td>\n",
       "      <td>0</td>\n",
       "      <td>0</td>\n",
       "      <td>0</td>\n",
       "      <td>1</td>\n",
       "      <td>0</td>\n",
       "      <td>0.673731</td>\n",
       "      <td>0.978745</td>\n",
       "      <td>2</td>\n",
       "    </tr>\n",
       "    <tr>\n",
       "      <th>2</th>\n",
       "      <td>162</td>\n",
       "      <td>1</td>\n",
       "      <td>1</td>\n",
       "      <td>-2.048957</td>\n",
       "      <td>2.500295</td>\n",
       "      <td>0</td>\n",
       "      <td>0</td>\n",
       "      <td>0</td>\n",
       "      <td>0</td>\n",
       "      <td>1</td>\n",
       "      <td>0.188291</td>\n",
       "      <td>-0.354548</td>\n",
       "      <td>0</td>\n",
       "    </tr>\n",
       "    <tr>\n",
       "      <th>3</th>\n",
       "      <td>163</td>\n",
       "      <td>1</td>\n",
       "      <td>1</td>\n",
       "      <td>-1.647712</td>\n",
       "      <td>3.035064</td>\n",
       "      <td>0</td>\n",
       "      <td>0</td>\n",
       "      <td>0</td>\n",
       "      <td>0</td>\n",
       "      <td>1</td>\n",
       "      <td>0.224408</td>\n",
       "      <td>-1.773956</td>\n",
       "      <td>1</td>\n",
       "    </tr>\n",
       "    <tr>\n",
       "      <th>4</th>\n",
       "      <td>164</td>\n",
       "      <td>0</td>\n",
       "      <td>0</td>\n",
       "      <td>-1.753908</td>\n",
       "      <td>2.028478</td>\n",
       "      <td>0</td>\n",
       "      <td>0</td>\n",
       "      <td>0</td>\n",
       "      <td>0</td>\n",
       "      <td>0</td>\n",
       "      <td>-0.307819</td>\n",
       "      <td>0.595909</td>\n",
       "      <td>2</td>\n",
       "    </tr>\n",
       "    <tr>\n",
       "      <th>5</th>\n",
       "      <td>165</td>\n",
       "      <td>1</td>\n",
       "      <td>1</td>\n",
       "      <td>-1.838391</td>\n",
       "      <td>3.205352</td>\n",
       "      <td>0</td>\n",
       "      <td>0</td>\n",
       "      <td>0</td>\n",
       "      <td>0</td>\n",
       "      <td>1</td>\n",
       "      <td>-0.034964</td>\n",
       "      <td>-1.680496</td>\n",
       "      <td>2</td>\n",
       "    </tr>\n",
       "    <tr>\n",
       "      <th>6</th>\n",
       "      <td>166</td>\n",
       "      <td>0</td>\n",
       "      <td>0</td>\n",
       "      <td>-1.825758</td>\n",
       "      <td>2.394916</td>\n",
       "      <td>0</td>\n",
       "      <td>0</td>\n",
       "      <td>0</td>\n",
       "      <td>0</td>\n",
       "      <td>1</td>\n",
       "      <td>-0.045699</td>\n",
       "      <td>0.869568</td>\n",
       "      <td>2</td>\n",
       "    </tr>\n",
       "    <tr>\n",
       "      <th>7</th>\n",
       "      <td>167</td>\n",
       "      <td>0</td>\n",
       "      <td>0</td>\n",
       "      <td>-3.162265</td>\n",
       "      <td>3.055979</td>\n",
       "      <td>0</td>\n",
       "      <td>0</td>\n",
       "      <td>0</td>\n",
       "      <td>1</td>\n",
       "      <td>1</td>\n",
       "      <td>0.174373</td>\n",
       "      <td>-1.324212</td>\n",
       "      <td>2</td>\n",
       "    </tr>\n",
       "    <tr>\n",
       "      <th>8</th>\n",
       "      <td>168</td>\n",
       "      <td>0</td>\n",
       "      <td>0</td>\n",
       "      <td>-2.035432</td>\n",
       "      <td>2.368199</td>\n",
       "      <td>0</td>\n",
       "      <td>0</td>\n",
       "      <td>0</td>\n",
       "      <td>0</td>\n",
       "      <td>1</td>\n",
       "      <td>0.227607</td>\n",
       "      <td>0.600801</td>\n",
       "      <td>0</td>\n",
       "    </tr>\n",
       "    <tr>\n",
       "      <th>9</th>\n",
       "      <td>169</td>\n",
       "      <td>0</td>\n",
       "      <td>0</td>\n",
       "      <td>-2.933966</td>\n",
       "      <td>2.556052</td>\n",
       "      <td>0</td>\n",
       "      <td>0</td>\n",
       "      <td>0</td>\n",
       "      <td>1</td>\n",
       "      <td>1</td>\n",
       "      <td>0.343777</td>\n",
       "      <td>1.315978</td>\n",
       "      <td>1</td>\n",
       "    </tr>\n",
       "    <tr>\n",
       "      <th>10</th>\n",
       "      <td>170</td>\n",
       "      <td>2</td>\n",
       "      <td>2</td>\n",
       "      <td>-1.441650</td>\n",
       "      <td>2.437222</td>\n",
       "      <td>1</td>\n",
       "      <td>1</td>\n",
       "      <td>0</td>\n",
       "      <td>0</td>\n",
       "      <td>1</td>\n",
       "      <td>-0.352137</td>\n",
       "      <td>-0.029504</td>\n",
       "      <td>1</td>\n",
       "    </tr>\n",
       "    <tr>\n",
       "      <th>11</th>\n",
       "      <td>171</td>\n",
       "      <td>3</td>\n",
       "      <td>3</td>\n",
       "      <td>-1.681946</td>\n",
       "      <td>2.603666</td>\n",
       "      <td>1</td>\n",
       "      <td>1</td>\n",
       "      <td>0</td>\n",
       "      <td>0</td>\n",
       "      <td>1</td>\n",
       "      <td>0.797169</td>\n",
       "      <td>-0.100233</td>\n",
       "      <td>0</td>\n",
       "    </tr>\n",
       "    <tr>\n",
       "      <th>12</th>\n",
       "      <td>172</td>\n",
       "      <td>3</td>\n",
       "      <td>3</td>\n",
       "      <td>-1.446450</td>\n",
       "      <td>2.115750</td>\n",
       "      <td>1</td>\n",
       "      <td>1</td>\n",
       "      <td>0</td>\n",
       "      <td>0</td>\n",
       "      <td>0</td>\n",
       "      <td>-0.856424</td>\n",
       "      <td>-0.023039</td>\n",
       "      <td>0</td>\n",
       "    </tr>\n",
       "    <tr>\n",
       "      <th>13</th>\n",
       "      <td>173</td>\n",
       "      <td>3</td>\n",
       "      <td>3</td>\n",
       "      <td>-3.140376</td>\n",
       "      <td>2.507038</td>\n",
       "      <td>1</td>\n",
       "      <td>1</td>\n",
       "      <td>0</td>\n",
       "      <td>1</td>\n",
       "      <td>1</td>\n",
       "      <td>2.209182</td>\n",
       "      <td>0.660209</td>\n",
       "      <td>0</td>\n",
       "    </tr>\n",
       "    <tr>\n",
       "      <th>14</th>\n",
       "      <td>174</td>\n",
       "      <td>2</td>\n",
       "      <td>2</td>\n",
       "      <td>-2.743617</td>\n",
       "      <td>2.046139</td>\n",
       "      <td>1</td>\n",
       "      <td>1</td>\n",
       "      <td>0</td>\n",
       "      <td>1</td>\n",
       "      <td>0</td>\n",
       "      <td>0.038795</td>\n",
       "      <td>-0.846242</td>\n",
       "      <td>1</td>\n",
       "    </tr>\n",
       "    <tr>\n",
       "      <th>15</th>\n",
       "      <td>175</td>\n",
       "      <td>3</td>\n",
       "      <td>3</td>\n",
       "      <td>-1.253390</td>\n",
       "      <td>1.997722</td>\n",
       "      <td>1</td>\n",
       "      <td>1</td>\n",
       "      <td>0</td>\n",
       "      <td>0</td>\n",
       "      <td>0</td>\n",
       "      <td>-1.620871</td>\n",
       "      <td>-0.369944</td>\n",
       "      <td>1</td>\n",
       "    </tr>\n",
       "    <tr>\n",
       "      <th>16</th>\n",
       "      <td>176</td>\n",
       "      <td>3</td>\n",
       "      <td>3</td>\n",
       "      <td>-2.042038</td>\n",
       "      <td>1.745926</td>\n",
       "      <td>1</td>\n",
       "      <td>1</td>\n",
       "      <td>0</td>\n",
       "      <td>1</td>\n",
       "      <td>0</td>\n",
       "      <td>-1.510300</td>\n",
       "      <td>0.903805</td>\n",
       "      <td>2</td>\n",
       "    </tr>\n",
       "    <tr>\n",
       "      <th>17</th>\n",
       "      <td>177</td>\n",
       "      <td>3</td>\n",
       "      <td>3</td>\n",
       "      <td>-1.678088</td>\n",
       "      <td>2.148858</td>\n",
       "      <td>1</td>\n",
       "      <td>1</td>\n",
       "      <td>0</td>\n",
       "      <td>0</td>\n",
       "      <td>0</td>\n",
       "      <td>0.876064</td>\n",
       "      <td>-0.305209</td>\n",
       "      <td>0</td>\n",
       "    </tr>\n",
       "    <tr>\n",
       "      <th>18</th>\n",
       "      <td>178</td>\n",
       "      <td>2</td>\n",
       "      <td>2</td>\n",
       "      <td>-1.539851</td>\n",
       "      <td>2.806150</td>\n",
       "      <td>1</td>\n",
       "      <td>1</td>\n",
       "      <td>0</td>\n",
       "      <td>0</td>\n",
       "      <td>1</td>\n",
       "      <td>-0.193820</td>\n",
       "      <td>-1.547240</td>\n",
       "      <td>0</td>\n",
       "    </tr>\n",
       "    <tr>\n",
       "      <th>19</th>\n",
       "      <td>179</td>\n",
       "      <td>2</td>\n",
       "      <td>2</td>\n",
       "      <td>-1.484411</td>\n",
       "      <td>2.540243</td>\n",
       "      <td>1</td>\n",
       "      <td>1</td>\n",
       "      <td>0</td>\n",
       "      <td>0</td>\n",
       "      <td>1</td>\n",
       "      <td>0.029680</td>\n",
       "      <td>-0.694832</td>\n",
       "      <td>1</td>\n",
       "    </tr>\n",
       "    <tr>\n",
       "      <th>20</th>\n",
       "      <td>180</td>\n",
       "      <td>5</td>\n",
       "      <td>5</td>\n",
       "      <td>-1.145073</td>\n",
       "      <td>1.938436</td>\n",
       "      <td>2</td>\n",
       "      <td>2</td>\n",
       "      <td>0</td>\n",
       "      <td>0</td>\n",
       "      <td>1</td>\n",
       "      <td>0.448419</td>\n",
       "      <td>1.062856</td>\n",
       "      <td>2</td>\n",
       "    </tr>\n",
       "    <tr>\n",
       "      <th>21</th>\n",
       "      <td>181</td>\n",
       "      <td>5</td>\n",
       "      <td>5</td>\n",
       "      <td>-1.976578</td>\n",
       "      <td>2.167116</td>\n",
       "      <td>2</td>\n",
       "      <td>2</td>\n",
       "      <td>0</td>\n",
       "      <td>0</td>\n",
       "      <td>0</td>\n",
       "      <td>0.051553</td>\n",
       "      <td>0.623657</td>\n",
       "      <td>0</td>\n",
       "    </tr>\n",
       "    <tr>\n",
       "      <th>22</th>\n",
       "      <td>182</td>\n",
       "      <td>5</td>\n",
       "      <td>5</td>\n",
       "      <td>-2.248826</td>\n",
       "      <td>2.782804</td>\n",
       "      <td>2</td>\n",
       "      <td>2</td>\n",
       "      <td>0</td>\n",
       "      <td>1</td>\n",
       "      <td>1</td>\n",
       "      <td>-0.069256</td>\n",
       "      <td>-1.654039</td>\n",
       "      <td>2</td>\n",
       "    </tr>\n",
       "    <tr>\n",
       "      <th>23</th>\n",
       "      <td>183</td>\n",
       "      <td>4</td>\n",
       "      <td>4</td>\n",
       "      <td>-3.381418</td>\n",
       "      <td>2.342920</td>\n",
       "      <td>2</td>\n",
       "      <td>2</td>\n",
       "      <td>0</td>\n",
       "      <td>1</td>\n",
       "      <td>0</td>\n",
       "      <td>0.835689</td>\n",
       "      <td>-0.528370</td>\n",
       "      <td>0</td>\n",
       "    </tr>\n",
       "    <tr>\n",
       "      <th>24</th>\n",
       "      <td>184</td>\n",
       "      <td>5</td>\n",
       "      <td>5</td>\n",
       "      <td>-2.414065</td>\n",
       "      <td>1.897629</td>\n",
       "      <td>2</td>\n",
       "      <td>2</td>\n",
       "      <td>0</td>\n",
       "      <td>1</td>\n",
       "      <td>0</td>\n",
       "      <td>-0.123666</td>\n",
       "      <td>0.956612</td>\n",
       "      <td>1</td>\n",
       "    </tr>\n",
       "    <tr>\n",
       "      <th>25</th>\n",
       "      <td>185</td>\n",
       "      <td>4</td>\n",
       "      <td>4</td>\n",
       "      <td>-3.131777</td>\n",
       "      <td>2.884738</td>\n",
       "      <td>2</td>\n",
       "      <td>2</td>\n",
       "      <td>0</td>\n",
       "      <td>1</td>\n",
       "      <td>1</td>\n",
       "      <td>-0.767185</td>\n",
       "      <td>-0.904343</td>\n",
       "      <td>0</td>\n",
       "    </tr>\n",
       "    <tr>\n",
       "      <th>26</th>\n",
       "      <td>186</td>\n",
       "      <td>4</td>\n",
       "      <td>4</td>\n",
       "      <td>-3.342341</td>\n",
       "      <td>2.693796</td>\n",
       "      <td>2</td>\n",
       "      <td>2</td>\n",
       "      <td>0</td>\n",
       "      <td>1</td>\n",
       "      <td>1</td>\n",
       "      <td>0.726720</td>\n",
       "      <td>0.368079</td>\n",
       "      <td>0</td>\n",
       "    </tr>\n",
       "    <tr>\n",
       "      <th>27</th>\n",
       "      <td>187</td>\n",
       "      <td>5</td>\n",
       "      <td>5</td>\n",
       "      <td>-2.140324</td>\n",
       "      <td>2.530651</td>\n",
       "      <td>2</td>\n",
       "      <td>2</td>\n",
       "      <td>0</td>\n",
       "      <td>0</td>\n",
       "      <td>0</td>\n",
       "      <td>1.183305</td>\n",
       "      <td>-1.663274</td>\n",
       "      <td>0</td>\n",
       "    </tr>\n",
       "    <tr>\n",
       "      <th>28</th>\n",
       "      <td>188</td>\n",
       "      <td>4</td>\n",
       "      <td>4</td>\n",
       "      <td>-3.219936</td>\n",
       "      <td>2.662715</td>\n",
       "      <td>2</td>\n",
       "      <td>2</td>\n",
       "      <td>0</td>\n",
       "      <td>1</td>\n",
       "      <td>1</td>\n",
       "      <td>-0.267946</td>\n",
       "      <td>0.635036</td>\n",
       "      <td>0</td>\n",
       "    </tr>\n",
       "    <tr>\n",
       "      <th>29</th>\n",
       "      <td>189</td>\n",
       "      <td>4</td>\n",
       "      <td>4</td>\n",
       "      <td>-2.813351</td>\n",
       "      <td>2.204771</td>\n",
       "      <td>2</td>\n",
       "      <td>2</td>\n",
       "      <td>0</td>\n",
       "      <td>1</td>\n",
       "      <td>0</td>\n",
       "      <td>1.858780</td>\n",
       "      <td>-1.423794</td>\n",
       "      <td>2</td>\n",
       "    </tr>\n",
       "    <tr>\n",
       "      <th>30</th>\n",
       "      <td>190</td>\n",
       "      <td>6</td>\n",
       "      <td>6</td>\n",
       "      <td>-2.627046</td>\n",
       "      <td>2.341005</td>\n",
       "      <td>3</td>\n",
       "      <td>3</td>\n",
       "      <td>0</td>\n",
       "      <td>1</td>\n",
       "      <td>1</td>\n",
       "      <td>-0.732658</td>\n",
       "      <td>-0.174954</td>\n",
       "      <td>0</td>\n",
       "    </tr>\n",
       "    <tr>\n",
       "      <th>31</th>\n",
       "      <td>191</td>\n",
       "      <td>7</td>\n",
       "      <td>7</td>\n",
       "      <td>-1.475745</td>\n",
       "      <td>1.854227</td>\n",
       "      <td>3</td>\n",
       "      <td>3</td>\n",
       "      <td>0</td>\n",
       "      <td>0</td>\n",
       "      <td>0</td>\n",
       "      <td>0.085931</td>\n",
       "      <td>-0.259650</td>\n",
       "      <td>0</td>\n",
       "    </tr>\n",
       "    <tr>\n",
       "      <th>32</th>\n",
       "      <td>192</td>\n",
       "      <td>7</td>\n",
       "      <td>7</td>\n",
       "      <td>-1.372760</td>\n",
       "      <td>1.618090</td>\n",
       "      <td>3</td>\n",
       "      <td>3</td>\n",
       "      <td>0</td>\n",
       "      <td>0</td>\n",
       "      <td>0</td>\n",
       "      <td>0.247395</td>\n",
       "      <td>1.038758</td>\n",
       "      <td>2</td>\n",
       "    </tr>\n",
       "    <tr>\n",
       "      <th>33</th>\n",
       "      <td>193</td>\n",
       "      <td>6</td>\n",
       "      <td>6</td>\n",
       "      <td>-1.396256</td>\n",
       "      <td>1.879039</td>\n",
       "      <td>3</td>\n",
       "      <td>3</td>\n",
       "      <td>0</td>\n",
       "      <td>0</td>\n",
       "      <td>0</td>\n",
       "      <td>-0.298457</td>\n",
       "      <td>-0.415220</td>\n",
       "      <td>0</td>\n",
       "    </tr>\n",
       "    <tr>\n",
       "      <th>34</th>\n",
       "      <td>194</td>\n",
       "      <td>6</td>\n",
       "      <td>6</td>\n",
       "      <td>-1.349778</td>\n",
       "      <td>2.194202</td>\n",
       "      <td>3</td>\n",
       "      <td>3</td>\n",
       "      <td>0</td>\n",
       "      <td>0</td>\n",
       "      <td>1</td>\n",
       "      <td>-0.641476</td>\n",
       "      <td>0.840362</td>\n",
       "      <td>0</td>\n",
       "    </tr>\n",
       "    <tr>\n",
       "      <th>35</th>\n",
       "      <td>195</td>\n",
       "      <td>7</td>\n",
       "      <td>7</td>\n",
       "      <td>-1.435867</td>\n",
       "      <td>1.505834</td>\n",
       "      <td>3</td>\n",
       "      <td>3</td>\n",
       "      <td>0</td>\n",
       "      <td>0</td>\n",
       "      <td>0</td>\n",
       "      <td>0.455100</td>\n",
       "      <td>1.541480</td>\n",
       "      <td>2</td>\n",
       "    </tr>\n",
       "    <tr>\n",
       "      <th>36</th>\n",
       "      <td>196</td>\n",
       "      <td>6</td>\n",
       "      <td>6</td>\n",
       "      <td>-2.786497</td>\n",
       "      <td>1.745557</td>\n",
       "      <td>3</td>\n",
       "      <td>3</td>\n",
       "      <td>0</td>\n",
       "      <td>1</td>\n",
       "      <td>0</td>\n",
       "      <td>0.631748</td>\n",
       "      <td>0.769990</td>\n",
       "      <td>0</td>\n",
       "    </tr>\n",
       "    <tr>\n",
       "      <th>37</th>\n",
       "      <td>197</td>\n",
       "      <td>7</td>\n",
       "      <td>7</td>\n",
       "      <td>-1.450763</td>\n",
       "      <td>1.851792</td>\n",
       "      <td>3</td>\n",
       "      <td>3</td>\n",
       "      <td>0</td>\n",
       "      <td>0</td>\n",
       "      <td>0</td>\n",
       "      <td>-0.047915</td>\n",
       "      <td>-0.048053</td>\n",
       "      <td>0</td>\n",
       "    </tr>\n",
       "    <tr>\n",
       "      <th>38</th>\n",
       "      <td>198</td>\n",
       "      <td>6</td>\n",
       "      <td>6</td>\n",
       "      <td>-2.567547</td>\n",
       "      <td>1.749243</td>\n",
       "      <td>3</td>\n",
       "      <td>3</td>\n",
       "      <td>0</td>\n",
       "      <td>1</td>\n",
       "      <td>0</td>\n",
       "      <td>-0.018666</td>\n",
       "      <td>0.676466</td>\n",
       "      <td>2</td>\n",
       "    </tr>\n",
       "    <tr>\n",
       "      <th>39</th>\n",
       "      <td>199</td>\n",
       "      <td>7</td>\n",
       "      <td>7</td>\n",
       "      <td>-2.342840</td>\n",
       "      <td>2.728105</td>\n",
       "      <td>3</td>\n",
       "      <td>3</td>\n",
       "      <td>0</td>\n",
       "      <td>1</td>\n",
       "      <td>1</td>\n",
       "      <td>-1.548878</td>\n",
       "      <td>1.056820</td>\n",
       "      <td>1</td>\n",
       "    </tr>\n",
       "  </tbody>\n",
       "</table>\n",
       "</div>"
      ],
      "text/plain": [
       "      i  j1  j2        y1        y2  g1  g2  m  cat_control1  cat_control2  \\\n",
       "0   160   0   0 -3.065299  2.939253   0   0  0             1             1   \n",
       "1   161   1   1 -3.308012  1.882332   0   0  0             1             0   \n",
       "2   162   1   1 -2.048957  2.500295   0   0  0             0             1   \n",
       "3   163   1   1 -1.647712  3.035064   0   0  0             0             1   \n",
       "4   164   0   0 -1.753908  2.028478   0   0  0             0             0   \n",
       "5   165   1   1 -1.838391  3.205352   0   0  0             0             1   \n",
       "6   166   0   0 -1.825758  2.394916   0   0  0             0             1   \n",
       "7   167   0   0 -3.162265  3.055979   0   0  0             1             1   \n",
       "8   168   0   0 -2.035432  2.368199   0   0  0             0             1   \n",
       "9   169   0   0 -2.933966  2.556052   0   0  0             1             1   \n",
       "10  170   2   2 -1.441650  2.437222   1   1  0             0             1   \n",
       "11  171   3   3 -1.681946  2.603666   1   1  0             0             1   \n",
       "12  172   3   3 -1.446450  2.115750   1   1  0             0             0   \n",
       "13  173   3   3 -3.140376  2.507038   1   1  0             1             1   \n",
       "14  174   2   2 -2.743617  2.046139   1   1  0             1             0   \n",
       "15  175   3   3 -1.253390  1.997722   1   1  0             0             0   \n",
       "16  176   3   3 -2.042038  1.745926   1   1  0             1             0   \n",
       "17  177   3   3 -1.678088  2.148858   1   1  0             0             0   \n",
       "18  178   2   2 -1.539851  2.806150   1   1  0             0             1   \n",
       "19  179   2   2 -1.484411  2.540243   1   1  0             0             1   \n",
       "20  180   5   5 -1.145073  1.938436   2   2  0             0             1   \n",
       "21  181   5   5 -1.976578  2.167116   2   2  0             0             0   \n",
       "22  182   5   5 -2.248826  2.782804   2   2  0             1             1   \n",
       "23  183   4   4 -3.381418  2.342920   2   2  0             1             0   \n",
       "24  184   5   5 -2.414065  1.897629   2   2  0             1             0   \n",
       "25  185   4   4 -3.131777  2.884738   2   2  0             1             1   \n",
       "26  186   4   4 -3.342341  2.693796   2   2  0             1             1   \n",
       "27  187   5   5 -2.140324  2.530651   2   2  0             0             0   \n",
       "28  188   4   4 -3.219936  2.662715   2   2  0             1             1   \n",
       "29  189   4   4 -2.813351  2.204771   2   2  0             1             0   \n",
       "30  190   6   6 -2.627046  2.341005   3   3  0             1             1   \n",
       "31  191   7   7 -1.475745  1.854227   3   3  0             0             0   \n",
       "32  192   7   7 -1.372760  1.618090   3   3  0             0             0   \n",
       "33  193   6   6 -1.396256  1.879039   3   3  0             0             0   \n",
       "34  194   6   6 -1.349778  2.194202   3   3  0             0             1   \n",
       "35  195   7   7 -1.435867  1.505834   3   3  0             0             0   \n",
       "36  196   6   6 -2.786497  1.745557   3   3  0             1             0   \n",
       "37  197   7   7 -1.450763  1.851792   3   3  0             0             0   \n",
       "38  198   6   6 -2.567547  1.749243   3   3  0             1             0   \n",
       "39  199   7   7 -2.342840  2.728105   3   3  0             1             1   \n",
       "\n",
       "    cts_control1  cts_control2  l  \n",
       "0       1.280102     -1.276638  1  \n",
       "1       0.673731      0.978745  2  \n",
       "2       0.188291     -0.354548  0  \n",
       "3       0.224408     -1.773956  1  \n",
       "4      -0.307819      0.595909  2  \n",
       "5      -0.034964     -1.680496  2  \n",
       "6      -0.045699      0.869568  2  \n",
       "7       0.174373     -1.324212  2  \n",
       "8       0.227607      0.600801  0  \n",
       "9       0.343777      1.315978  1  \n",
       "10     -0.352137     -0.029504  1  \n",
       "11      0.797169     -0.100233  0  \n",
       "12     -0.856424     -0.023039  0  \n",
       "13      2.209182      0.660209  0  \n",
       "14      0.038795     -0.846242  1  \n",
       "15     -1.620871     -0.369944  1  \n",
       "16     -1.510300      0.903805  2  \n",
       "17      0.876064     -0.305209  0  \n",
       "18     -0.193820     -1.547240  0  \n",
       "19      0.029680     -0.694832  1  \n",
       "20      0.448419      1.062856  2  \n",
       "21      0.051553      0.623657  0  \n",
       "22     -0.069256     -1.654039  2  \n",
       "23      0.835689     -0.528370  0  \n",
       "24     -0.123666      0.956612  1  \n",
       "25     -0.767185     -0.904343  0  \n",
       "26      0.726720      0.368079  0  \n",
       "27      1.183305     -1.663274  0  \n",
       "28     -0.267946      0.635036  0  \n",
       "29      1.858780     -1.423794  2  \n",
       "30     -0.732658     -0.174954  0  \n",
       "31      0.085931     -0.259650  0  \n",
       "32      0.247395      1.038758  2  \n",
       "33     -0.298457     -0.415220  0  \n",
       "34     -0.641476      0.840362  0  \n",
       "35      0.455100      1.541480  2  \n",
       "36      0.631748      0.769990  0  \n",
       "37     -0.047915     -0.048053  0  \n",
       "38     -0.018666      0.676466  2  \n",
       "39     -1.548878      1.056820  1  "
      ]
     },
     "metadata": {},
     "output_type": "display_data"
    },
    {
     "name": "stdout",
     "output_type": "stream",
     "text": [
      "Simulated parameter values\n"
     ]
    },
    {
     "data": {
      "text/plain": [
       "{'A1': array([[-2.40434291, -1.93230882, -2.3641309 , -1.81931006],\n",
       "        [-1.99649895, -1.8539811 , -1.54271365, -1.67049293],\n",
       "        [-2.21882556, -1.59916272, -1.37328134, -1.69013257]]),\n",
       " 'A2': array([[1.85490342, 1.97296398, 2.15268324, 1.7112059 ],\n",
       "        [2.15476764, 1.81388297, 1.90973225, 2.26752212],\n",
       "        [2.0604013 , 1.90970787, 1.65698835, 1.84848259]]),\n",
       " 'S1': array([[6.24733520e-03, 3.25013934e-04, 9.95248435e-03, 7.88841644e-03],\n",
       "        [5.06607130e-04, 5.60070089e-05, 5.12086700e-03, 8.94274499e-03],\n",
       "        [1.15689335e-03, 3.52890499e-03, 3.17502080e-03, 9.56078356e-03]]),\n",
       " 'S2': array([[0.00106304, 0.00627278, 0.0096796 , 0.00626775],\n",
       "        [0.00905057, 0.00542163, 0.00412828, 0.00967574],\n",
       "        [0.00684023, 0.00786226, 0.00925993, 0.00867167]]),\n",
       " 'pk1': array([[0.22439344, 0.64001715, 0.13558941],\n",
       "        [0.30791439, 0.16101403, 0.53107158],\n",
       "        [0.13470115, 0.14758551, 0.71771334],\n",
       "        [0.15657995, 0.31968694, 0.5237331 ],\n",
       "        [0.08722402, 0.82393394, 0.08884205],\n",
       "        [0.81811766, 0.03811832, 0.14376401],\n",
       "        [0.13887305, 0.03062248, 0.83050447],\n",
       "        [0.44799947, 0.31514629, 0.23685424],\n",
       "        [0.42634457, 0.25005179, 0.32360364],\n",
       "        [0.41872874, 0.15005459, 0.43121667],\n",
       "        [0.36605   , 0.26067997, 0.37327004],\n",
       "        [0.38861717, 0.46752657, 0.14385626],\n",
       "        [0.81362141, 0.10810991, 0.07826868],\n",
       "        [0.66945685, 0.10447555, 0.2260676 ],\n",
       "        [0.29082898, 0.26732746, 0.44184356],\n",
       "        [0.28325089, 0.55597618, 0.16077293]]),\n",
       " 'pk0': array([[0.14716973, 0.33066942, 0.52216085],\n",
       "        [0.6236124 , 0.33471458, 0.04167301],\n",
       "        [0.34365961, 0.23123918, 0.42510121],\n",
       "        [0.71334724, 0.06543533, 0.22121742]]),\n",
       " 'A1_cat': {'cat_control': array([ 0.37500106, -0.88596277])},\n",
       " 'A2_cat': {'cat_control': array([0.12246111, 0.60852562])},\n",
       " 'S1_cat': {'cat_control': array([0.00785542, 0.00410917])},\n",
       " 'S2_cat': {'cat_control': array([0.00749964, 0.00787043])},\n",
       " 'A1_cts': {'cts_control': array([-0.14213511, -0.14125649, -0.30366185])},\n",
       " 'A2_cts': {'cts_control': array([-0.14213511, -0.14125649, -0.30366185])},\n",
       " 'S1_cts': {'cts_control': array([0.00774112, 0.00157575, 0.00477038])},\n",
       " 'S2_cts': {'cts_control': array([0.00774112, 0.00157575, 0.00477038])}}"
      ]
     },
     "metadata": {},
     "output_type": "display_data"
    }
   ],
   "source": [
    "print('Movers data')\n",
    "display(jdata)\n",
    "print('Stayers data')\n",
    "display(sdata)\n",
    "print('Simulated parameter values')\n",
    "display(sim_params)"
   ]
  },
  {
   "cell_type": "markdown",
   "metadata": {},
   "source": [
    "## Initialize and run BLMEstimator"
   ]
  },
  {
   "cell_type": "code",
   "execution_count": null,
   "metadata": {
    "scrolled": true
   },
   "outputs": [],
   "source": [
    "# Initialize BLM estimator\n",
    "blm_fit = tw.BLMEstimator(blm_params)\n",
    "# Fit BLM estimator\n",
    "blm_fit.fit(jdata=jdata, sdata=sdata, n_init=80, n_best=5, ncore=8)\n",
    "# Store best model\n",
    "blm_model = blm_fit.model"
   ]
  },
  {
   "cell_type": "markdown",
   "metadata": {},
   "source": [
    "## Check that log-likelihoods are monotonic"
   ]
  },
  {
   "cell_type": "code",
   "execution_count": 25,
   "metadata": {},
   "outputs": [
    {
     "name": "stdout",
     "output_type": "stream",
     "text": [
      "Log-likelihoods monotonic (movers): True\n"
     ]
    },
    {
     "data": {
      "text/plain": [
       "Text(0, 0.5, 'Change in log-likelihood')"
      ]
     },
     "execution_count": 25,
     "metadata": {},
     "output_type": "execute_result"
    },
    {
     "data": {
      "image/png": "[encoded data removed]",
      "text/plain": [
       "<Figure size 432x288 with 1 Axes>"
      ]
     },
     "metadata": {
      "needs_background": "light"
     },
     "output_type": "display_data"
    }
   ],
   "source": [
    "liks1 = blm_model.liks1[1:]\n",
    "\n",
    "print('Log-likelihoods monotonic (movers):', np.min(np.diff(liks1)) >= 0)\n",
    "\n",
    "x_axis = range(1, len(liks1))\n",
    "plt.plot(x_axis, np.diff(liks1), '.', label='liks1', color='red')\n",
    "plt.plot(x_axis, np.zeros(len(liks1) - 1))\n",
    "plt.xlabel('Iteration')\n",
    "plt.ylabel('Change in log-likelihood')"
   ]
  },
  {
   "cell_type": "code",
   "execution_count": 26,
   "metadata": {},
   "outputs": [
    {
     "name": "stdout",
     "output_type": "stream",
     "text": [
      "Log-likelihoods monotonic (stayers): True\n"
     ]
    },
    {
     "data": {
      "text/plain": [
       "Text(0, 0.5, 'Change in log-likelihood')"
      ]
     },
     "execution_count": 26,
     "metadata": {},
     "output_type": "execute_result"
    },
    {
     "data": {
      "image/png": "[encoded data removed]",
      "text/plain": [
       "<Figure size 432x288 with 1 Axes>"
      ]
     },
     "metadata": {
      "needs_background": "light"
     },
     "output_type": "display_data"
    }
   ],
   "source": [
    "liks0 = blm_model.liks0\n",
    "\n",
    "print('Log-likelihoods monotonic (stayers):', np.min(np.diff(liks0)) >= 0)\n",
    "\n",
    "x_axis = range(1, len(liks0))\n",
    "plt.plot(x_axis, np.diff(liks0), '.', label='liks0', color='red')\n",
    "plt.plot(x_axis, np.zeros(len(liks0) - 1))\n",
    "plt.xlabel('Iteration')\n",
    "plt.ylabel('Change in log-likelihood')"
   ]
  },
  {
   "cell_type": "markdown",
   "metadata": {},
   "source": [
    "## Now we can investigate the results"
   ]
  },
  {
   "cell_type": "code",
   "execution_count": 27,
   "metadata": {},
   "outputs": [
    {
     "data": {
      "image/png": "[encoded data removed]",
      "text/plain": [
       "<Figure size 432x288 with 1 Axes>"
      ]
     },
     "metadata": {
      "needs_background": "light"
     },
     "output_type": "display_data"
    }
   ],
   "source": [
    "# Plot likelihood vs. connectedness\n",
    "blm_fit.plot_liks_connectedness()"
   ]
  },
  {
   "cell_type": "code",
   "execution_count": 28,
   "metadata": {},
   "outputs": [
    {
     "data": {
      "image/png": "[encoded data removed]",
      "text/plain": [
       "<Figure size 432x288 with 1 Axes>"
      ]
     },
     "metadata": {
      "needs_background": "light"
     },
     "output_type": "display_data"
    }
   ],
   "source": [
    "blm_fit.plot_log_earnings()"
   ]
  },
  {
   "cell_type": "code",
   "execution_count": 29,
   "metadata": {},
   "outputs": [
    {
     "data": {
      "image/png": "[encoded data removed]",
      "text/plain": [
       "<Figure size 432x288 with 1 Axes>"
      ]
     },
     "metadata": {
      "needs_background": "light"
     },
     "output_type": "display_data"
    }
   ],
   "source": [
    "blm_fit.plot_type_proportions()"
   ]
  },
  {
   "cell_type": "markdown",
   "metadata": {},
   "source": [
    "## Finally, we can compare estimates to the truth"
   ]
  },
  {
   "cell_type": "code",
   "execution_count": 30,
   "metadata": {
    "scrolled": false
   },
   "outputs": [
    {
     "data": {
      "image/png": "[encoded data removed]",
      "text/plain": [
       "<Figure size 432x288 with 1 Axes>"
      ]
     },
     "metadata": {
      "needs_background": "light"
     },
     "output_type": "display_data"
    },
    {
     "data": {
      "image/png": "[encoded data removed]",
      "text/plain": [
       "<Figure size 432x288 with 1 Axes>"
      ]
     },
     "metadata": {
      "needs_background": "light"
     },
     "output_type": "display_data"
    },
    {
     "data": {
      "image/png": "[encoded data removed]",
      "text/plain": [
       "<Figure size 432x288 with 1 Axes>"
      ]
     },
     "metadata": {
      "needs_background": "light"
     },
     "output_type": "display_data"
    },
    {
     "data": {
      "image/png": "[encoded data removed]",
      "text/plain": [
       "<Figure size 432x288 with 1 Axes>"
      ]
     },
     "metadata": {
      "needs_background": "light"
     },
     "output_type": "display_data"
    },
    {
     "data": {
      "image/png": "[encoded data removed]",
      "text/plain": [
       "<Figure size 432x288 with 1 Axes>"
      ]
     },
     "metadata": {
      "needs_background": "light"
     },
     "output_type": "display_data"
    },
    {
     "data": {
      "image/png": "[encoded data removed]",
      "text/plain": [
       "<Figure size 432x288 with 1 Axes>"
      ]
     },
     "metadata": {
      "needs_background": "light"
     },
     "output_type": "display_data"
    },
    {
     "data": {
      "image/png": "[encoded data removed]",
      "text/plain": [
       "<Figure size 432x288 with 1 Axes>"
      ]
     },
     "metadata": {
      "needs_background": "light"
     },
     "output_type": "display_data"
    },
    {
     "data": {
      "image/png": "[encoded data removed]",
      "text/plain": [
       "<Figure size 432x288 with 1 Axes>"
      ]
     },
     "metadata": {
      "needs_background": "light"
     },
     "output_type": "display_data"
    }
   ],
   "source": [
    "plt.plot(sim_params['A1'].flatten(), blm_model.A1.flatten(), '.', label='A1', color='red')\n",
    "plt.plot(sim_params['A2'].flatten(), blm_model.A2.flatten(), '.', label='A2', color='green')\n",
    "plt.xlabel('Truth')\n",
    "plt.ylabel('Estimate')\n",
    "plt.legend()\n",
    "plt.grid()\n",
    "plt.show()\n",
    "\n",
    "plt.plot(sim_params['S1'].flatten(), blm_model.S1.flatten(), '.', label='S1', color='red')\n",
    "plt.plot(sim_params['S2'].flatten(), blm_model.S2.flatten(), '.', label='S2', color='green')\n",
    "plt.xlabel('Truth')\n",
    "plt.ylabel('Estimate')\n",
    "plt.legend()\n",
    "plt.grid()\n",
    "plt.show()\n",
    "\n",
    "plt.plot(sim_params['A1_cat']['cat_control'].flatten(), blm_model.A1_cat['cat_control'].flatten(), '.', label='A1_cat', color='red')\n",
    "plt.plot(sim_params['A2_cat']['cat_control'].flatten(), blm_model.A2_cat['cat_control'].flatten(), '.', label='A2_cat', color='green')\n",
    "plt.xlabel('Truth')\n",
    "plt.ylabel('Estimate')\n",
    "plt.legend()\n",
    "plt.grid()\n",
    "plt.show()\n",
    "\n",
    "plt.plot(sim_params['S1_cat']['cat_control'].flatten(), blm_model.S1_cat['cat_control'].flatten(), '.', label='S1_cat', color='red')\n",
    "plt.plot(sim_params['S2_cat']['cat_control'].flatten(), blm_model.S2_cat['cat_control'].flatten(), '.', label='S2_cat', color='green')\n",
    "plt.xlabel('Truth')\n",
    "plt.ylabel('Estimate')\n",
    "plt.legend()\n",
    "plt.grid()\n",
    "plt.show()\n",
    "\n",
    "plt.plot(sim_params['A1_cts']['cts_control'].flatten(), blm_model.A1_cts['cts_control'].flatten(), '.', label='A1_cts', color='red')\n",
    "plt.plot(sim_params['A2_cts']['cts_control'].flatten(), blm_model.A2_cts['cts_control'].flatten(), '.', label='A2_cts', color='green')\n",
    "plt.xlabel('Truth')\n",
    "plt.ylabel('Estimate')\n",
    "plt.legend()\n",
    "plt.grid()\n",
    "plt.show()\n",
    "\n",
    "plt.plot(sim_params['S1_cts']['cts_control'].flatten(), blm_model.S1_cts['cts_control'].flatten(), '.', label='S1_cts', color='red')\n",
    "plt.plot(sim_params['S2_cts']['cts_control'].flatten(), blm_model.S2_cts['cts_control'].flatten(), '.', label='S2_cts', color='green')\n",
    "plt.xlabel('Truth')\n",
    "plt.ylabel('Estimate')\n",
    "plt.legend()\n",
    "plt.grid()\n",
    "plt.show()\n",
    "\n",
    "plt.plot(sim_params['pk1'].flatten(), blm_model.pk1.flatten(), '.', label='pk1', color='red')\n",
    "plt.xlabel('Truth')\n",
    "plt.ylabel('Estimate')\n",
    "plt.legend()\n",
    "plt.grid()\n",
    "plt.show()\n",
    "\n",
    "plt.plot(sim_params['pk0'].flatten(), blm_model.pk0.flatten(), '.', label='pk0', color='red')\n",
    "plt.xlabel('Truth')\n",
    "plt.ylabel('Estimate')\n",
    "plt.legend()\n",
    "plt.grid()\n",
    "plt.show()"
   ]
  },
  {
   "cell_type": "markdown",
   "metadata": {},
   "source": [
    "<div class=\"alert alert-warning\">\n",
    "\n",
    "Warning\n",
    "\n",
    "The parameters are identified only up to a constant intercept.\n",
    "\n",
    "Because of this, to maintain consistency between estimations, PyTwoWay automatically normalizes worker-firm types to have effect 0, depending on the control variables used (normalization only occurs with categorical control variables - for a stationary control variable, only the first period is normalized (if it is non-stationary, both periods are normalized); for a control variable that does not interact with worker types, only the lowest worker type is normalized (if it does interact with worker types, all worker types are normalized)).\n",
    "\n",
    "If we take the sum over the estimators we see the model performs well.\n",
    "\n",
    "</div>"
   ]
  },
  {
   "cell_type": "code",
   "execution_count": 31,
   "metadata": {},
   "outputs": [
    {
     "data": {
      "image/png": "[encoded data removed]",
      "text/plain": [
       "<Figure size 432x288 with 1 Axes>"
      ]
     },
     "metadata": {
      "needs_background": "light"
     },
     "output_type": "display_data"
    },
    {
     "data": {
      "image/png": "[encoded data removed]",
      "text/plain": [
       "<Figure size 432x288 with 1 Axes>"
      ]
     },
     "metadata": {
      "needs_background": "light"
     },
     "output_type": "display_data"
    },
    {
     "data": {
      "image/png": "[encoded data removed]",
      "text/plain": [
       "<Figure size 432x288 with 1 Axes>"
      ]
     },
     "metadata": {
      "needs_background": "light"
     },
     "output_type": "display_data"
    },
    {
     "data": {
      "image/png": "[encoded data removed]",
      "text/plain": [
       "<Figure size 432x288 with 1 Axes>"
      ]
     },
     "metadata": {
      "needs_background": "light"
     },
     "output_type": "display_data"
    }
   ],
   "source": [
    "## First period ##\n",
    "plt.plot(\n",
    "    (sim_params['A1'] + sim_params['A1_cat']['cat_control'][0]).flatten(),\n",
    "    (blm_model.A1 + blm_model.A1_cat['cat_control'][0]).flatten(),\n",
    "    '.', label='A1 + A1_cat[0]', color='red'\n",
    ")\n",
    "plt.plot(\n",
    "    (sim_params['A1'] + sim_params['A1_cat']['cat_control'][1]).flatten(),\n",
    "    (blm_model.A1 + blm_model.A1_cat['cat_control'][1]).flatten(),\n",
    "    '.', label='A1 + A1_cat[1]', color='green'\n",
    ")\n",
    "plt.xlabel('Truth')\n",
    "plt.ylabel('Estimate')\n",
    "plt.legend()\n",
    "plt.grid()\n",
    "plt.show()\n",
    "\n",
    "plt.plot(\n",
    "    np.sqrt((sim_params['S1'] ** 2 + sim_params['S1_cat']['cat_control'][0] ** 2).flatten()),\n",
    "    np.sqrt((blm_model.S1 ** 2 + blm_model.S1_cat['cat_control'][0] ** 2).flatten()),\n",
    "    '.', label='sqrt(S1^2 + S1_cat[0]^2)', color='red'\n",
    ")\n",
    "plt.plot(\n",
    "    np.sqrt((sim_params['S1'] ** 2 + sim_params['S1_cat']['cat_control'][1] ** 2).flatten()),\n",
    "    np.sqrt((blm_model.S1 ** 2 + blm_model.S1_cat['cat_control'][1] ** 2).flatten()),\n",
    "    '.', label='sqrt(S1^2 + S1_cat[1]^2)', color='green'\n",
    ")\n",
    "plt.xlabel('Truth')\n",
    "plt.ylabel('Estimate')\n",
    "plt.legend()\n",
    "plt.grid()\n",
    "plt.show()\n",
    "\n",
    "## Second period ##\n",
    "plt.plot(\n",
    "    (sim_params['A2'] + sim_params['A2_cat']['cat_control'][0]).flatten(),\n",
    "    (blm_model.A2 + blm_model.A2_cat['cat_control'][0]).flatten(),\n",
    "    '.', label='A2 + A2_cat[0]', color='red'\n",
    ")\n",
    "plt.plot(\n",
    "    (sim_params['A2'] + sim_params['A2_cat']['cat_control'][1]).flatten(),\n",
    "    (blm_model.A2 + blm_model.A2_cat['cat_control'][1]).flatten(),\n",
    "    '.', label='A2 + A2_cat[1]', color='green'\n",
    ")\n",
    "plt.xlabel('Truth')\n",
    "plt.ylabel('Estimate')\n",
    "plt.legend()\n",
    "plt.grid()\n",
    "plt.show()\n",
    "\n",
    "plt.plot(\n",
    "    np.sqrt((sim_params['S2'] ** 2 + sim_params['S2_cat']['cat_control'][0] ** 2).flatten()),\n",
    "    np.sqrt((blm_model.S2 ** 2 + blm_model.S2_cat['cat_control'][0] ** 2).flatten()),\n",
    "    '.', label='sqrt(S2^2 + S2_cat[0]^2)', color='red'\n",
    ")\n",
    "plt.plot(\n",
    "    np.sqrt((sim_params['S2'] ** 2 + sim_params['S2_cat']['cat_control'][1] ** 2).flatten()),\n",
    "    np.sqrt((blm_model.S2 ** 2 + blm_model.S2_cat['cat_control'][1] ** 2).flatten()),\n",
    "    '.', label='sqrt(S2^2 + S2_cat[1]^2)', color='green'\n",
    ")\n",
    "plt.xlabel('Truth')\n",
    "plt.ylabel('Estimate')\n",
    "plt.legend()\n",
    "plt.grid()\n",
    "plt.show()"
   ]
  },
  {
   "cell_type": "markdown",
   "metadata": {},
   "source": [
    "## Variance decomposition\n",
    "\n",
    "The package contains the class `BLMVarianceDecomposition`, which allows for the estimation of the decomposition of the variance components of the BLM estimator.\n",
    "\n",
    "In this example, we use the same simulated data and estimation parameters as in the previous example."
   ]
  },
  {
   "cell_type": "code",
   "execution_count": null,
   "metadata": {},
   "outputs": [],
   "source": [
    "# Initialize BLM variance decomposition estimator\n",
    "blm_fit = tw.BLMVarianceDecomposition(blm_params)\n",
    "# Fit BLM estimator\n",
    "blm_fit.fit(\n",
    "    jdata=jdata, sdata=sdata,\n",
    "    blm_model=blm_model,\n",
    "    n_samples=20,\n",
    "    Q_var=[\n",
    "        tw.Q.VarCovariate('psi'),\n",
    "        tw.Q.VarCovariate('cat_control'),\n",
    "        tw.Q.VarCovariate('cts_control')\n",
    "    ],\n",
    "    ncore=1\n",
    ")"
   ]
  },
  {
   "cell_type": "markdown",
   "metadata": {},
   "source": [
    "### Investigate the results\n",
    "\n",
    "Results correspond to:\n",
    "\n",
    "- `y`: income (outcome) column\n",
    "- `eps`: residual\n",
    "- `psi`: firm effects\n",
    "- `alpha`: worker effects\n",
    "\n",
    "<div class=\"alert alert-info\">\n",
    "\n",
    "Note\n",
    "\n",
    "Results from all estimations are stored in the class attribute dictionary `.res`. We take the mean, but storing all results gives the option to estimate different sample statistics.\n",
    "\n",
    "</div>\n",
    "\n",
    "<div class=\"alert alert-info\">\n",
    "\n",
    "Note\n",
    "\n",
    "The particular variance that is estimated is controlled through the parameter `'Q_var'` and the covariance that is estimated is controlled through the parameter `'Q_cov'`.\n",
    "\n",
    "By default, the variance is `var(psi)` and the covariance is `cov(psi, alpha)`. The default estimates don't include `var(alpha)`, but if you don't include controls, `var(alpha)` can be computed as the residual from `var(y) = var(psi) + var(alpha) + 2 * cov(psi, alpha) + var(eps)`.\n",
    "\n",
    "</div>"
   ]
  },
  {
   "cell_type": "code",
   "execution_count": 33,
   "metadata": {},
   "outputs": [
    {
     "name": "stdout",
     "output_type": "stream",
     "text": [
      "'var(y)': 4.1784778224072054\n",
      "'var(eps)': 3.862767039874967\n",
      "'var(cat_control)': 0.17504851379038694\n",
      "'var(cts_control)': 0.03529768004099764\n",
      "'var(psi)': 0.052474105201016495\n",
      "'cov(psi, alpha)': -0.0014679055738114212\n"
     ]
    }
   ],
   "source": [
    "for k, v in blm_fit.res.items():\n",
    "    print(f'{k!r}: {v.mean()}')"
   ]
  }
 ],
 "metadata": {
  "kernelspec": {
   "display_name": "Python 3.10.4 ('tw-env')",
   "language": "python",
   "name": "python3"
  },
  "language_info": {
   "codemirror_mode": {
    "name": "ipython",
    "version": 3
   },
   "file_extension": ".py",
   "mimetype": "text/x-python",
   "name": "python",
   "nbconvert_exporter": "python",
   "pygments_lexer": "ipython3",
   "version": "3.10.4"
  },
  "vscode": {
   "interpreter": {
    "hash": "cc42643cd328f586448453625167b9fc1f3293a5a6342212b4e72707ccae656b"
   }
  }
 },
 "nbformat": 4,
 "nbformat_minor": 4
}
