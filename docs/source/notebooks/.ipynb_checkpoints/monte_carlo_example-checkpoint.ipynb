{
 "cells": [
  {
   "cell_type": "markdown",
   "metadata": {},
   "source": [
    "# Monte Carlo example"
   ]
  },
  {
   "cell_type": "code",
   "execution_count": 1,
   "metadata": {},
   "outputs": [],
   "source": [
    "# Add PyTwoWay to system path, do not run this\n",
    "import sys\n",
    "sys.path.append('../../..')"
   ]
  },
  {
   "cell_type": "code",
   "execution_count": 2,
   "metadata": {
    "ExecuteTime": {
     "end_time": "2020-12-22T21:42:40.756437Z",
     "start_time": "2020-12-22T21:42:39.576929Z"
    }
   },
   "outputs": [],
   "source": [
    "# Import the PyTwoWay package\n",
    "# (Make sure you have installed it using pip install pytwoway)\n",
    "import pytwoway as tw\n",
    "import bipartitepandas as bpd\n",
    "import numpy as np"
   ]
  },
  {
   "cell_type": "markdown",
   "metadata": {},
   "source": [
    "## First, check out parameter options"
   ]
  },
  {
   "cell_type": "code",
   "execution_count": 3,
   "metadata": {
    "ExecuteTime": {
     "end_time": "2020-12-22T21:42:40.761257Z",
     "start_time": "2020-12-22T21:42:40.758033Z"
    }
   },
   "outputs": [
    {
     "name": "stdout",
     "output_type": "stream",
     "text": [
      "----- Simulation -----\n",
      "KEY: 'n_workers'\n",
      "CURRENT VALUE: 10000\n",
      "VALID VALUES: one of type <class 'int'>\n",
      "CONSTRAINTS: '>= 1'\n",
      "DESCRIPTION: \n",
      "            (default=10000) Number of workers.\n",
      "        \n",
      "KEY: 'n_time'\n",
      "CURRENT VALUE: 5\n",
      "VALID VALUES: one of type <class 'int'>\n",
      "CONSTRAINTS: '>= 1'\n",
      "DESCRIPTION: \n",
      "            (default=5) Time length of panel.\n",
      "        \n",
      "KEY: 'firm_size'\n",
      "CURRENT VALUE: 50\n",
      "VALID VALUES: one of type (<class 'float'>, <class 'int'>)\n",
      "CONSTRAINTS: '> 0'\n",
      "DESCRIPTION: \n",
      "            (default=50) Average observations per firm per time period.\n",
      "        \n",
      "KEY: 'nk'\n",
      "CURRENT VALUE: 10\n",
      "VALID VALUES: one of type <class 'int'>\n",
      "CONSTRAINTS: '>= 1'\n",
      "DESCRIPTION: \n",
      "            (default=10) Number of firm types.\n",
      "        \n",
      "KEY: 'nl'\n",
      "CURRENT VALUE: 5\n",
      "VALID VALUES: one of type <class 'int'>\n",
      "CONSTRAINTS: '>= 1'\n",
      "DESCRIPTION: \n",
      "            (default=5) Number of worker types.\n",
      "        \n",
      "KEY: 'alpha_sig'\n",
      "CURRENT VALUE: 1\n",
      "VALID VALUES: one of type (<class 'float'>, <class 'int'>)\n",
      "CONSTRAINTS: '>= 0'\n",
      "DESCRIPTION: \n",
      "            (default=1) Standard error of individual fixed effect (volatility of worker effects).\n",
      "        \n",
      "KEY: 'psi_sig'\n",
      "CURRENT VALUE: 1\n",
      "VALID VALUES: one of type (<class 'float'>, <class 'int'>)\n",
      "CONSTRAINTS: '>= 0'\n",
      "DESCRIPTION: \n",
      "            (default=1) Standard error of firm fixed effect (volatility of firm effects).\n",
      "        \n",
      "KEY: 'w_sig'\n",
      "CURRENT VALUE: 1\n",
      "VALID VALUES: one of type (<class 'float'>, <class 'int'>)\n",
      "CONSTRAINTS: '>= 0'\n",
      "DESCRIPTION: \n",
      "            (default=1) Standard error of residual in AKM wage equation (volatility of wage shocks).\n",
      "        \n",
      "KEY: 'c_sort'\n",
      "CURRENT VALUE: 1\n",
      "VALID VALUES: one of type (<class 'float'>, <class 'int'>)\n",
      "DESCRIPTION: \n",
      "            (default=1) Sorting effect.\n",
      "        \n",
      "KEY: 'c_netw'\n",
      "CURRENT VALUE: 1\n",
      "VALID VALUES: one of type (<class 'float'>, <class 'int'>)\n",
      "DESCRIPTION: \n",
      "            (default=1) Network effect.\n",
      "        \n",
      "KEY: 'c_sig'\n",
      "CURRENT VALUE: 1\n",
      "VALID VALUES: one of type (<class 'float'>, <class 'int'>)\n",
      "CONSTRAINTS: '>= 0'\n",
      "DESCRIPTION: \n",
      "            (default=1) Standard error of sorting/network effects.\n",
      "        \n",
      "KEY: 'p_move'\n",
      "CURRENT VALUE: 0.5\n",
      "VALID VALUES: one of type (<class 'float'>, <class 'int'>)\n",
      "CONSTRAINTS: 'in [0, 1]'\n",
      "DESCRIPTION: \n",
      "            (default=0.5) Probability a worker moves firms in any period.\n",
      "        \n",
      "----- FE -----\n",
      "KEY: 'ncore'\n",
      "CURRENT VALUE: 1\n",
      "VALID VALUES: one of type <class 'int'>\n",
      "CONSTRAINTS: '>= 1'\n",
      "DESCRIPTION: \n",
      "            (default=1) Number of cores to use.\n",
      "        \n",
      "KEY: 'weighted'\n",
      "CURRENT VALUE: True\n",
      "VALID VALUES: one of type <class 'bool'>\n",
      "DESCRIPTION: \n",
      "            (default=True) If True, use weighted estimators.\n",
      "        \n",
      "KEY: 'statsonly'\n",
      "CURRENT VALUE: False\n",
      "VALID VALUES: one of type <class 'bool'>\n",
      "DESCRIPTION: \n",
      "            (default=False) If True, return only basic statistics.\n",
      "        \n",
      "KEY: 'feonly'\n",
      "CURRENT VALUE: False\n",
      "VALID VALUES: one of type <class 'bool'>\n",
      "DESCRIPTION: \n",
      "            (default=False) If True, estimate only fixed effects and not variances.\n",
      "        \n",
      "KEY: 'Q'\n",
      "CURRENT VALUE: 'cov(alpha, psi)'\n",
      "VALID VALUES: one of ['cov(alpha, psi)', 'cov(psi_t, psi_{t+1})']\n",
      "DESCRIPTION: \n",
      "            (default='cov(alpha, psi)') Which Q matrix to consider. Options include 'cov(alpha, psi)' and 'cov(psi_t, psi_{t+1})'.\n",
      "        \n",
      "KEY: 'ndraw_trace'\n",
      "CURRENT VALUE: 5\n",
      "VALID VALUES: one of type <class 'int'>\n",
      "CONSTRAINTS: '>= 1'\n",
      "DESCRIPTION: \n",
      "            (default=5) Number of draws to use in trace approximations.\n",
      "        \n",
      "KEY: 'he'\n",
      "CURRENT VALUE: False\n",
      "VALID VALUES: one of type <class 'bool'>\n",
      "DESCRIPTION: \n",
      "            (default=False) If True, estimate heteroskedastic correction.\n",
      "        \n",
      "KEY: 'he_analytical'\n",
      "CURRENT VALUE: False\n",
      "VALID VALUES: one of type <class 'bool'>\n",
      "DESCRIPTION: \n",
      "            (default=False) If True, estimate heteroskedastic correction using analytical formula; if False, use JL approxmation.\n",
      "        \n",
      "KEY: 'lev_batchsize'\n",
      "CURRENT VALUE: 50\n",
      "VALID VALUES: one of type <class 'int'>\n",
      "CONSTRAINTS: '>= 1'\n",
      "DESCRIPTION: \n",
      "            (default=50) Number of draws to use for each batch in approximation of leverages for heteroskedastic correction.\n",
      "        \n",
      "KEY: 'lev_batchsize_multiprocessing'\n",
      "CURRENT VALUE: 10\n",
      "VALID VALUES: one of type <class 'int'>\n",
      "CONSTRAINTS: '>= 1'\n",
      "DESCRIPTION: \n",
      "            (default=10) Batch size to send in parallel. Should evenly divide 'lev_batchsize'.\n",
      "        \n",
      "KEY: 'lev_nbatches'\n",
      "CURRENT VALUE: 5\n",
      "VALID VALUES: one of type <class 'int'>\n",
      "CONSTRAINTS: '>= 1'\n",
      "DESCRIPTION: \n",
      "            (default=5) Maximum number of batches to run in approximation of leverages for heteroskedastic correction.\n",
      "        \n",
      "KEY: 'lev_threshold_obs'\n",
      "CURRENT VALUE: 100\n",
      "VALID VALUES: one of type <class 'int'>\n",
      "CONSTRAINTS: '>= 1'\n",
      "DESCRIPTION: \n",
      "            (default=100) Minimum number of observations with Pii >= threshold where batches will keep running in approximation of leverages for heteroskedastic correction. Once this threshold is met, remaining Pii above threshold will be recomputed analytically.\n",
      "        \n",
      "KEY: 'lev_threshold_pii'\n",
      "CURRENT VALUE: 0.98\n",
      "VALID VALUES: one of type <class 'float'>\n",
      "CONSTRAINTS: 'in [0, 1]'\n",
      "DESCRIPTION: \n",
      "            (default=0.98) Threshold Pii value for computing threshold number of Pii observations in approximation of leverages for heteroskedastic correction.\n",
      "        \n",
      "KEY: 'levfile'\n",
      "CURRENT VALUE: ''\n",
      "VALID VALUES: one of type <class 'str'>\n",
      "DESCRIPTION: \n",
      "            (default='') File to load precomputed leverages for heteroskedastic correction.\n",
      "        \n",
      "KEY: 'out'\n",
      "CURRENT VALUE: 'res_fe.json'\n",
      "VALID VALUES: one of type <class 'str'>\n",
      "DESCRIPTION: \n",
      "            (default='res_fe.json') Outputfile where results are saved.\n",
      "        \n",
      "----- CRE -----\n",
      "KEY: 'ncore'\n",
      "CURRENT VALUE: 1\n",
      "VALID VALUES: one of type <class 'int'>\n",
      "CONSTRAINTS: '>= 1'\n",
      "DESCRIPTION: \n",
      "            (default=1) Number of cores to use.\n",
      "        \n",
      "KEY: 'posterior'\n",
      "CURRENT VALUE: False\n",
      "VALID VALUES: one of type <class 'bool'>\n",
      "DESCRIPTION: \n",
      "            (default=False) If True, compute posterior variance.\n",
      "        \n",
      "KEY: 'wo_btw'\n",
      "CURRENT VALUE: False\n",
      "VALID VALUES: one of type <class 'bool'>\n",
      "DESCRIPTION: \n",
      "            (default=False) If True, sets between variation to 0, pure RE.\n",
      "        \n",
      "KEY: 'ndraw_trace'\n",
      "CURRENT VALUE: 5\n",
      "VALID VALUES: one of type <class 'int'>\n",
      "CONSTRAINTS: '>= 1'\n",
      "DESCRIPTION: \n",
      "            (default=5) Number of draws to use in trace approximations.\n",
      "        \n",
      "KEY: 'out'\n",
      "CURRENT VALUE: 'res_cre.json'\n",
      "VALID VALUES: one of type <class 'str'>\n",
      "DESCRIPTION: \n",
      "            (default='res_fe.json') Outputfile where results are saved.\n",
      "        \n",
      "----- Clustering -----\n",
      "KEY: 'measures'\n",
      "CURRENT VALUE: <bipartitepandas.measures.measures.CDFs object at 0x7fbdbc27afd0>\n",
      "VALID VALUES: one of or list of type (<class 'bipartitepandas.measures.measures.CDFs'>, <class 'bipartitepandas.measures.measures.Moments'>)\n",
      "DESCRIPTION: \n",
      "            (default=bpd.measures.CDFs()) How to compute measures for clustering. Options can be seen in bipartitepandas.measures.\n",
      "        \n",
      "KEY: 'grouping'\n",
      "CURRENT VALUE: <bipartitepandas.grouping.grouping.KMeans object at 0x7fbdbc296040>\n",
      "VALID VALUES: one of type (<class 'bipartitepandas.grouping.grouping.KMeans'>, <class 'bipartitepandas.grouping.grouping.Quantiles'>)\n",
      "DESCRIPTION: \n",
      "            (default=bpd.grouping.KMeans()) How to group firms based on measures. Options can be seen in bipartitepandas.grouping.\n",
      "        \n",
      "KEY: 'stayers_movers'\n",
      "CURRENT VALUE: None\n",
      "VALID VALUES: one of [None, 'stayers', 'movers']\n",
      "DESCRIPTION: \n",
      "            (default=None) If None, clusters on entire dataset; if 'stayers', clusters on only stayers; if 'movers', clusters on only movers; if 'stays', clusters on only stays; if 'moves', clusters on only moves.\n",
      "        \n",
      "KEY: 't'\n",
      "CURRENT VALUE: None\n",
      "VALID VALUES: None or one of type (<class 'int'>, <class 'list'>)\n",
      "DESCRIPTION: \n",
      "            (default=None) If None, clusters on entire dataset; if int, gives period in data to consider (only valid for non-collapsed data); if list of int, gives periods in data to consider (only valid for non-collapsed data).\n",
      "        \n",
      "KEY: 'weighted'\n",
      "CURRENT VALUE: True\n",
      "VALID VALUES: one of type <class 'bool'>\n",
      "DESCRIPTION: \n",
      "            (default=True) If True, weight firm clusters by firm size (if a weight column is included, firm weight is computed using this column; otherwise, each observation is given weight 1).\n",
      "        \n",
      "KEY: 'dropna'\n",
      "CURRENT VALUE: False\n",
      "VALID VALUES: one of type <class 'bool'>\n",
      "DESCRIPTION: \n",
      "            (default=False) If True, drop observations where firms aren't clustered; if False, keep all observations.\n",
      "        \n",
      "KEY: 'clean_params'\n",
      "CURRENT VALUE: None\n",
      "VALID VALUES: None or one of type <class 'bipartitepandas.util.ParamsDict'>\n",
      "DESCRIPTION: \n",
      "            (default=None) Dictionary of parameters for cleaning. This is used when observations get dropped because they were not clustered. Default is None, which sets connectedness to be the connectedness measure previously used. Run bpd.clean_params().describe_all() for descriptions of all valid parameters.\n",
      "        \n",
      "KEY: 'is_sorted'\n",
      "CURRENT VALUE: False\n",
      "VALID VALUES: one of type <class 'bool'>\n",
      "DESCRIPTION: \n",
      "            (default=False) For event study format. If False, dataframe will be sorted by i (and t, if included). Returned dataframe is not guaranteed to be sorted if original dataframe is not sorted. Sorting may alter original dataframe if copy is set to False. Set is_sorted to True if dataframe is already sorted.\n",
      "        \n",
      "KEY: 'copy'\n",
      "CURRENT VALUE: True\n",
      "VALID VALUES: one of type <class 'bool'>\n",
      "DESCRIPTION: \n",
      "            (default=True) If False, avoid copy.\n",
      "        \n",
      "----- Cleaning -----\n",
      "KEY: 'connectedness'\n",
      "CURRENT VALUE: None\n",
      "VALID VALUES: one of ['connected', 'leave_out_observation', 'leave_out_spell', 'leave_out_match', 'leave_out_worker', 'leave_out_firm', None]\n",
      "DESCRIPTION: \n",
      "            (default=None) When computing largest connected set of firms: if 'connected', keep observations in the largest connected set of firms; if 'leave_out_observation', keep observations in the largest leave-one-observation-out connected set; if 'leave_out_spell', keep observations in the largest leave-one-spell-out connected set; if 'leave_out_match', keep observations in the largest leave-one-match-out connected set; if 'leave_out_worker', keep observations in the largest leave-one-worker-out connected set; if 'leave_out_firm', keep observations in the largest leave-one-firm-out connected set; if None, keep all observations.\n",
      "        \n",
      "KEY: 'component_size_variable'\n",
      "CURRENT VALUE: 'firms'\n",
      "VALID VALUES: one of ['len', 'length', 'firms', 'workers', 'stayers', 'movers', 'firms_plus_workers', 'firms_plus_stayers', 'firms_plus_movers', 'len_stayers', 'length_stayers', 'len_movers', 'length_movers', 'stays', 'moves']\n",
      "DESCRIPTION: \n",
      "        (default='firms') How to determine largest connected component. Options are 'len'/'length' (length of frames), 'firms' (number of unique firms), 'workers' (number of unique workers), 'stayers' (number of unique stayers), 'movers' (number of unique movers), 'firms_plus_workers' (number of unique firms + number of unique workers), 'firms_plus_stayers' (number of unique firms + number of unique stayers), 'firms_plus_movers' (number of unique firms + number of unique movers), 'len_stayers'/'length_stayers' (number of stayer observations), 'len_movers'/'length_movers' (number of mover observations), 'stays' (number of stay observations), and 'moves' (number of move observations).\n",
      "        \n",
      "KEY: 'i_t_how'\n",
      "CURRENT VALUE: 'max'\n",
      "VALID VALUES: one of type ('fn', <class 'str'>)\n",
      "DESCRIPTION: \n",
      "            (default='max') When dropping i-t duplicates: if 'max', keep max paying job; otherwise, take `i_t_how` over duplicate worker-firm-year observations, then take the highest paying worker-firm observation. `i_t_how` can take any input valid for a Pandas transform. Note that if multiple time and/or firm columns are included (as in collapsed long and event study formats), then data is converted to long, cleaned, then converted back to its original format.\n",
      "        \n",
      "KEY: 'drop_returns'\n",
      "CURRENT VALUE: False\n",
      "VALID VALUES: one of [False, 'returns', 'returners', 'keep_first_returns', 'keep_last_returns']\n",
      "DESCRIPTION: \n",
      "            (default=False) If 'returns', drop observations where workers leave a firm then return to it; if 'returners', drop workers who ever leave then return to a firm; if 'keep_first_returns', keep first spell where a worker leaves a firm then returns to it; if 'keep_last_returns', keep last spell where a worker leaves a firm then returns to it; if False, keep all observations.\n",
      "        \n",
      "KEY: 'drop_returns_to_stays'\n",
      "CURRENT VALUE: False\n",
      "VALID VALUES: one of type <class 'bool'>\n",
      "DESCRIPTION: \n",
      "            (default=False) Applies only if 'drop_returns' is set to False. If True, when recollapsing collapsed data, drop observations that need to be recollapsed instead of collapsing (this is for computational efficiency when re-collapsing data for leave-one-out connected components, where intermediate observations can be dropped, causing a worker who returns to a firm to become a stayer).\n",
      "        \n",
      "KEY: 'is_sorted'\n",
      "CURRENT VALUE: False\n",
      "VALID VALUES: one of type <class 'bool'>\n",
      "DESCRIPTION: \n",
      "            (default=False) If False, dataframe will be sorted by i (and t, if included). Returned dataframe will be sorted. Sorting may alter original dataframe if copy is set to False. Set is_sorted to True if dataframe is already sorted.\n",
      "        \n",
      "KEY: 'copy'\n",
      "CURRENT VALUE: True\n",
      "VALID VALUES: one of type <class 'bool'>\n",
      "DESCRIPTION: \n",
      "            (default=True) If False, avoid copying data when possible.\n",
      "        \n",
      "KEY: 'force'\n",
      "CURRENT VALUE: True\n",
      "VALID VALUES: one of type <class 'bool'>\n",
      "DESCRIPTION: \n",
      "            (default=True) If True, force all cleaning methods to run; much faster if set to False.\n",
      "        \n",
      "KEY: 'verbose'\n",
      "CURRENT VALUE: True\n",
      "VALID VALUES: one of type <class 'bool'>\n",
      "DESCRIPTION: \n",
      "            (default=True) If True, print progress during data cleaning.\n",
      "        \n"
     ]
    }
   ],
   "source": [
    "print('----- Simulation -----')\n",
    "bpd.sim_params().describe_all()\n",
    "print('----- FE -----')\n",
    "tw.fe_params().describe_all()\n",
    "print('----- CRE -----')\n",
    "tw.cre_params().describe_all()\n",
    "print('----- Clustering -----')\n",
    "bpd.cluster_params().describe_all()\n",
    "print('----- Cleaning -----')\n",
    "bpd.clean_params().describe_all()"
   ]
  },
  {
   "cell_type": "markdown",
   "metadata": {},
   "source": [
    "## Second, set parameter choices"
   ]
  },
  {
   "cell_type": "code",
   "execution_count": 4,
   "metadata": {},
   "outputs": [],
   "source": [
    "# Set parameters\n",
    "sim_params = bpd.sim_params({'n_workers': 1000, 'firm_size': 5, 'alpha_sig': 2, 'w_sig': 2, 'c_sort': 1.5, 'c_netw': 1.5, 'p_move': 0.1})\n",
    "fe_params = tw.fe_params({'he': True, 'lev_threshold_obs': 1, 'weighted': True})\n",
    "cre_params = tw.cre_params()\n",
    "cluster_params = bpd.cluster_params()\n",
    "clean_params = bpd.clean_params({'verbose': False})"
   ]
  },
  {
   "cell_type": "markdown",
   "metadata": {},
   "source": [
    "## Third, run the Monte Carlo simulation using the parameter choices"
   ]
  },
  {
   "cell_type": "code",
   "execution_count": null,
   "metadata": {
    "ExecuteTime": {
     "end_time": "2020-12-22T21:43:16.646468Z",
     "start_time": "2020-12-22T21:42:40.780053Z"
    }
   },
   "outputs": [],
   "source": [
    "# Create the TwoWayMonteCarlo object\n",
    "twmc = tw.MonteCarlo(\n",
    "    sim_params=sim_params,\n",
    "    fe_params=fe_params,\n",
    "    cre_params=cre_params,\n",
    "    cluster_params=cluster_params,\n",
    "    clean_params=clean_params,\n",
    "    collapse=True, # If True, run estimators on data collapsed at the worker-firm spell level\n",
    "    move_to_worker=False, # If True, each move is treated as a new worker\n",
    "    log=False # If True, will create log file(s)\n",
    ")\n",
    "# Run the Monte Carlo estimation\n",
    "twmc.monte_carlo(\n",
    "    N=500, # Number of simulations\n",
    "    ncore=4, # Number of cores to use\n",
    "    rng=np.random.default_rng(1234) # NumPy random number generator. This overrides the random number generators for simulating, FE, and CRE.\n",
    ")"
   ]
  },
  {
   "cell_type": "markdown",
   "metadata": {},
   "source": [
    "## Finally, plot histograms of parameter estimates (histograms show the difference from the truth)"
   ]
  },
  {
   "cell_type": "code",
   "execution_count": 6,
   "metadata": {
    "ExecuteTime": {
     "end_time": "2020-12-22T21:43:17.415199Z",
     "start_time": "2020-12-22T21:43:16.649221Z"
    }
   },
   "outputs": [
    {
     "data": {
      "image/png": "[encoded data removed]",
      "text/plain": [
       "<Figure size 432x288 with 2 Axes>"
      ]
     },
     "metadata": {
      "needs_background": "light"
     },
     "output_type": "display_data"
    }
   ],
   "source": [
    "twmc.hist(he=True)"
   ]
  },
  {
   "cell_type": "code",
   "execution_count": 7,
   "metadata": {},
   "outputs": [
    {
     "data": {
      "image/png": "[encoded data removed]",
      "text/plain": [
       "<Figure size 432x288 with 2 Axes>"
      ]
     },
     "metadata": {
      "needs_background": "light"
     },
     "output_type": "display_data"
    }
   ],
   "source": [
    "twmc.hist(he=False)"
   ]
  }
 ],
 "metadata": {
  "celltoolbar": "Tags",
  "hide_input": false,
  "kernelspec": {
   "display_name": "Python 3 (ipykernel)",
   "language": "python",
   "name": "python3"
  },
  "language_info": {
   "codemirror_mode": {
    "name": "ipython",
    "version": 3
   },
   "file_extension": ".py",
   "mimetype": "text/x-python",
   "name": "python",
   "nbconvert_exporter": "python",
   "pygments_lexer": "ipython3",
   "version": "3.9.2"
  },
  "latex_envs": {
   "LaTeX_envs_menu_present": true,
   "autoclose": false,
   "autocomplete": true,
   "bibliofile": "biblio.bib",
   "cite_by": "apalike",
   "current_citInitial": 1,
   "eqLabelWithNumbers": true,
   "eqNumInitial": 1,
   "hotkeys": {
    "equation": "Ctrl-E",
    "itemize": "Ctrl-I"
   },
   "labels_anchors": false,
   "latex_user_defs": false,
   "report_style_numbering": false,
   "user_envs_cfg": false
  },
  "nbsphinx-toctree": {
   "hidden": true,
   "maxdepth": 1,
   "titlesonly": true
  },
  "toc": {
   "base_numbering": 1,
   "nav_menu": {},
   "number_sections": true,
   "sideBar": true,
   "skip_h1_title": false,
   "title_cell": "Table of Contents",
   "title_sidebar": "Contents",
   "toc_cell": false,
   "toc_position": {},
   "toc_section_display": true,
   "toc_window_display": false
  },
  "varInspector": {
   "cols": {
    "lenName": 16,
    "lenType": 16,
    "lenVar": 40
   },
   "kernels_config": {
    "python": {
     "delete_cmd_postfix": "",
     "delete_cmd_prefix": "del ",
     "library": "var_list.py",
     "varRefreshCmd": "print(var_dic_list())"
    },
    "r": {
     "delete_cmd_postfix": ") ",
     "delete_cmd_prefix": "rm(",
     "library": "var_list.r",
     "varRefreshCmd": "cat(var_dic_list()) "
    }
   },
   "types_to_exclude": [
    "module",
    "function",
    "builtin_function_or_method",
    "instance",
    "_Feature"
   ],
   "window_display": false
  }
 },
 "nbformat": 4,
 "nbformat_minor": 4
}
