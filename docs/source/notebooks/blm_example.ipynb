{
 "cells": [
  {
   "cell_type": "markdown",
   "metadata": {},
   "source": [
    "# BLM example"
   ]
  },
  {
   "cell_type": "code",
   "execution_count": 1,
   "metadata": {},
   "outputs": [],
   "source": [
    "# Add PyTwoWay to system path (do not run this)\n",
    "# import sys\n",
    "# sys.path.append('../../..')"
   ]
  },
  {
   "cell_type": "markdown",
   "metadata": {},
   "source": [
    "## Import the PyTwoWay package\n",
    "\n",
    "Make sure to install it using `pip install pytwoway`."
   ]
  },
  {
   "cell_type": "code",
   "execution_count": 2,
   "metadata": {},
   "outputs": [],
   "source": [
    "import numpy as np\n",
    "import bipartitepandas as bpd\n",
    "import pytwoway as tw\n",
    "from pytwoway import constraints as cons\n",
    "from matplotlib import pyplot as plt"
   ]
  },
  {
   "cell_type": "markdown",
   "metadata": {},
   "source": [
    "## First, check out parameter options\n",
    "\n",
    "Do this by running:\n",
    "\n",
    "- BLM - `tw.blm_params().describe_all()`\n",
    "\n",
    "- Clustering - `bpd.cluster_params().describe_all()`\n",
    "\n",
    "- Cleaning - `bpd.clean_params().describe_all()`\n",
    "\n",
    "- Simulating - `bpd.sim_params().describe_all()`\n",
    "\n",
    "Alternatively, run `x_params().keys()` to view all the keys for a parameter dictionary, then `x_params().describe(key)` to get a description for a single key."
   ]
  },
  {
   "cell_type": "markdown",
   "metadata": {},
   "source": [
    "## Second, set parameter choices"
   ]
  },
  {
   "cell_type": "code",
   "execution_count": 3,
   "metadata": {},
   "outputs": [],
   "source": [
    "nl = 3 # Number of worker types\n",
    "nk = 4 # Number of firm types\n",
    "blm_params = tw.blm_params({\n",
    "    'nl': nl, 'nk': nk,\n",
    "    'a1_mu': 0, 'a1_sig': 1.5, 'a2_mu': 0, 'a2_sig': 1.5,\n",
    "    's1_low': 0.5, 's1_high': 1.5, 's2_low': 0.5, 's2_high': 1.5\n",
    "})\n",
    "cluster_params = bpd.cluster_params({\n",
    "    'measures': bpd.measures.CDFs(),\n",
    "    'grouping': bpd.grouping.KMeans(n_clusters=nk),\n",
    "    'is_sorted': True,\n",
    "    'copy': False\n",
    "})\n",
    "clean_params = bpd.clean_params({\n",
    "    'drop_returns': 'returners',\n",
    "    'copy': False\n",
    "})\n",
    "sim_params = bpd.sim_params({\n",
    "    'nl': nl, 'nk': nk,\n",
    "    'alpha_sig': 1, 'psi_sig': 1, 'w_sig': 0.6,\n",
    "    'c_sort': 0, 'c_netw': 0, 'c_sig': 1\n",
    "})"
   ]
  },
  {
   "cell_type": "markdown",
   "metadata": {},
   "source": [
    "## Extract data (we simulate for the example)\n",
    "\n",
    "`BipartitePandas` contains the class `SimBipartite` which we use here to simulate a bipartite network. If you have your own data, you can import it during this step. Load it as a `Pandas DataFrame` and then convert it into a `BipartitePandas DataFrame` in the next step.\n",
    "\n",
    "Note that `l` gives the true worker type and `k` gives the true firm type, while `alpha` gives the true worker effect and `psi` gives the true firm effect. We will save these columns separately.\n",
    "\n",
    "The BLM estimator uses the firm types computed via clustering, which are saved in columns `g1` and `g2`."
   ]
  },
  {
   "cell_type": "code",
   "execution_count": 4,
   "metadata": {},
   "outputs": [],
   "source": [
    "sim_data = bpd.SimBipartite(sim_params).simulate()"
   ]
  },
  {
   "cell_type": "markdown",
   "metadata": {},
   "source": [
    "## Prepare data\n",
    "\n",
    "This is exactly how you should prepare real data prior to running the BLM estimator.\n",
    "\n",
    "- First, we convert the data into a `BipartitePandas DataFrame`\n",
    "\n",
    "- Second, we clean the data (e.g. drop NaN observations, make sure firm and worker ids are contiguous, etc.)\n",
    "\n",
    "- Third, we cluster firms by their wage distributions, to generate firm classes (columns `g1` and `g2`)\n",
    "\n",
    "- Fourth, we collapse the data at the worker-firm spell level (taking mean wage over the spell)\n",
    "\n",
    "- Fifth, we convert the data into event study format\n",
    "\n",
    "Further details on `BipartitePandas` can be found in the package documentation, available [here](https://tlamadon.github.io/bipartitepandas/)."
   ]
  },
  {
   "cell_type": "code",
   "execution_count": 5,
   "metadata": {},
   "outputs": [
    {
     "name": "stdout",
     "output_type": "stream",
     "text": [
      "checking required columns and datatypes\n",
      "sorting rows\n",
      "dropping NaN observations\n",
      "generating 'm' column\n",
      "keeping highest paying job for i-t (worker-year) duplicates (how='max')\n",
      "dropping workers who leave a firm then return to it (how='returners')\n",
      "making 'i' ids contiguous\n",
      "making 'j' ids contiguous\n",
      "computing largest connected set (how=None)\n",
      "sorting columns\n",
      "resetting index\n"
     ]
    }
   ],
   "source": [
    "# Convert into BipartitePandas DataFrame\n",
    "sim_data = bpd.BipartiteDataFrame(sim_data)\n",
    "# Clean and collapse\n",
    "sim_data = sim_data.clean(clean_params).collapse(is_sorted=True, copy=False)\n",
    "# Cluster\n",
    "sim_data = sim_data.cluster(cluster_params)\n",
    "# Convert to event study format\n",
    "sim_data = sim_data.to_eventstudy(is_sorted=True, copy=False)"
   ]
  },
  {
   "cell_type": "markdown",
   "metadata": {},
   "source": [
    "## Separate observed and unobserved data\n",
    "\n",
    "Some of the simulated data is not observed, so we separate out that data during estimation."
   ]
  },
  {
   "cell_type": "code",
   "execution_count": 6,
   "metadata": {},
   "outputs": [],
   "source": [
    "sim_data_observed = sim_data.loc[:, ['i', 'j1', 'j2', 'y1', 'y2', 't11', 't12', 't21', 't22', 'g1', 'g2', 'w1', 'w2', 'm']]\n",
    "sim_data_unobserved = sim_data.loc[:, ['alpha1', 'alpha2', 'k1', 'k2', 'l1', 'l2', 'psi1', 'psi2']]"
   ]
  },
  {
   "cell_type": "markdown",
   "metadata": {},
   "source": [
    "## Separate movers and stayers data\n",
    "\n",
    "We need to distinguish movers and stayers for the estimator."
   ]
  },
  {
   "cell_type": "code",
   "execution_count": 7,
   "metadata": {},
   "outputs": [],
   "source": [
    "movers = sim_data_observed.get_worker_m(is_sorted=True)\n",
    "jdata = sim_data_observed.loc[movers, :]\n",
    "sdata = sim_data_observed.loc[~movers, :]"
   ]
  },
  {
   "cell_type": "markdown",
   "metadata": {},
   "source": [
    "## Check the data\n",
    "\n",
    "Let's check the cleaned data."
   ]
  },
  {
   "cell_type": "code",
   "execution_count": 8,
   "metadata": {},
   "outputs": [
    {
     "name": "stdout",
     "output_type": "stream",
     "text": [
      "Movers data\n"
     ]
    },
    {
     "data": {
      "text/html": [
       "<div>\n",
       "<style scoped>\n",
       "    .dataframe tbody tr th:only-of-type {\n",
       "        vertical-align: middle;\n",
       "    }\n",
       "\n",
       "    .dataframe tbody tr th {\n",
       "        vertical-align: top;\n",
       "    }\n",
       "\n",
       "    .dataframe thead th {\n",
       "        text-align: right;\n",
       "    }\n",
       "</style>\n",
       "<table border=\"1\" class=\"dataframe\">\n",
       "  <thead>\n",
       "    <tr style=\"text-align: right;\">\n",
       "      <th></th>\n",
       "      <th>i</th>\n",
       "      <th>j1</th>\n",
       "      <th>j2</th>\n",
       "      <th>y1</th>\n",
       "      <th>y2</th>\n",
       "      <th>t11</th>\n",
       "      <th>t12</th>\n",
       "      <th>t21</th>\n",
       "      <th>t22</th>\n",
       "      <th>g1</th>\n",
       "      <th>g2</th>\n",
       "      <th>w1</th>\n",
       "      <th>w2</th>\n",
       "      <th>m</th>\n",
       "    </tr>\n",
       "  </thead>\n",
       "  <tbody>\n",
       "    <tr>\n",
       "      <th>0</th>\n",
       "      <td>0</td>\n",
       "      <td>153</td>\n",
       "      <td>47</td>\n",
       "      <td>0.613625</td>\n",
       "      <td>-0.301150</td>\n",
       "      <td>0</td>\n",
       "      <td>0</td>\n",
       "      <td>1</td>\n",
       "      <td>3</td>\n",
       "      <td>2</td>\n",
       "      <td>0</td>\n",
       "      <td>1</td>\n",
       "      <td>3</td>\n",
       "      <td>1</td>\n",
       "    </tr>\n",
       "    <tr>\n",
       "      <th>1</th>\n",
       "      <td>0</td>\n",
       "      <td>47</td>\n",
       "      <td>28</td>\n",
       "      <td>-0.301150</td>\n",
       "      <td>-0.646376</td>\n",
       "      <td>1</td>\n",
       "      <td>3</td>\n",
       "      <td>4</td>\n",
       "      <td>4</td>\n",
       "      <td>0</td>\n",
       "      <td>3</td>\n",
       "      <td>3</td>\n",
       "      <td>1</td>\n",
       "      <td>1</td>\n",
       "    </tr>\n",
       "    <tr>\n",
       "      <th>2</th>\n",
       "      <td>1</td>\n",
       "      <td>108</td>\n",
       "      <td>113</td>\n",
       "      <td>1.418566</td>\n",
       "      <td>1.071380</td>\n",
       "      <td>0</td>\n",
       "      <td>0</td>\n",
       "      <td>1</td>\n",
       "      <td>4</td>\n",
       "      <td>2</td>\n",
       "      <td>2</td>\n",
       "      <td>1</td>\n",
       "      <td>4</td>\n",
       "      <td>1</td>\n",
       "    </tr>\n",
       "    <tr>\n",
       "      <th>4</th>\n",
       "      <td>3</td>\n",
       "      <td>73</td>\n",
       "      <td>142</td>\n",
       "      <td>-0.485959</td>\n",
       "      <td>1.234401</td>\n",
       "      <td>0</td>\n",
       "      <td>0</td>\n",
       "      <td>1</td>\n",
       "      <td>2</td>\n",
       "      <td>0</td>\n",
       "      <td>2</td>\n",
       "      <td>1</td>\n",
       "      <td>2</td>\n",
       "      <td>1</td>\n",
       "    </tr>\n",
       "    <tr>\n",
       "      <th>5</th>\n",
       "      <td>3</td>\n",
       "      <td>142</td>\n",
       "      <td>83</td>\n",
       "      <td>1.234401</td>\n",
       "      <td>0.373553</td>\n",
       "      <td>1</td>\n",
       "      <td>2</td>\n",
       "      <td>3</td>\n",
       "      <td>3</td>\n",
       "      <td>2</td>\n",
       "      <td>0</td>\n",
       "      <td>2</td>\n",
       "      <td>1</td>\n",
       "      <td>1</td>\n",
       "    </tr>\n",
       "    <tr>\n",
       "      <th>...</th>\n",
       "      <td>...</td>\n",
       "      <td>...</td>\n",
       "      <td>...</td>\n",
       "      <td>...</td>\n",
       "      <td>...</td>\n",
       "      <td>...</td>\n",
       "      <td>...</td>\n",
       "      <td>...</td>\n",
       "      <td>...</td>\n",
       "      <td>...</td>\n",
       "      <td>...</td>\n",
       "      <td>...</td>\n",
       "      <td>...</td>\n",
       "      <td>...</td>\n",
       "    </tr>\n",
       "    <tr>\n",
       "      <th>20252</th>\n",
       "      <td>9951</td>\n",
       "      <td>75</td>\n",
       "      <td>120</td>\n",
       "      <td>0.141238</td>\n",
       "      <td>0.788757</td>\n",
       "      <td>0</td>\n",
       "      <td>0</td>\n",
       "      <td>1</td>\n",
       "      <td>2</td>\n",
       "      <td>0</td>\n",
       "      <td>2</td>\n",
       "      <td>1</td>\n",
       "      <td>2</td>\n",
       "      <td>1</td>\n",
       "    </tr>\n",
       "    <tr>\n",
       "      <th>20253</th>\n",
       "      <td>9951</td>\n",
       "      <td>120</td>\n",
       "      <td>79</td>\n",
       "      <td>0.788757</td>\n",
       "      <td>0.322529</td>\n",
       "      <td>1</td>\n",
       "      <td>2</td>\n",
       "      <td>3</td>\n",
       "      <td>4</td>\n",
       "      <td>2</td>\n",
       "      <td>0</td>\n",
       "      <td>2</td>\n",
       "      <td>2</td>\n",
       "      <td>1</td>\n",
       "    </tr>\n",
       "    <tr>\n",
       "      <th>20255</th>\n",
       "      <td>9953</td>\n",
       "      <td>37</td>\n",
       "      <td>184</td>\n",
       "      <td>-1.197017</td>\n",
       "      <td>0.291295</td>\n",
       "      <td>0</td>\n",
       "      <td>0</td>\n",
       "      <td>1</td>\n",
       "      <td>1</td>\n",
       "      <td>3</td>\n",
       "      <td>1</td>\n",
       "      <td>1</td>\n",
       "      <td>1</td>\n",
       "      <td>1</td>\n",
       "    </tr>\n",
       "    <tr>\n",
       "      <th>20256</th>\n",
       "      <td>9953</td>\n",
       "      <td>184</td>\n",
       "      <td>65</td>\n",
       "      <td>0.291295</td>\n",
       "      <td>-0.138764</td>\n",
       "      <td>1</td>\n",
       "      <td>1</td>\n",
       "      <td>2</td>\n",
       "      <td>2</td>\n",
       "      <td>1</td>\n",
       "      <td>0</td>\n",
       "      <td>1</td>\n",
       "      <td>1</td>\n",
       "      <td>1</td>\n",
       "    </tr>\n",
       "    <tr>\n",
       "      <th>20257</th>\n",
       "      <td>9953</td>\n",
       "      <td>65</td>\n",
       "      <td>68</td>\n",
       "      <td>-0.138764</td>\n",
       "      <td>-1.830353</td>\n",
       "      <td>2</td>\n",
       "      <td>2</td>\n",
       "      <td>3</td>\n",
       "      <td>4</td>\n",
       "      <td>0</td>\n",
       "      <td>0</td>\n",
       "      <td>1</td>\n",
       "      <td>2</td>\n",
       "      <td>1</td>\n",
       "    </tr>\n",
       "  </tbody>\n",
       "</table>\n",
       "<p>19629 rows × 14 columns</p>\n",
       "</div>"
      ],
      "text/plain": [
       "          i   j1   j2        y1        y2  t11  t12  t21  t22  g1  g2  w1  w2  \\\n",
       "0         0  153   47  0.613625 -0.301150    0    0    1    3   2   0   1   3   \n",
       "1         0   47   28 -0.301150 -0.646376    1    3    4    4   0   3   3   1   \n",
       "2         1  108  113  1.418566  1.071380    0    0    1    4   2   2   1   4   \n",
       "4         3   73  142 -0.485959  1.234401    0    0    1    2   0   2   1   2   \n",
       "5         3  142   83  1.234401  0.373553    1    2    3    3   2   0   2   1   \n",
       "...     ...  ...  ...       ...       ...  ...  ...  ...  ...  ..  ..  ..  ..   \n",
       "20252  9951   75  120  0.141238  0.788757    0    0    1    2   0   2   1   2   \n",
       "20253  9951  120   79  0.788757  0.322529    1    2    3    4   2   0   2   2   \n",
       "20255  9953   37  184 -1.197017  0.291295    0    0    1    1   3   1   1   1   \n",
       "20256  9953  184   65  0.291295 -0.138764    1    1    2    2   1   0   1   1   \n",
       "20257  9953   65   68 -0.138764 -1.830353    2    2    3    4   0   0   1   2   \n",
       "\n",
       "       m  \n",
       "0      1  \n",
       "1      1  \n",
       "2      1  \n",
       "4      1  \n",
       "5      1  \n",
       "...   ..  \n",
       "20252  1  \n",
       "20253  1  \n",
       "20255  1  \n",
       "20256  1  \n",
       "20257  1  \n",
       "\n",
       "[19629 rows x 14 columns]"
      ]
     },
     "metadata": {},
     "output_type": "display_data"
    },
    {
     "name": "stdout",
     "output_type": "stream",
     "text": [
      "Stayers data\n"
     ]
    },
    {
     "data": {
      "text/html": [
       "<div>\n",
       "<style scoped>\n",
       "    .dataframe tbody tr th:only-of-type {\n",
       "        vertical-align: middle;\n",
       "    }\n",
       "\n",
       "    .dataframe tbody tr th {\n",
       "        vertical-align: top;\n",
       "    }\n",
       "\n",
       "    .dataframe thead th {\n",
       "        text-align: right;\n",
       "    }\n",
       "</style>\n",
       "<table border=\"1\" class=\"dataframe\">\n",
       "  <thead>\n",
       "    <tr style=\"text-align: right;\">\n",
       "      <th></th>\n",
       "      <th>i</th>\n",
       "      <th>j1</th>\n",
       "      <th>j2</th>\n",
       "      <th>y1</th>\n",
       "      <th>y2</th>\n",
       "      <th>t11</th>\n",
       "      <th>t12</th>\n",
       "      <th>t21</th>\n",
       "      <th>t22</th>\n",
       "      <th>g1</th>\n",
       "      <th>g2</th>\n",
       "      <th>w1</th>\n",
       "      <th>w2</th>\n",
       "      <th>m</th>\n",
       "    </tr>\n",
       "  </thead>\n",
       "  <tbody>\n",
       "    <tr>\n",
       "      <th>3</th>\n",
       "      <td>2</td>\n",
       "      <td>109</td>\n",
       "      <td>109</td>\n",
       "      <td>0.855529</td>\n",
       "      <td>0.855529</td>\n",
       "      <td>0</td>\n",
       "      <td>4</td>\n",
       "      <td>0</td>\n",
       "      <td>4</td>\n",
       "      <td>2</td>\n",
       "      <td>2</td>\n",
       "      <td>5</td>\n",
       "      <td>5</td>\n",
       "      <td>0</td>\n",
       "    </tr>\n",
       "    <tr>\n",
       "      <th>14</th>\n",
       "      <td>7</td>\n",
       "      <td>187</td>\n",
       "      <td>187</td>\n",
       "      <td>1.819389</td>\n",
       "      <td>1.819389</td>\n",
       "      <td>0</td>\n",
       "      <td>4</td>\n",
       "      <td>0</td>\n",
       "      <td>4</td>\n",
       "      <td>1</td>\n",
       "      <td>1</td>\n",
       "      <td>5</td>\n",
       "      <td>5</td>\n",
       "      <td>0</td>\n",
       "    </tr>\n",
       "    <tr>\n",
       "      <th>71</th>\n",
       "      <td>35</td>\n",
       "      <td>25</td>\n",
       "      <td>25</td>\n",
       "      <td>-0.199479</td>\n",
       "      <td>-0.199479</td>\n",
       "      <td>0</td>\n",
       "      <td>4</td>\n",
       "      <td>0</td>\n",
       "      <td>4</td>\n",
       "      <td>3</td>\n",
       "      <td>3</td>\n",
       "      <td>5</td>\n",
       "      <td>5</td>\n",
       "      <td>0</td>\n",
       "    </tr>\n",
       "    <tr>\n",
       "      <th>85</th>\n",
       "      <td>43</td>\n",
       "      <td>71</td>\n",
       "      <td>71</td>\n",
       "      <td>0.358620</td>\n",
       "      <td>0.358620</td>\n",
       "      <td>0</td>\n",
       "      <td>4</td>\n",
       "      <td>0</td>\n",
       "      <td>4</td>\n",
       "      <td>0</td>\n",
       "      <td>0</td>\n",
       "      <td>5</td>\n",
       "      <td>5</td>\n",
       "      <td>0</td>\n",
       "    </tr>\n",
       "    <tr>\n",
       "      <th>119</th>\n",
       "      <td>59</td>\n",
       "      <td>73</td>\n",
       "      <td>73</td>\n",
       "      <td>-1.073057</td>\n",
       "      <td>-1.073057</td>\n",
       "      <td>0</td>\n",
       "      <td>4</td>\n",
       "      <td>0</td>\n",
       "      <td>4</td>\n",
       "      <td>0</td>\n",
       "      <td>0</td>\n",
       "      <td>5</td>\n",
       "      <td>5</td>\n",
       "      <td>0</td>\n",
       "    </tr>\n",
       "    <tr>\n",
       "      <th>...</th>\n",
       "      <td>...</td>\n",
       "      <td>...</td>\n",
       "      <td>...</td>\n",
       "      <td>...</td>\n",
       "      <td>...</td>\n",
       "      <td>...</td>\n",
       "      <td>...</td>\n",
       "      <td>...</td>\n",
       "      <td>...</td>\n",
       "      <td>...</td>\n",
       "      <td>...</td>\n",
       "      <td>...</td>\n",
       "      <td>...</td>\n",
       "      <td>...</td>\n",
       "    </tr>\n",
       "    <tr>\n",
       "      <th>20152</th>\n",
       "      <td>9903</td>\n",
       "      <td>183</td>\n",
       "      <td>183</td>\n",
       "      <td>0.394483</td>\n",
       "      <td>0.394483</td>\n",
       "      <td>0</td>\n",
       "      <td>4</td>\n",
       "      <td>0</td>\n",
       "      <td>4</td>\n",
       "      <td>1</td>\n",
       "      <td>1</td>\n",
       "      <td>5</td>\n",
       "      <td>5</td>\n",
       "      <td>0</td>\n",
       "    </tr>\n",
       "    <tr>\n",
       "      <th>20161</th>\n",
       "      <td>9907</td>\n",
       "      <td>195</td>\n",
       "      <td>195</td>\n",
       "      <td>0.712078</td>\n",
       "      <td>0.712078</td>\n",
       "      <td>0</td>\n",
       "      <td>4</td>\n",
       "      <td>0</td>\n",
       "      <td>4</td>\n",
       "      <td>1</td>\n",
       "      <td>1</td>\n",
       "      <td>5</td>\n",
       "      <td>5</td>\n",
       "      <td>0</td>\n",
       "    </tr>\n",
       "    <tr>\n",
       "      <th>20200</th>\n",
       "      <td>9927</td>\n",
       "      <td>159</td>\n",
       "      <td>159</td>\n",
       "      <td>0.974832</td>\n",
       "      <td>0.974832</td>\n",
       "      <td>0</td>\n",
       "      <td>4</td>\n",
       "      <td>0</td>\n",
       "      <td>4</td>\n",
       "      <td>1</td>\n",
       "      <td>1</td>\n",
       "      <td>5</td>\n",
       "      <td>5</td>\n",
       "      <td>0</td>\n",
       "    </tr>\n",
       "    <tr>\n",
       "      <th>20247</th>\n",
       "      <td>9948</td>\n",
       "      <td>125</td>\n",
       "      <td>125</td>\n",
       "      <td>-0.204267</td>\n",
       "      <td>-0.204267</td>\n",
       "      <td>0</td>\n",
       "      <td>4</td>\n",
       "      <td>0</td>\n",
       "      <td>4</td>\n",
       "      <td>2</td>\n",
       "      <td>2</td>\n",
       "      <td>5</td>\n",
       "      <td>5</td>\n",
       "      <td>0</td>\n",
       "    </tr>\n",
       "    <tr>\n",
       "      <th>20254</th>\n",
       "      <td>9952</td>\n",
       "      <td>43</td>\n",
       "      <td>43</td>\n",
       "      <td>0.868407</td>\n",
       "      <td>0.868407</td>\n",
       "      <td>0</td>\n",
       "      <td>4</td>\n",
       "      <td>0</td>\n",
       "      <td>4</td>\n",
       "      <td>0</td>\n",
       "      <td>0</td>\n",
       "      <td>5</td>\n",
       "      <td>5</td>\n",
       "      <td>0</td>\n",
       "    </tr>\n",
       "  </tbody>\n",
       "</table>\n",
       "<p>629 rows × 14 columns</p>\n",
       "</div>"
      ],
      "text/plain": [
       "          i   j1   j2        y1        y2  t11  t12  t21  t22  g1  g2  w1  w2  \\\n",
       "3         2  109  109  0.855529  0.855529    0    4    0    4   2   2   5   5   \n",
       "14        7  187  187  1.819389  1.819389    0    4    0    4   1   1   5   5   \n",
       "71       35   25   25 -0.199479 -0.199479    0    4    0    4   3   3   5   5   \n",
       "85       43   71   71  0.358620  0.358620    0    4    0    4   0   0   5   5   \n",
       "119      59   73   73 -1.073057 -1.073057    0    4    0    4   0   0   5   5   \n",
       "...     ...  ...  ...       ...       ...  ...  ...  ...  ...  ..  ..  ..  ..   \n",
       "20152  9903  183  183  0.394483  0.394483    0    4    0    4   1   1   5   5   \n",
       "20161  9907  195  195  0.712078  0.712078    0    4    0    4   1   1   5   5   \n",
       "20200  9927  159  159  0.974832  0.974832    0    4    0    4   1   1   5   5   \n",
       "20247  9948  125  125 -0.204267 -0.204267    0    4    0    4   2   2   5   5   \n",
       "20254  9952   43   43  0.868407  0.868407    0    4    0    4   0   0   5   5   \n",
       "\n",
       "       m  \n",
       "3      0  \n",
       "14     0  \n",
       "71     0  \n",
       "85     0  \n",
       "119    0  \n",
       "...   ..  \n",
       "20152  0  \n",
       "20161  0  \n",
       "20200  0  \n",
       "20247  0  \n",
       "20254  0  \n",
       "\n",
       "[629 rows x 14 columns]"
      ]
     },
     "metadata": {},
     "output_type": "display_data"
    }
   ],
   "source": [
    "print('Movers data')\n",
    "display(jdata)\n",
    "print('Stayers data')\n",
    "display(sdata)"
   ]
  },
  {
   "cell_type": "markdown",
   "metadata": {},
   "source": [
    "## Initialize and run BLMEstimator\n",
    "\n",
    "<div class=\"alert alert-info\">\n",
    "\n",
    "Note\n",
    "\n",
    "The `BLMEstimator` class requires data to be formatted as a BipartitePandas DataFrame.\n",
    "\n",
    "</div>"
   ]
  },
  {
   "cell_type": "code",
   "execution_count": null,
   "metadata": {},
   "outputs": [],
   "source": [
    "# Initialize BLM estimator\n",
    "blm_fit = tw.BLMEstimator(blm_params)\n",
    "# Fit BLM estimator\n",
    "blm_fit.fit(jdata=jdata, sdata=sdata, n_init=40, n_best=5, ncore=8)\n",
    "# Store best model\n",
    "blm_model = blm_fit.model"
   ]
  },
  {
   "cell_type": "markdown",
   "metadata": {},
   "source": [
    "## Check that log-likelihoods are monotonic"
   ]
  },
  {
   "cell_type": "code",
   "execution_count": 10,
   "metadata": {},
   "outputs": [
    {
     "name": "stdout",
     "output_type": "stream",
     "text": [
      "Log-likelihoods monotonic (movers): True\n"
     ]
    },
    {
     "data": {
      "text/plain": [
       "Text(0, 0.5, 'Change in log-likelihood')"
      ]
     },
     "execution_count": 10,
     "metadata": {},
     "output_type": "execute_result"
    },
    {
     "data": {
      "image/png": "[encoded data removed]",
      "text/plain": [
       "<Figure size 432x288 with 1 Axes>"
      ]
     },
     "metadata": {
      "needs_background": "light"
     },
     "output_type": "display_data"
    }
   ],
   "source": [
    "liks1 = blm_model.liks1\n",
    "\n",
    "print('Log-likelihoods monotonic (movers):', np.min(np.diff(liks1)) >= 0)\n",
    "\n",
    "x_axis = range(1, len(liks1))\n",
    "plt.plot(x_axis, np.diff(liks1), '.', label='liks1', color='red')\n",
    "plt.plot(x_axis, np.zeros(len(liks1) - 1))\n",
    "plt.xlabel('Iteration')\n",
    "plt.ylabel('Change in log-likelihood')"
   ]
  },
  {
   "cell_type": "code",
   "execution_count": 11,
   "metadata": {},
   "outputs": [
    {
     "name": "stdout",
     "output_type": "stream",
     "text": [
      "Log-likelihoods monotonic (stayers): True\n"
     ]
    },
    {
     "data": {
      "text/plain": [
       "Text(0, 0.5, 'Change in log-likelihood')"
      ]
     },
     "execution_count": 11,
     "metadata": {},
     "output_type": "execute_result"
    },
    {
     "data": {
      "image/png": "[encoded data removed]",
      "text/plain": [
       "<Figure size 432x288 with 1 Axes>"
      ]
     },
     "metadata": {
      "needs_background": "light"
     },
     "output_type": "display_data"
    }
   ],
   "source": [
    "liks0 = blm_model.liks0\n",
    "\n",
    "print('Log-likelihoods monotonic (stayers):', np.min(np.diff(liks0)) >= 0)\n",
    "\n",
    "x_axis = range(1, len(liks0))\n",
    "plt.plot(x_axis, np.diff(liks0), '.', label='liks0', color='red')\n",
    "plt.plot(x_axis, np.zeros(len(liks0) - 1))\n",
    "plt.xlabel('Iteration')\n",
    "plt.ylabel('Change in log-likelihood')"
   ]
  },
  {
   "cell_type": "markdown",
   "metadata": {},
   "source": [
    "## Now we can investigate the results"
   ]
  },
  {
   "cell_type": "code",
   "execution_count": 12,
   "metadata": {},
   "outputs": [
    {
     "data": {
      "image/png": "[encoded data removed]",
      "text/plain": [
       "<Figure size 432x288 with 1 Axes>"
      ]
     },
     "metadata": {
      "needs_background": "light"
     },
     "output_type": "display_data"
    }
   ],
   "source": [
    "# Plot likelihood vs. connectedness\n",
    "blm_fit.plot_liks_connectedness()"
   ]
  },
  {
   "cell_type": "code",
   "execution_count": 13,
   "metadata": {},
   "outputs": [
    {
     "data": {
      "image/png": "[encoded data removed]",
      "text/plain": [
       "<Figure size 432x288 with 1 Axes>"
      ]
     },
     "metadata": {
      "needs_background": "light"
     },
     "output_type": "display_data"
    }
   ],
   "source": [
    "blm_fit.plot_log_earnings()"
   ]
  },
  {
   "cell_type": "code",
   "execution_count": 14,
   "metadata": {
    "scrolled": true
   },
   "outputs": [
    {
     "data": {
      "image/png": "[encoded data removed]",
      "text/plain": [
       "<Figure size 432x288 with 1 Axes>"
      ]
     },
     "metadata": {
      "needs_background": "light"
     },
     "output_type": "display_data"
    }
   ],
   "source": [
    "blm_fit.plot_type_proportions()"
   ]
  },
  {
   "cell_type": "markdown",
   "metadata": {},
   "source": [
    "## Finally, we can compare estimates to the truth"
   ]
  },
  {
   "cell_type": "code",
   "execution_count": 15,
   "metadata": {},
   "outputs": [],
   "source": [
    "# Compute true parameters\n",
    "true_A1 = np.expand_dims(sim_data_unobserved.groupby('l1')['alpha1'].mean().to_numpy(), 1) + np.tile(sim_data_unobserved.groupby('k1')['psi1'].mean().to_numpy(), (nl, 1))\n",
    "true_A2 = np.expand_dims(sim_data_unobserved.groupby('l2')['alpha2'].mean().to_numpy(), 1) + np.tile(sim_data_unobserved.groupby('k2')['psi2'].mean().to_numpy(), (nl, 1))\n",
    "\n",
    "# Sort estimated parameters (this is because the firm type order generated by clustering is random - this is automatically handled in the built-in plotting functions)\n",
    "A1, A2 = blm_model._sort_parameters(blm_model.A1, blm_model.A2, sort_firm_types=True)"
   ]
  },
  {
   "cell_type": "code",
   "execution_count": 16,
   "metadata": {},
   "outputs": [
    {
     "data": {
      "image/png": "[encoded data removed]",
      "text/plain": [
       "<Figure size 432x288 with 1 Axes>"
      ]
     },
     "metadata": {
      "needs_background": "light"
     },
     "output_type": "display_data"
    }
   ],
   "source": [
    "plt.plot(true_A1.flatten(), A1.flatten(), '.', label='A1', color='red')\n",
    "plt.plot(true_A2.flatten(), A2.flatten(), '.', label='A2', color='green')\n",
    "plt.xlabel('Truth')\n",
    "plt.ylabel('Estimate')\n",
    "plt.legend()\n",
    "plt.grid()\n",
    "plt.show()"
   ]
  },
  {
   "cell_type": "markdown",
   "metadata": {},
   "source": [
    "## Bootstrapped errors\n",
    "\n",
    "The package contains the class `BLMBootstrap`, which allows for the construction of bootstrapped error bars.\n",
    "\n",
    "In this example, we use the same simulated data and estimation parameters as in the previous example."
   ]
  },
  {
   "cell_type": "code",
   "execution_count": null,
   "metadata": {},
   "outputs": [],
   "source": [
    "# Initialize BLM bootstrap estimator\n",
    "blm_fit = tw.BLMBootstrap(blm_params)\n",
    "# Fit BLM estimator\n",
    "blm_fit.fit(\n",
    "    jdata=jdata, sdata=sdata,\n",
    "    blm_model=blm_model,\n",
    "    n_samples=20,\n",
    "    cluster_params=cluster_params,\n",
    "    ncore=8,\n",
    "    verbose=False\n",
    ")"
   ]
  },
  {
   "cell_type": "markdown",
   "metadata": {},
   "source": [
    "## Now we can investigate the results"
   ]
  },
  {
   "cell_type": "code",
   "execution_count": 18,
   "metadata": {},
   "outputs": [
    {
     "data": {
      "image/png": "[encoded data removed]",
      "text/plain": [
       "<Figure size 432x288 with 1 Axes>"
      ]
     },
     "metadata": {
      "needs_background": "light"
     },
     "output_type": "display_data"
    }
   ],
   "source": [
    "blm_fit.plot_log_earnings()"
   ]
  },
  {
   "cell_type": "code",
   "execution_count": 19,
   "metadata": {},
   "outputs": [
    {
     "data": {
      "image/png": "[encoded data removed]",
      "text/plain": [
       "<Figure size 432x288 with 1 Axes>"
      ]
     },
     "metadata": {
      "needs_background": "light"
     },
     "output_type": "display_data"
    }
   ],
   "source": [
    "blm_fit.plot_type_proportions()"
   ]
  },
  {
   "cell_type": "markdown",
   "metadata": {},
   "source": [
    "## Control variables\n",
    "\n",
    "## Simulating data with controls\n",
    "\n",
    "The package contains functions to simulate data from the BLM dgp. We use this here to see how to use control variables.\n",
    "\n",
    "In this example, we simulate a categorical, non-stationary, non-worker-type-interaction control variable. We use a low variance to ensure stability of the estimator.\n",
    "\n",
    "## Check out simulation parameter options\n",
    "\n",
    "Do this by running:\n",
    "\n",
    "- Simulating Categorical Controls - `tw.sim_categorical_control_params().describe_all()`\n",
    "\n",
    "- Simulating Continuous Controls - `tw.sim_continuous_control_params().describe_all()`\n",
    "\n",
    "Alternatively, run `x_params().keys()` to view all the keys for a parameter dictionary, then `x_params().describe(key)` to get a description for a single key."
   ]
  },
  {
   "cell_type": "markdown",
   "metadata": {},
   "source": [
    "## Set simulation parameter choices"
   ]
  },
  {
   "cell_type": "code",
   "execution_count": 20,
   "metadata": {},
   "outputs": [],
   "source": [
    "n_control = 2 # Number of types for control variable\n",
    "\n",
    "sim_cat_params = tw.sim_categorical_control_params({\n",
    "    'n': n_control,\n",
    "    'stationary_A': False, 'stationary_S': False,\n",
    "    'worker_type_interaction': False,\n",
    "    'a1_mu': -0.5, 'a1_sig': 0.25, 'a2_mu': 0.5, 'a2_sig': 0.25,\n",
    "    's1_low': 0, 's1_high': 0.01, 's2_low': 0, 's2_high': 0.01\n",
    "})\n",
    "sim_cts_params = tw.sim_continuous_control_params({\n",
    "    'stationary_A': True, 'stationary_S': True,\n",
    "    'worker_type_interaction': True,\n",
    "    'a1_mu': -0.15, 'a1_sig': 0.05, 'a2_mu': 0.15, 'a2_sig': 0.05,\n",
    "    's1_low': 0, 's1_high': 0.01, 's2_low': 0, 's2_high': 0.01\n",
    "})\n",
    "sim_blm_params = tw.sim_blm_params({\n",
    "    'nl': nl, 'nk': nk,\n",
    "    'a1_mu': -2, 'a1_sig': 0.25, 'a2_mu': 2, 'a2_sig': 0.25,\n",
    "    's1_low': 0, 's1_high': 0.01, 's2_low': 0, 's2_high': 0.01,\n",
    "    'categorical_controls': {'cat_control': sim_cat_params},\n",
    "    'continuous_controls': {'cts_control': sim_cts_params}\n",
    "})"
   ]
  },
  {
   "cell_type": "markdown",
   "metadata": {},
   "source": [
    "## Estimating control variables\n",
    "\n",
    "PyTwoWay allows for categorical and continuous control variables.\n",
    "\n",
    "### Categorical\n",
    "\n",
    "To define a categorical control variable, construct an instance of the parameter dictionary `tw.categorical_control_params()`.\n",
    "\n",
    "Then, inside an instance of `blm_params()`, link the key `'categorical_controls'` to a dictionary linking column names to their associated parameter dictionaries.\n",
    "\n",
    "### Continuous\n",
    "\n",
    "To define a continuous control variable, construct an instance of the parameter dictionary `tw.continuous_control_params()`.\n",
    "\n",
    "Then, inside an instance of `blm_params()`, link the key `'continuous_controls'` to a dictionary linking column names to their associated parameter dictionaries.\n",
    "\n",
    "### Constraints\n",
    "\n",
    "Constraints can be specified for control variables. They are set through the `cons_a` and `cons_s` keys for a given control variable's parameter dictionary, except for `NoWorkerTypeInteraction()`. Constraint options are:\n",
    "- `Linear()` - for a fixed firm type, worker types effects must change linearly\n",
    "- `Monotonic()` - for a fixed firm type, worker types effects must increase (or decrease) monotonically\n",
    "- `NoWorkerTypeInteraction()` - for a fixed firm type, worker types effects must all be the same\n",
    "- `Stationary()` - worker-firm pair effects are the same in all periods\n",
    "- `StationaryFirmTypeVariation()` - firm type induced variation of worker-firm pair effects is the same in all periods. In particular, this is equivalent to setting `A2 = (np.mean(A2, axis=1) + A1.T - np.mean(A1, axis=1)).T`.\n",
    "- `BoundedBelow()` - worker-firm pair effects are bounded below\n",
    "- `BoundedAbove()` - worker-firm pair effects are bounded above\n",
    "\n",
    "`NoWorkerTypeInteraction()` is not specified through the `cons_a` and `cons_s` keys. Instead, if you want a control variable to interact with the unobserved worker types, this can be specified by setting `worker_type_interaction=True` in the control variable's parameter dictionary.\n",
    "\n",
    "<div class=\"alert alert-warning\">\n",
    "\n",
    "Warning\n",
    "\n",
    "Be careful when adding constraints to categorical control variables (note that not interacting with worker types requires constraints). Because categorical control variables require normalization, the choice of how to normalize can alter parameter estimates. This may raise a warning if the normalization gets stuck in a cycle of changing how to normalize every loop and the estimator is not converging. The estimator will work if you set `force_min_firm_type=True` in your BLM parameter dictionary - the warning will also provide a reminder of this option.\n",
    "\n",
    "</div>\n",
    "\n",
    "## Check out estimation parameter options\n",
    "\n",
    "Do this by running:\n",
    "\n",
    "- Estimating Categorical Controls - `tw.categorical_control_params().describe_all()`\n",
    "\n",
    "- Estimating Continuous Controls - `tw.continuous_control_params().describe_all()`\n",
    "\n",
    "Alternatively, run `x_params().keys()` to view all the keys for a parameter dictionary, then `x_params().describe(key)` to get a description for a single key."
   ]
  },
  {
   "cell_type": "markdown",
   "metadata": {},
   "source": [
    "## Set estimation parameter choices"
   ]
  },
  {
   "cell_type": "code",
   "execution_count": 21,
   "metadata": {},
   "outputs": [],
   "source": [
    "cat_params = tw.categorical_control_params({\n",
    "    'n': n_control,\n",
    "    'worker_type_interaction': False,\n",
    "    'cons_a': None, 'cons_s': None,\n",
    "    'a1_mu': -0.5, 'a1_sig': 0.25, 'a2_mu': 0.5, 'a2_sig': 0.25,\n",
    "    's1_low': 0, 's1_high': 0.01, 's2_low': 0, 's2_high': 0.01\n",
    "})\n",
    "cts_params = tw.continuous_control_params({\n",
    "    'worker_type_interaction': True,\n",
    "    'cons_a': cons.Stationary(), 'cons_s': cons.Stationary(),\n",
    "    'a1_mu': -0.15, 'a1_sig': 0.05, 'a2_mu': 0.15, 'a2_sig': 0.05,\n",
    "    's1_low': 0, 's1_high': 0.01, 's2_low': 0, 's2_high': 0.01\n",
    "})\n",
    "blm_params = tw.blm_params({\n",
    "    'nl': nl, 'nk': nk,\n",
    "    'a1_mu': -2, 'a1_sig': 0.25, 'a2_mu': 2, 'a2_sig': 0.25,\n",
    "    's1_low': 0, 's1_high': 0.01, 's2_low': 0, 's2_high': 0.01,\n",
    "    'categorical_controls': {'cat_control': cat_params},\n",
    "    'continuous_controls': {'cts_control': cts_params},\n",
    "    'force_min_firm_type': True\n",
    "})"
   ]
  },
  {
   "cell_type": "markdown",
   "metadata": {},
   "source": [
    "## Simulate data\n",
    "\n",
    "`sim_data` gives a dictionary where the key `'jdata'` gives simulated mover data and the key `'sdata'` gives simulated stayer data.\n",
    "\n",
    "`sim_params` gives a dictionary that links each type of control variable to the simulated parameter values for that type."
   ]
  },
  {
   "cell_type": "code",
   "execution_count": 22,
   "metadata": {},
   "outputs": [],
   "source": [
    "blm_true = tw.SimBLM(sim_blm_params)\n",
    "sim_data, sim_params = blm_true.simulate(return_parameters=True)\n",
    "jdata, sdata = sim_data['jdata'], sim_data['sdata']"
   ]
  },
  {
   "cell_type": "code",
   "execution_count": 23,
   "metadata": {},
   "outputs": [
    {
     "name": "stdout",
     "output_type": "stream",
     "text": [
      "Movers data\n"
     ]
    },
    {
     "data": {
      "text/html": [
       "<div>\n",
       "<style scoped>\n",
       "    .dataframe tbody tr th:only-of-type {\n",
       "        vertical-align: middle;\n",
       "    }\n",
       "\n",
       "    .dataframe tbody tr th {\n",
       "        vertical-align: top;\n",
       "    }\n",
       "\n",
       "    .dataframe thead th {\n",
       "        text-align: right;\n",
       "    }\n",
       "</style>\n",
       "<table border=\"1\" class=\"dataframe\">\n",
       "  <thead>\n",
       "    <tr style=\"text-align: right;\">\n",
       "      <th></th>\n",
       "      <th>i</th>\n",
       "      <th>j1</th>\n",
       "      <th>j2</th>\n",
       "      <th>y1</th>\n",
       "      <th>y2</th>\n",
       "      <th>g1</th>\n",
       "      <th>g2</th>\n",
       "      <th>m</th>\n",
       "      <th>cat_control1</th>\n",
       "      <th>cat_control2</th>\n",
       "      <th>cts_control1</th>\n",
       "      <th>cts_control2</th>\n",
       "      <th>l</th>\n",
       "    </tr>\n",
       "  </thead>\n",
       "  <tbody>\n",
       "    <tr>\n",
       "      <th>0</th>\n",
       "      <td>0</td>\n",
       "      <td>1</td>\n",
       "      <td>0</td>\n",
       "      <td>-2.470988</td>\n",
       "      <td>2.109377</td>\n",
       "      <td>0</td>\n",
       "      <td>0</td>\n",
       "      <td>1</td>\n",
       "      <td>1</td>\n",
       "      <td>0</td>\n",
       "      <td>1.478267</td>\n",
       "      <td>-0.797420</td>\n",
       "      <td>1</td>\n",
       "    </tr>\n",
       "    <tr>\n",
       "      <th>1</th>\n",
       "      <td>1</td>\n",
       "      <td>1</td>\n",
       "      <td>0</td>\n",
       "      <td>-3.002823</td>\n",
       "      <td>2.777639</td>\n",
       "      <td>0</td>\n",
       "      <td>0</td>\n",
       "      <td>1</td>\n",
       "      <td>0</td>\n",
       "      <td>1</td>\n",
       "      <td>-0.151668</td>\n",
       "      <td>-0.325696</td>\n",
       "      <td>0</td>\n",
       "    </tr>\n",
       "    <tr>\n",
       "      <th>2</th>\n",
       "      <td>2</td>\n",
       "      <td>1</td>\n",
       "      <td>0</td>\n",
       "      <td>-3.084084</td>\n",
       "      <td>2.090665</td>\n",
       "      <td>0</td>\n",
       "      <td>0</td>\n",
       "      <td>1</td>\n",
       "      <td>0</td>\n",
       "      <td>0</td>\n",
       "      <td>0.252829</td>\n",
       "      <td>-0.540976</td>\n",
       "      <td>0</td>\n",
       "    </tr>\n",
       "    <tr>\n",
       "      <th>3</th>\n",
       "      <td>3</td>\n",
       "      <td>0</td>\n",
       "      <td>1</td>\n",
       "      <td>-2.986569</td>\n",
       "      <td>2.165838</td>\n",
       "      <td>0</td>\n",
       "      <td>0</td>\n",
       "      <td>1</td>\n",
       "      <td>0</td>\n",
       "      <td>0</td>\n",
       "      <td>-0.182375</td>\n",
       "      <td>-0.826057</td>\n",
       "      <td>0</td>\n",
       "    </tr>\n",
       "    <tr>\n",
       "      <th>4</th>\n",
       "      <td>4</td>\n",
       "      <td>1</td>\n",
       "      <td>0</td>\n",
       "      <td>-2.130137</td>\n",
       "      <td>3.025970</td>\n",
       "      <td>0</td>\n",
       "      <td>0</td>\n",
       "      <td>1</td>\n",
       "      <td>1</td>\n",
       "      <td>1</td>\n",
       "      <td>-0.191861</td>\n",
       "      <td>-1.657853</td>\n",
       "      <td>0</td>\n",
       "    </tr>\n",
       "    <tr>\n",
       "      <th>...</th>\n",
       "      <td>...</td>\n",
       "      <td>...</td>\n",
       "      <td>...</td>\n",
       "      <td>...</td>\n",
       "      <td>...</td>\n",
       "      <td>...</td>\n",
       "      <td>...</td>\n",
       "      <td>...</td>\n",
       "      <td>...</td>\n",
       "      <td>...</td>\n",
       "      <td>...</td>\n",
       "      <td>...</td>\n",
       "      <td>...</td>\n",
       "    </tr>\n",
       "    <tr>\n",
       "      <th>155</th>\n",
       "      <td>155</td>\n",
       "      <td>6</td>\n",
       "      <td>7</td>\n",
       "      <td>-1.927046</td>\n",
       "      <td>1.659918</td>\n",
       "      <td>3</td>\n",
       "      <td>3</td>\n",
       "      <td>1</td>\n",
       "      <td>1</td>\n",
       "      <td>0</td>\n",
       "      <td>-0.523376</td>\n",
       "      <td>-0.271900</td>\n",
       "      <td>1</td>\n",
       "    </tr>\n",
       "    <tr>\n",
       "      <th>156</th>\n",
       "      <td>156</td>\n",
       "      <td>6</td>\n",
       "      <td>7</td>\n",
       "      <td>-1.797826</td>\n",
       "      <td>1.566731</td>\n",
       "      <td>3</td>\n",
       "      <td>3</td>\n",
       "      <td>1</td>\n",
       "      <td>1</td>\n",
       "      <td>0</td>\n",
       "      <td>-1.526538</td>\n",
       "      <td>0.378996</td>\n",
       "      <td>1</td>\n",
       "    </tr>\n",
       "    <tr>\n",
       "      <th>157</th>\n",
       "      <td>157</td>\n",
       "      <td>7</td>\n",
       "      <td>6</td>\n",
       "      <td>-1.903590</td>\n",
       "      <td>2.485355</td>\n",
       "      <td>3</td>\n",
       "      <td>3</td>\n",
       "      <td>1</td>\n",
       "      <td>1</td>\n",
       "      <td>1</td>\n",
       "      <td>-0.730855</td>\n",
       "      <td>-1.186096</td>\n",
       "      <td>1</td>\n",
       "    </tr>\n",
       "    <tr>\n",
       "      <th>158</th>\n",
       "      <td>158</td>\n",
       "      <td>6</td>\n",
       "      <td>7</td>\n",
       "      <td>-2.468515</td>\n",
       "      <td>1.914829</td>\n",
       "      <td>3</td>\n",
       "      <td>3</td>\n",
       "      <td>1</td>\n",
       "      <td>0</td>\n",
       "      <td>0</td>\n",
       "      <td>0.065660</td>\n",
       "      <td>-1.450291</td>\n",
       "      <td>2</td>\n",
       "    </tr>\n",
       "    <tr>\n",
       "      <th>159</th>\n",
       "      <td>159</td>\n",
       "      <td>7</td>\n",
       "      <td>6</td>\n",
       "      <td>-1.438632</td>\n",
       "      <td>2.608168</td>\n",
       "      <td>3</td>\n",
       "      <td>3</td>\n",
       "      <td>1</td>\n",
       "      <td>1</td>\n",
       "      <td>1</td>\n",
       "      <td>-1.622109</td>\n",
       "      <td>-1.364883</td>\n",
       "      <td>2</td>\n",
       "    </tr>\n",
       "  </tbody>\n",
       "</table>\n",
       "<p>160 rows × 13 columns</p>\n",
       "</div>"
      ],
      "text/plain": [
       "       i  j1  j2        y1        y2  g1  g2  m  cat_control1  cat_control2  \\\n",
       "0      0   1   0 -2.470988  2.109377   0   0  1             1             0   \n",
       "1      1   1   0 -3.002823  2.777639   0   0  1             0             1   \n",
       "2      2   1   0 -3.084084  2.090665   0   0  1             0             0   \n",
       "3      3   0   1 -2.986569  2.165838   0   0  1             0             0   \n",
       "4      4   1   0 -2.130137  3.025970   0   0  1             1             1   \n",
       "..   ...  ..  ..       ...       ...  ..  .. ..           ...           ...   \n",
       "155  155   6   7 -1.927046  1.659918   3   3  1             1             0   \n",
       "156  156   6   7 -1.797826  1.566731   3   3  1             1             0   \n",
       "157  157   7   6 -1.903590  2.485355   3   3  1             1             1   \n",
       "158  158   6   7 -2.468515  1.914829   3   3  1             0             0   \n",
       "159  159   7   6 -1.438632  2.608168   3   3  1             1             1   \n",
       "\n",
       "     cts_control1  cts_control2  l  \n",
       "0        1.478267     -0.797420  1  \n",
       "1       -0.151668     -0.325696  0  \n",
       "2        0.252829     -0.540976  0  \n",
       "3       -0.182375     -0.826057  0  \n",
       "4       -0.191861     -1.657853  0  \n",
       "..            ...           ... ..  \n",
       "155     -0.523376     -0.271900  1  \n",
       "156     -1.526538      0.378996  1  \n",
       "157     -0.730855     -1.186096  1  \n",
       "158      0.065660     -1.450291  2  \n",
       "159     -1.622109     -1.364883  2  \n",
       "\n",
       "[160 rows x 13 columns]"
      ]
     },
     "metadata": {},
     "output_type": "display_data"
    },
    {
     "name": "stdout",
     "output_type": "stream",
     "text": [
      "Stayers data\n"
     ]
    },
    {
     "data": {
      "text/html": [
       "<div>\n",
       "<style scoped>\n",
       "    .dataframe tbody tr th:only-of-type {\n",
       "        vertical-align: middle;\n",
       "    }\n",
       "\n",
       "    .dataframe tbody tr th {\n",
       "        vertical-align: top;\n",
       "    }\n",
       "\n",
       "    .dataframe thead th {\n",
       "        text-align: right;\n",
       "    }\n",
       "</style>\n",
       "<table border=\"1\" class=\"dataframe\">\n",
       "  <thead>\n",
       "    <tr style=\"text-align: right;\">\n",
       "      <th></th>\n",
       "      <th>i</th>\n",
       "      <th>j1</th>\n",
       "      <th>j2</th>\n",
       "      <th>y1</th>\n",
       "      <th>y2</th>\n",
       "      <th>g1</th>\n",
       "      <th>g2</th>\n",
       "      <th>m</th>\n",
       "      <th>cat_control1</th>\n",
       "      <th>cat_control2</th>\n",
       "      <th>cts_control1</th>\n",
       "      <th>cts_control2</th>\n",
       "      <th>l</th>\n",
       "    </tr>\n",
       "  </thead>\n",
       "  <tbody>\n",
       "    <tr>\n",
       "      <th>0</th>\n",
       "      <td>160</td>\n",
       "      <td>0</td>\n",
       "      <td>0</td>\n",
       "      <td>-2.051935</td>\n",
       "      <td>2.750012</td>\n",
       "      <td>0</td>\n",
       "      <td>0</td>\n",
       "      <td>0</td>\n",
       "      <td>1</td>\n",
       "      <td>1</td>\n",
       "      <td>-0.084790</td>\n",
       "      <td>-1.134127</td>\n",
       "      <td>2</td>\n",
       "    </tr>\n",
       "    <tr>\n",
       "      <th>1</th>\n",
       "      <td>161</td>\n",
       "      <td>1</td>\n",
       "      <td>1</td>\n",
       "      <td>-2.245787</td>\n",
       "      <td>2.118140</td>\n",
       "      <td>0</td>\n",
       "      <td>0</td>\n",
       "      <td>0</td>\n",
       "      <td>1</td>\n",
       "      <td>0</td>\n",
       "      <td>-0.351845</td>\n",
       "      <td>-0.690638</td>\n",
       "      <td>1</td>\n",
       "    </tr>\n",
       "    <tr>\n",
       "      <th>2</th>\n",
       "      <td>162</td>\n",
       "      <td>0</td>\n",
       "      <td>0</td>\n",
       "      <td>-2.951997</td>\n",
       "      <td>2.057362</td>\n",
       "      <td>0</td>\n",
       "      <td>0</td>\n",
       "      <td>0</td>\n",
       "      <td>0</td>\n",
       "      <td>0</td>\n",
       "      <td>-1.540472</td>\n",
       "      <td>-0.401342</td>\n",
       "      <td>1</td>\n",
       "    </tr>\n",
       "    <tr>\n",
       "      <th>3</th>\n",
       "      <td>163</td>\n",
       "      <td>1</td>\n",
       "      <td>1</td>\n",
       "      <td>-3.243544</td>\n",
       "      <td>2.110061</td>\n",
       "      <td>0</td>\n",
       "      <td>0</td>\n",
       "      <td>0</td>\n",
       "      <td>0</td>\n",
       "      <td>0</td>\n",
       "      <td>0.740741</td>\n",
       "      <td>-0.750209</td>\n",
       "      <td>1</td>\n",
       "    </tr>\n",
       "    <tr>\n",
       "      <th>4</th>\n",
       "      <td>164</td>\n",
       "      <td>1</td>\n",
       "      <td>1</td>\n",
       "      <td>-2.270621</td>\n",
       "      <td>1.940222</td>\n",
       "      <td>0</td>\n",
       "      <td>0</td>\n",
       "      <td>0</td>\n",
       "      <td>1</td>\n",
       "      <td>0</td>\n",
       "      <td>-0.019753</td>\n",
       "      <td>0.605036</td>\n",
       "      <td>1</td>\n",
       "    </tr>\n",
       "    <tr>\n",
       "      <th>5</th>\n",
       "      <td>165</td>\n",
       "      <td>0</td>\n",
       "      <td>0</td>\n",
       "      <td>-2.036256</td>\n",
       "      <td>2.466248</td>\n",
       "      <td>0</td>\n",
       "      <td>0</td>\n",
       "      <td>0</td>\n",
       "      <td>1</td>\n",
       "      <td>1</td>\n",
       "      <td>-0.191779</td>\n",
       "      <td>2.107205</td>\n",
       "      <td>2</td>\n",
       "    </tr>\n",
       "    <tr>\n",
       "      <th>6</th>\n",
       "      <td>166</td>\n",
       "      <td>1</td>\n",
       "      <td>1</td>\n",
       "      <td>-3.140348</td>\n",
       "      <td>2.037293</td>\n",
       "      <td>0</td>\n",
       "      <td>0</td>\n",
       "      <td>0</td>\n",
       "      <td>0</td>\n",
       "      <td>0</td>\n",
       "      <td>-0.205641</td>\n",
       "      <td>-0.106055</td>\n",
       "      <td>1</td>\n",
       "    </tr>\n",
       "    <tr>\n",
       "      <th>7</th>\n",
       "      <td>167</td>\n",
       "      <td>0</td>\n",
       "      <td>0</td>\n",
       "      <td>-2.999766</td>\n",
       "      <td>2.788554</td>\n",
       "      <td>0</td>\n",
       "      <td>0</td>\n",
       "      <td>0</td>\n",
       "      <td>0</td>\n",
       "      <td>1</td>\n",
       "      <td>0.858808</td>\n",
       "      <td>-1.421926</td>\n",
       "      <td>2</td>\n",
       "    </tr>\n",
       "    <tr>\n",
       "      <th>8</th>\n",
       "      <td>168</td>\n",
       "      <td>1</td>\n",
       "      <td>1</td>\n",
       "      <td>-2.169472</td>\n",
       "      <td>2.519137</td>\n",
       "      <td>0</td>\n",
       "      <td>0</td>\n",
       "      <td>0</td>\n",
       "      <td>1</td>\n",
       "      <td>1</td>\n",
       "      <td>0.064036</td>\n",
       "      <td>1.046124</td>\n",
       "      <td>0</td>\n",
       "    </tr>\n",
       "    <tr>\n",
       "      <th>9</th>\n",
       "      <td>169</td>\n",
       "      <td>1</td>\n",
       "      <td>1</td>\n",
       "      <td>-3.027967</td>\n",
       "      <td>2.635631</td>\n",
       "      <td>0</td>\n",
       "      <td>0</td>\n",
       "      <td>0</td>\n",
       "      <td>0</td>\n",
       "      <td>1</td>\n",
       "      <td>-0.898031</td>\n",
       "      <td>0.898456</td>\n",
       "      <td>1</td>\n",
       "    </tr>\n",
       "    <tr>\n",
       "      <th>10</th>\n",
       "      <td>170</td>\n",
       "      <td>3</td>\n",
       "      <td>3</td>\n",
       "      <td>-2.253401</td>\n",
       "      <td>1.408546</td>\n",
       "      <td>1</td>\n",
       "      <td>1</td>\n",
       "      <td>0</td>\n",
       "      <td>1</td>\n",
       "      <td>0</td>\n",
       "      <td>0.176218</td>\n",
       "      <td>1.289558</td>\n",
       "      <td>0</td>\n",
       "    </tr>\n",
       "    <tr>\n",
       "      <th>11</th>\n",
       "      <td>171</td>\n",
       "      <td>2</td>\n",
       "      <td>2</td>\n",
       "      <td>-2.841152</td>\n",
       "      <td>2.142137</td>\n",
       "      <td>1</td>\n",
       "      <td>1</td>\n",
       "      <td>0</td>\n",
       "      <td>0</td>\n",
       "      <td>1</td>\n",
       "      <td>-0.992858</td>\n",
       "      <td>-0.310720</td>\n",
       "      <td>1</td>\n",
       "    </tr>\n",
       "    <tr>\n",
       "      <th>12</th>\n",
       "      <td>172</td>\n",
       "      <td>3</td>\n",
       "      <td>3</td>\n",
       "      <td>-2.083969</td>\n",
       "      <td>1.344754</td>\n",
       "      <td>1</td>\n",
       "      <td>1</td>\n",
       "      <td>0</td>\n",
       "      <td>1</td>\n",
       "      <td>0</td>\n",
       "      <td>-0.092371</td>\n",
       "      <td>0.258531</td>\n",
       "      <td>1</td>\n",
       "    </tr>\n",
       "    <tr>\n",
       "      <th>13</th>\n",
       "      <td>173</td>\n",
       "      <td>2</td>\n",
       "      <td>2</td>\n",
       "      <td>-2.118508</td>\n",
       "      <td>1.432205</td>\n",
       "      <td>1</td>\n",
       "      <td>1</td>\n",
       "      <td>0</td>\n",
       "      <td>1</td>\n",
       "      <td>0</td>\n",
       "      <td>0.166311</td>\n",
       "      <td>-0.428367</td>\n",
       "      <td>1</td>\n",
       "    </tr>\n",
       "    <tr>\n",
       "      <th>14</th>\n",
       "      <td>174</td>\n",
       "      <td>2</td>\n",
       "      <td>2</td>\n",
       "      <td>-2.739934</td>\n",
       "      <td>2.900947</td>\n",
       "      <td>1</td>\n",
       "      <td>1</td>\n",
       "      <td>0</td>\n",
       "      <td>0</td>\n",
       "      <td>1</td>\n",
       "      <td>-0.449712</td>\n",
       "      <td>0.684273</td>\n",
       "      <td>2</td>\n",
       "    </tr>\n",
       "    <tr>\n",
       "      <th>15</th>\n",
       "      <td>175</td>\n",
       "      <td>3</td>\n",
       "      <td>3</td>\n",
       "      <td>-3.049288</td>\n",
       "      <td>2.054970</td>\n",
       "      <td>1</td>\n",
       "      <td>1</td>\n",
       "      <td>0</td>\n",
       "      <td>0</td>\n",
       "      <td>1</td>\n",
       "      <td>0.463252</td>\n",
       "      <td>0.362606</td>\n",
       "      <td>1</td>\n",
       "    </tr>\n",
       "    <tr>\n",
       "      <th>16</th>\n",
       "      <td>176</td>\n",
       "      <td>3</td>\n",
       "      <td>3</td>\n",
       "      <td>-2.151376</td>\n",
       "      <td>1.431568</td>\n",
       "      <td>1</td>\n",
       "      <td>1</td>\n",
       "      <td>0</td>\n",
       "      <td>1</td>\n",
       "      <td>0</td>\n",
       "      <td>0.404350</td>\n",
       "      <td>-0.416695</td>\n",
       "      <td>1</td>\n",
       "    </tr>\n",
       "    <tr>\n",
       "      <th>17</th>\n",
       "      <td>177</td>\n",
       "      <td>2</td>\n",
       "      <td>2</td>\n",
       "      <td>-1.964914</td>\n",
       "      <td>2.897921</td>\n",
       "      <td>1</td>\n",
       "      <td>1</td>\n",
       "      <td>0</td>\n",
       "      <td>1</td>\n",
       "      <td>1</td>\n",
       "      <td>0.497877</td>\n",
       "      <td>0.708728</td>\n",
       "      <td>2</td>\n",
       "    </tr>\n",
       "    <tr>\n",
       "      <th>18</th>\n",
       "      <td>178</td>\n",
       "      <td>2</td>\n",
       "      <td>2</td>\n",
       "      <td>-2.790961</td>\n",
       "      <td>2.110727</td>\n",
       "      <td>1</td>\n",
       "      <td>1</td>\n",
       "      <td>0</td>\n",
       "      <td>0</td>\n",
       "      <td>1</td>\n",
       "      <td>-1.435629</td>\n",
       "      <td>-0.081973</td>\n",
       "      <td>1</td>\n",
       "    </tr>\n",
       "    <tr>\n",
       "      <th>19</th>\n",
       "      <td>179</td>\n",
       "      <td>2</td>\n",
       "      <td>2</td>\n",
       "      <td>-3.010337</td>\n",
       "      <td>2.240511</td>\n",
       "      <td>1</td>\n",
       "      <td>1</td>\n",
       "      <td>0</td>\n",
       "      <td>0</td>\n",
       "      <td>1</td>\n",
       "      <td>0.275047</td>\n",
       "      <td>-1.074305</td>\n",
       "      <td>1</td>\n",
       "    </tr>\n",
       "    <tr>\n",
       "      <th>20</th>\n",
       "      <td>180</td>\n",
       "      <td>4</td>\n",
       "      <td>4</td>\n",
       "      <td>-1.971767</td>\n",
       "      <td>2.456916</td>\n",
       "      <td>2</td>\n",
       "      <td>2</td>\n",
       "      <td>0</td>\n",
       "      <td>1</td>\n",
       "      <td>1</td>\n",
       "      <td>-1.387941</td>\n",
       "      <td>0.781043</td>\n",
       "      <td>1</td>\n",
       "    </tr>\n",
       "    <tr>\n",
       "      <th>21</th>\n",
       "      <td>181</td>\n",
       "      <td>4</td>\n",
       "      <td>4</td>\n",
       "      <td>-1.788971</td>\n",
       "      <td>1.913212</td>\n",
       "      <td>2</td>\n",
       "      <td>2</td>\n",
       "      <td>0</td>\n",
       "      <td>1</td>\n",
       "      <td>1</td>\n",
       "      <td>0.128733</td>\n",
       "      <td>2.755655</td>\n",
       "      <td>0</td>\n",
       "    </tr>\n",
       "    <tr>\n",
       "      <th>22</th>\n",
       "      <td>182</td>\n",
       "      <td>5</td>\n",
       "      <td>5</td>\n",
       "      <td>-2.492112</td>\n",
       "      <td>1.792810</td>\n",
       "      <td>2</td>\n",
       "      <td>2</td>\n",
       "      <td>0</td>\n",
       "      <td>0</td>\n",
       "      <td>0</td>\n",
       "      <td>-0.729339</td>\n",
       "      <td>-0.376729</td>\n",
       "      <td>0</td>\n",
       "    </tr>\n",
       "    <tr>\n",
       "      <th>23</th>\n",
       "      <td>183</td>\n",
       "      <td>4</td>\n",
       "      <td>4</td>\n",
       "      <td>-3.045803</td>\n",
       "      <td>2.470211</td>\n",
       "      <td>2</td>\n",
       "      <td>2</td>\n",
       "      <td>0</td>\n",
       "      <td>0</td>\n",
       "      <td>1</td>\n",
       "      <td>0.226336</td>\n",
       "      <td>0.691561</td>\n",
       "      <td>1</td>\n",
       "    </tr>\n",
       "    <tr>\n",
       "      <th>24</th>\n",
       "      <td>184</td>\n",
       "      <td>4</td>\n",
       "      <td>4</td>\n",
       "      <td>-1.786884</td>\n",
       "      <td>2.245888</td>\n",
       "      <td>2</td>\n",
       "      <td>2</td>\n",
       "      <td>0</td>\n",
       "      <td>1</td>\n",
       "      <td>1</td>\n",
       "      <td>0.090318</td>\n",
       "      <td>0.907865</td>\n",
       "      <td>0</td>\n",
       "    </tr>\n",
       "    <tr>\n",
       "      <th>25</th>\n",
       "      <td>185</td>\n",
       "      <td>5</td>\n",
       "      <td>5</td>\n",
       "      <td>-2.758372</td>\n",
       "      <td>2.024076</td>\n",
       "      <td>2</td>\n",
       "      <td>2</td>\n",
       "      <td>0</td>\n",
       "      <td>0</td>\n",
       "      <td>0</td>\n",
       "      <td>-2.209118</td>\n",
       "      <td>-1.544114</td>\n",
       "      <td>1</td>\n",
       "    </tr>\n",
       "    <tr>\n",
       "      <th>26</th>\n",
       "      <td>186</td>\n",
       "      <td>4</td>\n",
       "      <td>4</td>\n",
       "      <td>-2.675669</td>\n",
       "      <td>2.305466</td>\n",
       "      <td>2</td>\n",
       "      <td>2</td>\n",
       "      <td>0</td>\n",
       "      <td>0</td>\n",
       "      <td>1</td>\n",
       "      <td>0.144067</td>\n",
       "      <td>0.688682</td>\n",
       "      <td>0</td>\n",
       "    </tr>\n",
       "    <tr>\n",
       "      <th>27</th>\n",
       "      <td>187</td>\n",
       "      <td>4</td>\n",
       "      <td>4</td>\n",
       "      <td>-1.808828</td>\n",
       "      <td>1.680527</td>\n",
       "      <td>2</td>\n",
       "      <td>2</td>\n",
       "      <td>0</td>\n",
       "      <td>1</td>\n",
       "      <td>0</td>\n",
       "      <td>0.188654</td>\n",
       "      <td>0.202440</td>\n",
       "      <td>0</td>\n",
       "    </tr>\n",
       "    <tr>\n",
       "      <th>28</th>\n",
       "      <td>188</td>\n",
       "      <td>4</td>\n",
       "      <td>4</td>\n",
       "      <td>-3.017443</td>\n",
       "      <td>2.607415</td>\n",
       "      <td>2</td>\n",
       "      <td>2</td>\n",
       "      <td>0</td>\n",
       "      <td>0</td>\n",
       "      <td>1</td>\n",
       "      <td>0.026302</td>\n",
       "      <td>-0.369731</td>\n",
       "      <td>1</td>\n",
       "    </tr>\n",
       "    <tr>\n",
       "      <th>29</th>\n",
       "      <td>189</td>\n",
       "      <td>4</td>\n",
       "      <td>4</td>\n",
       "      <td>-2.943984</td>\n",
       "      <td>1.978363</td>\n",
       "      <td>2</td>\n",
       "      <td>2</td>\n",
       "      <td>0</td>\n",
       "      <td>0</td>\n",
       "      <td>0</td>\n",
       "      <td>-0.584127</td>\n",
       "      <td>-1.206999</td>\n",
       "      <td>1</td>\n",
       "    </tr>\n",
       "    <tr>\n",
       "      <th>30</th>\n",
       "      <td>190</td>\n",
       "      <td>6</td>\n",
       "      <td>6</td>\n",
       "      <td>-2.414479</td>\n",
       "      <td>2.865455</td>\n",
       "      <td>3</td>\n",
       "      <td>3</td>\n",
       "      <td>0</td>\n",
       "      <td>1</td>\n",
       "      <td>1</td>\n",
       "      <td>-0.125664</td>\n",
       "      <td>-0.637651</td>\n",
       "      <td>0</td>\n",
       "    </tr>\n",
       "    <tr>\n",
       "      <th>31</th>\n",
       "      <td>191</td>\n",
       "      <td>7</td>\n",
       "      <td>7</td>\n",
       "      <td>-3.381257</td>\n",
       "      <td>1.699515</td>\n",
       "      <td>3</td>\n",
       "      <td>3</td>\n",
       "      <td>0</td>\n",
       "      <td>0</td>\n",
       "      <td>0</td>\n",
       "      <td>0.418515</td>\n",
       "      <td>1.666802</td>\n",
       "      <td>0</td>\n",
       "    </tr>\n",
       "    <tr>\n",
       "      <th>32</th>\n",
       "      <td>192</td>\n",
       "      <td>6</td>\n",
       "      <td>6</td>\n",
       "      <td>-3.210664</td>\n",
       "      <td>2.071972</td>\n",
       "      <td>3</td>\n",
       "      <td>3</td>\n",
       "      <td>0</td>\n",
       "      <td>0</td>\n",
       "      <td>0</td>\n",
       "      <td>-0.637240</td>\n",
       "      <td>-0.236357</td>\n",
       "      <td>0</td>\n",
       "    </tr>\n",
       "    <tr>\n",
       "      <th>33</th>\n",
       "      <td>193</td>\n",
       "      <td>6</td>\n",
       "      <td>6</td>\n",
       "      <td>-3.616417</td>\n",
       "      <td>1.966996</td>\n",
       "      <td>3</td>\n",
       "      <td>3</td>\n",
       "      <td>0</td>\n",
       "      <td>0</td>\n",
       "      <td>0</td>\n",
       "      <td>1.369238</td>\n",
       "      <td>0.466230</td>\n",
       "      <td>0</td>\n",
       "    </tr>\n",
       "    <tr>\n",
       "      <th>34</th>\n",
       "      <td>194</td>\n",
       "      <td>6</td>\n",
       "      <td>6</td>\n",
       "      <td>-3.522934</td>\n",
       "      <td>1.728851</td>\n",
       "      <td>3</td>\n",
       "      <td>3</td>\n",
       "      <td>0</td>\n",
       "      <td>0</td>\n",
       "      <td>0</td>\n",
       "      <td>0.953631</td>\n",
       "      <td>1.525188</td>\n",
       "      <td>0</td>\n",
       "    </tr>\n",
       "    <tr>\n",
       "      <th>35</th>\n",
       "      <td>195</td>\n",
       "      <td>7</td>\n",
       "      <td>7</td>\n",
       "      <td>-3.285445</td>\n",
       "      <td>2.676375</td>\n",
       "      <td>3</td>\n",
       "      <td>3</td>\n",
       "      <td>0</td>\n",
       "      <td>0</td>\n",
       "      <td>1</td>\n",
       "      <td>-0.245089</td>\n",
       "      <td>0.384074</td>\n",
       "      <td>0</td>\n",
       "    </tr>\n",
       "    <tr>\n",
       "      <th>36</th>\n",
       "      <td>196</td>\n",
       "      <td>7</td>\n",
       "      <td>7</td>\n",
       "      <td>-3.634151</td>\n",
       "      <td>1.951789</td>\n",
       "      <td>3</td>\n",
       "      <td>3</td>\n",
       "      <td>0</td>\n",
       "      <td>0</td>\n",
       "      <td>0</td>\n",
       "      <td>1.767158</td>\n",
       "      <td>0.373086</td>\n",
       "      <td>0</td>\n",
       "    </tr>\n",
       "    <tr>\n",
       "      <th>37</th>\n",
       "      <td>197</td>\n",
       "      <td>6</td>\n",
       "      <td>6</td>\n",
       "      <td>-3.219582</td>\n",
       "      <td>2.719089</td>\n",
       "      <td>3</td>\n",
       "      <td>3</td>\n",
       "      <td>0</td>\n",
       "      <td>0</td>\n",
       "      <td>1</td>\n",
       "      <td>-0.660913</td>\n",
       "      <td>0.151371</td>\n",
       "      <td>0</td>\n",
       "    </tr>\n",
       "    <tr>\n",
       "      <th>38</th>\n",
       "      <td>198</td>\n",
       "      <td>7</td>\n",
       "      <td>7</td>\n",
       "      <td>-2.296908</td>\n",
       "      <td>2.872665</td>\n",
       "      <td>3</td>\n",
       "      <td>3</td>\n",
       "      <td>0</td>\n",
       "      <td>1</td>\n",
       "      <td>1</td>\n",
       "      <td>-0.873805</td>\n",
       "      <td>-0.693826</td>\n",
       "      <td>0</td>\n",
       "    </tr>\n",
       "    <tr>\n",
       "      <th>39</th>\n",
       "      <td>199</td>\n",
       "      <td>6</td>\n",
       "      <td>6</td>\n",
       "      <td>-3.476026</td>\n",
       "      <td>2.124595</td>\n",
       "      <td>3</td>\n",
       "      <td>3</td>\n",
       "      <td>0</td>\n",
       "      <td>0</td>\n",
       "      <td>0</td>\n",
       "      <td>0.912893</td>\n",
       "      <td>-0.496645</td>\n",
       "      <td>0</td>\n",
       "    </tr>\n",
       "  </tbody>\n",
       "</table>\n",
       "</div>"
      ],
      "text/plain": [
       "      i  j1  j2        y1        y2  g1  g2  m  cat_control1  cat_control2  \\\n",
       "0   160   0   0 -2.051935  2.750012   0   0  0             1             1   \n",
       "1   161   1   1 -2.245787  2.118140   0   0  0             1             0   \n",
       "2   162   0   0 -2.951997  2.057362   0   0  0             0             0   \n",
       "3   163   1   1 -3.243544  2.110061   0   0  0             0             0   \n",
       "4   164   1   1 -2.270621  1.940222   0   0  0             1             0   \n",
       "5   165   0   0 -2.036256  2.466248   0   0  0             1             1   \n",
       "6   166   1   1 -3.140348  2.037293   0   0  0             0             0   \n",
       "7   167   0   0 -2.999766  2.788554   0   0  0             0             1   \n",
       "8   168   1   1 -2.169472  2.519137   0   0  0             1             1   \n",
       "9   169   1   1 -3.027967  2.635631   0   0  0             0             1   \n",
       "10  170   3   3 -2.253401  1.408546   1   1  0             1             0   \n",
       "11  171   2   2 -2.841152  2.142137   1   1  0             0             1   \n",
       "12  172   3   3 -2.083969  1.344754   1   1  0             1             0   \n",
       "13  173   2   2 -2.118508  1.432205   1   1  0             1             0   \n",
       "14  174   2   2 -2.739934  2.900947   1   1  0             0             1   \n",
       "15  175   3   3 -3.049288  2.054970   1   1  0             0             1   \n",
       "16  176   3   3 -2.151376  1.431568   1   1  0             1             0   \n",
       "17  177   2   2 -1.964914  2.897921   1   1  0             1             1   \n",
       "18  178   2   2 -2.790961  2.110727   1   1  0             0             1   \n",
       "19  179   2   2 -3.010337  2.240511   1   1  0             0             1   \n",
       "20  180   4   4 -1.971767  2.456916   2   2  0             1             1   \n",
       "21  181   4   4 -1.788971  1.913212   2   2  0             1             1   \n",
       "22  182   5   5 -2.492112  1.792810   2   2  0             0             0   \n",
       "23  183   4   4 -3.045803  2.470211   2   2  0             0             1   \n",
       "24  184   4   4 -1.786884  2.245888   2   2  0             1             1   \n",
       "25  185   5   5 -2.758372  2.024076   2   2  0             0             0   \n",
       "26  186   4   4 -2.675669  2.305466   2   2  0             0             1   \n",
       "27  187   4   4 -1.808828  1.680527   2   2  0             1             0   \n",
       "28  188   4   4 -3.017443  2.607415   2   2  0             0             1   \n",
       "29  189   4   4 -2.943984  1.978363   2   2  0             0             0   \n",
       "30  190   6   6 -2.414479  2.865455   3   3  0             1             1   \n",
       "31  191   7   7 -3.381257  1.699515   3   3  0             0             0   \n",
       "32  192   6   6 -3.210664  2.071972   3   3  0             0             0   \n",
       "33  193   6   6 -3.616417  1.966996   3   3  0             0             0   \n",
       "34  194   6   6 -3.522934  1.728851   3   3  0             0             0   \n",
       "35  195   7   7 -3.285445  2.676375   3   3  0             0             1   \n",
       "36  196   7   7 -3.634151  1.951789   3   3  0             0             0   \n",
       "37  197   6   6 -3.219582  2.719089   3   3  0             0             1   \n",
       "38  198   7   7 -2.296908  2.872665   3   3  0             1             1   \n",
       "39  199   6   6 -3.476026  2.124595   3   3  0             0             0   \n",
       "\n",
       "    cts_control1  cts_control2  l  \n",
       "0      -0.084790     -1.134127  2  \n",
       "1      -0.351845     -0.690638  1  \n",
       "2      -1.540472     -0.401342  1  \n",
       "3       0.740741     -0.750209  1  \n",
       "4      -0.019753      0.605036  1  \n",
       "5      -0.191779      2.107205  2  \n",
       "6      -0.205641     -0.106055  1  \n",
       "7       0.858808     -1.421926  2  \n",
       "8       0.064036      1.046124  0  \n",
       "9      -0.898031      0.898456  1  \n",
       "10      0.176218      1.289558  0  \n",
       "11     -0.992858     -0.310720  1  \n",
       "12     -0.092371      0.258531  1  \n",
       "13      0.166311     -0.428367  1  \n",
       "14     -0.449712      0.684273  2  \n",
       "15      0.463252      0.362606  1  \n",
       "16      0.404350     -0.416695  1  \n",
       "17      0.497877      0.708728  2  \n",
       "18     -1.435629     -0.081973  1  \n",
       "19      0.275047     -1.074305  1  \n",
       "20     -1.387941      0.781043  1  \n",
       "21      0.128733      2.755655  0  \n",
       "22     -0.729339     -0.376729  0  \n",
       "23      0.226336      0.691561  1  \n",
       "24      0.090318      0.907865  0  \n",
       "25     -2.209118     -1.544114  1  \n",
       "26      0.144067      0.688682  0  \n",
       "27      0.188654      0.202440  0  \n",
       "28      0.026302     -0.369731  1  \n",
       "29     -0.584127     -1.206999  1  \n",
       "30     -0.125664     -0.637651  0  \n",
       "31      0.418515      1.666802  0  \n",
       "32     -0.637240     -0.236357  0  \n",
       "33      1.369238      0.466230  0  \n",
       "34      0.953631      1.525188  0  \n",
       "35     -0.245089      0.384074  0  \n",
       "36      1.767158      0.373086  0  \n",
       "37     -0.660913      0.151371  0  \n",
       "38     -0.873805     -0.693826  0  \n",
       "39      0.912893     -0.496645  0  "
      ]
     },
     "metadata": {},
     "output_type": "display_data"
    },
    {
     "name": "stdout",
     "output_type": "stream",
     "text": [
      "Simulated parameter values\n"
     ]
    },
    {
     "data": {
      "text/plain": [
       "{'A1': array([[-2.06946828, -2.15101179, -1.68009707, -2.37113212],\n",
       "        [-2.19756582, -2.02420913, -2.06477778, -1.91493137],\n",
       "        [-1.97592144, -1.83759445, -2.10937845, -1.51234942]]),\n",
       " 'A2': array([[2.0511041 , 1.69176264, 1.75781191, 2.07834288],\n",
       "        [2.07274604, 1.42815206, 1.88368981, 1.66657542],\n",
       "        [1.98081942, 2.29303261, 1.91378834, 1.82597773]]),\n",
       " 'S1': array([[0.00541202, 0.00840901, 0.0070486 , 0.00961595],\n",
       "        [0.00820869, 0.00606717, 0.00878005, 0.00467173],\n",
       "        [0.00941513, 0.00782057, 0.00956125, 0.0017218 ]]),\n",
       " 'S2': array([[0.00940467, 0.00185693, 0.00559688, 0.00141236],\n",
       "        [0.00275459, 0.00391435, 0.00206119, 0.00363489],\n",
       "        [0.00992961, 0.00174484, 0.00119426, 0.00772059]]),\n",
       " 'pk1': array([[0.70780089, 0.22527201, 0.0669271 ],\n",
       "        [0.1283664 , 0.23730311, 0.63433049],\n",
       "        [0.69796174, 0.14293816, 0.15910009],\n",
       "        [0.23591255, 0.58381514, 0.18027231],\n",
       "        [0.13344984, 0.63337188, 0.23317828],\n",
       "        [0.14724337, 0.57395391, 0.27880272],\n",
       "        [0.15756598, 0.04877488, 0.79365914],\n",
       "        [0.45533764, 0.12380233, 0.42086003],\n",
       "        [0.37463299, 0.56905896, 0.05630805],\n",
       "        [0.10975877, 0.05365096, 0.83659026],\n",
       "        [0.46218818, 0.04223056, 0.49558126],\n",
       "        [0.15415073, 0.21201488, 0.63383439],\n",
       "        [0.28108798, 0.23706989, 0.48184213],\n",
       "        [0.40932815, 0.3932428 , 0.19742904],\n",
       "        [0.21521764, 0.40325947, 0.38152289],\n",
       "        [0.10107319, 0.60052806, 0.29839874]]),\n",
       " 'pk0': array([[0.01846663, 0.59822429, 0.38330908],\n",
       "        [0.00729247, 0.76199776, 0.23070977],\n",
       "        [0.72246155, 0.20939201, 0.06814644],\n",
       "        [0.79600026, 0.09851905, 0.10548069]]),\n",
       " 'A1_cat': {'cat_control': array([-0.95288789, -0.08310864])},\n",
       " 'A2_cat': {'cat_control': array([-0.05039082,  0.67185265])},\n",
       " 'S1_cat': {'cat_control': array([0.00815201, 0.00782139])},\n",
       " 'S2_cat': {'cat_control': array([0.00779365, 0.00350059])},\n",
       " 'A1_cts': {'cts_control': array([-0.18586425, -0.12609757, -0.08775449])},\n",
       " 'A2_cts': {'cts_control': array([-0.18586425, -0.12609757, -0.08775449])},\n",
       " 'S1_cts': {'cts_control': array([0.00724354, 0.0009807 , 0.00258214])},\n",
       " 'S2_cts': {'cts_control': array([0.00724354, 0.0009807 , 0.00258214])}}"
      ]
     },
     "metadata": {},
     "output_type": "display_data"
    }
   ],
   "source": [
    "print('Movers data')\n",
    "display(jdata)\n",
    "print('Stayers data')\n",
    "display(sdata)\n",
    "print('Simulated parameter values')\n",
    "display(sim_params)"
   ]
  },
  {
   "cell_type": "markdown",
   "metadata": {},
   "source": [
    "## Initialize and run BLMEstimator"
   ]
  },
  {
   "cell_type": "code",
   "execution_count": null,
   "metadata": {
    "scrolled": true
   },
   "outputs": [],
   "source": [
    "# Initialize BLM estimator\n",
    "blm_fit = tw.BLMEstimator(blm_params)\n",
    "# Fit BLM estimator\n",
    "blm_fit.fit(jdata=jdata, sdata=sdata, n_init=80, n_best=5, ncore=8)\n",
    "# Store best model\n",
    "blm_model = blm_fit.model"
   ]
  },
  {
   "cell_type": "markdown",
   "metadata": {},
   "source": [
    "## Check that log-likelihoods are monotonic"
   ]
  },
  {
   "cell_type": "code",
   "execution_count": 25,
   "metadata": {},
   "outputs": [
    {
     "name": "stdout",
     "output_type": "stream",
     "text": [
      "Log-likelihoods monotonic (movers): True\n"
     ]
    },
    {
     "data": {
      "text/plain": [
       "Text(0, 0.5, 'Change in log-likelihood')"
      ]
     },
     "execution_count": 25,
     "metadata": {},
     "output_type": "execute_result"
    },
    {
     "data": {
      "image/png": "[encoded data removed]",
      "text/plain": [
       "<Figure size 432x288 with 1 Axes>"
      ]
     },
     "metadata": {
      "needs_background": "light"
     },
     "output_type": "display_data"
    }
   ],
   "source": [
    "liks1 = blm_model.liks1[1:]\n",
    "\n",
    "print('Log-likelihoods monotonic (movers):', np.min(np.diff(liks1)) >= 0)\n",
    "\n",
    "x_axis = range(1, len(liks1))\n",
    "plt.plot(x_axis, np.diff(liks1), '.', label='liks1', color='red')\n",
    "plt.plot(x_axis, np.zeros(len(liks1) - 1))\n",
    "plt.xlabel('Iteration')\n",
    "plt.ylabel('Change in log-likelihood')"
   ]
  },
  {
   "cell_type": "code",
   "execution_count": 26,
   "metadata": {},
   "outputs": [
    {
     "name": "stdout",
     "output_type": "stream",
     "text": [
      "Log-likelihoods monotonic (stayers): True\n"
     ]
    },
    {
     "data": {
      "text/plain": [
       "Text(0, 0.5, 'Change in log-likelihood')"
      ]
     },
     "execution_count": 26,
     "metadata": {},
     "output_type": "execute_result"
    },
    {
     "data": {
      "image/png": "[encoded data removed]",
      "text/plain": [
       "<Figure size 432x288 with 1 Axes>"
      ]
     },
     "metadata": {
      "needs_background": "light"
     },
     "output_type": "display_data"
    }
   ],
   "source": [
    "liks0 = blm_model.liks0\n",
    "\n",
    "print('Log-likelihoods monotonic (stayers):', np.min(np.diff(liks0)) >= 0)\n",
    "\n",
    "x_axis = range(1, len(liks0))\n",
    "plt.plot(x_axis, np.diff(liks0), '.', label='liks0', color='red')\n",
    "plt.plot(x_axis, np.zeros(len(liks0) - 1))\n",
    "plt.xlabel('Iteration')\n",
    "plt.ylabel('Change in log-likelihood')"
   ]
  },
  {
   "cell_type": "markdown",
   "metadata": {},
   "source": [
    "## Now we can investigate the results"
   ]
  },
  {
   "cell_type": "code",
   "execution_count": 27,
   "metadata": {},
   "outputs": [
    {
     "data": {
      "image/png": "[encoded data removed]",
      "text/plain": [
       "<Figure size 432x288 with 1 Axes>"
      ]
     },
     "metadata": {
      "needs_background": "light"
     },
     "output_type": "display_data"
    }
   ],
   "source": [
    "# Plot likelihood vs. connectedness\n",
    "blm_fit.plot_liks_connectedness()"
   ]
  },
  {
   "cell_type": "code",
   "execution_count": 28,
   "metadata": {},
   "outputs": [
    {
     "data": {
      "image/png": "[encoded data removed]",
      "text/plain": [
       "<Figure size 432x288 with 1 Axes>"
      ]
     },
     "metadata": {
      "needs_background": "light"
     },
     "output_type": "display_data"
    }
   ],
   "source": [
    "blm_fit.plot_log_earnings()"
   ]
  },
  {
   "cell_type": "code",
   "execution_count": 29,
   "metadata": {},
   "outputs": [
    {
     "data": {
      "image/png": "[encoded data removed]",
      "text/plain": [
       "<Figure size 432x288 with 1 Axes>"
      ]
     },
     "metadata": {
      "needs_background": "light"
     },
     "output_type": "display_data"
    }
   ],
   "source": [
    "blm_fit.plot_type_proportions()"
   ]
  },
  {
   "cell_type": "markdown",
   "metadata": {},
   "source": [
    "## Finally, we can compare estimates to the truth"
   ]
  },
  {
   "cell_type": "code",
   "execution_count": 30,
   "metadata": {
    "scrolled": false
   },
   "outputs": [
    {
     "data": {
      "image/png": "[encoded data removed]",
      "text/plain": [
       "<Figure size 432x288 with 1 Axes>"
      ]
     },
     "metadata": {
      "needs_background": "light"
     },
     "output_type": "display_data"
    },
    {
     "data": {
      "image/png": "[encoded data removed]",
      "text/plain": [
       "<Figure size 432x288 with 1 Axes>"
      ]
     },
     "metadata": {
      "needs_background": "light"
     },
     "output_type": "display_data"
    },
    {
     "data": {
      "image/png": "[encoded data removed]",
      "text/plain": [
       "<Figure size 432x288 with 1 Axes>"
      ]
     },
     "metadata": {
      "needs_background": "light"
     },
     "output_type": "display_data"
    },
    {
     "data": {
      "image/png": "[encoded data removed]",
      "text/plain": [
       "<Figure size 432x288 with 1 Axes>"
      ]
     },
     "metadata": {
      "needs_background": "light"
     },
     "output_type": "display_data"
    },
    {
     "data": {
      "image/png": "[encoded data removed]",
      "text/plain": [
       "<Figure size 432x288 with 1 Axes>"
      ]
     },
     "metadata": {
      "needs_background": "light"
     },
     "output_type": "display_data"
    },
    {
     "data": {
      "image/png": "[encoded data removed]",
      "text/plain": [
       "<Figure size 432x288 with 1 Axes>"
      ]
     },
     "metadata": {
      "needs_background": "light"
     },
     "output_type": "display_data"
    },
    {
     "data": {
      "image/png": "[encoded data removed]",
      "text/plain": [
       "<Figure size 432x288 with 1 Axes>"
      ]
     },
     "metadata": {
      "needs_background": "light"
     },
     "output_type": "display_data"
    },
    {
     "data": {
      "image/png": "[encoded data removed]",
      "text/plain": [
       "<Figure size 432x288 with 1 Axes>"
      ]
     },
     "metadata": {
      "needs_background": "light"
     },
     "output_type": "display_data"
    }
   ],
   "source": [
    "plt.plot(sim_params['A1'].flatten(), blm_model.A1.flatten(), '.', label='A1', color='red')\n",
    "plt.plot(sim_params['A2'].flatten(), blm_model.A2.flatten(), '.', label='A2', color='green')\n",
    "plt.xlabel('Truth')\n",
    "plt.ylabel('Estimate')\n",
    "plt.legend()\n",
    "plt.grid()\n",
    "plt.show()\n",
    "\n",
    "plt.plot(sim_params['S1'].flatten(), blm_model.S1.flatten(), '.', label='S1', color='red')\n",
    "plt.plot(sim_params['S2'].flatten(), blm_model.S2.flatten(), '.', label='S2', color='green')\n",
    "plt.xlabel('Truth')\n",
    "plt.ylabel('Estimate')\n",
    "plt.legend()\n",
    "plt.grid()\n",
    "plt.show()\n",
    "\n",
    "plt.plot(sim_params['A1_cat']['cat_control'].flatten(), blm_model.A1_cat['cat_control'].flatten(), '.', label='A1_cat', color='red')\n",
    "plt.plot(sim_params['A2_cat']['cat_control'].flatten(), blm_model.A2_cat['cat_control'].flatten(), '.', label='A2_cat', color='green')\n",
    "plt.xlabel('Truth')\n",
    "plt.ylabel('Estimate')\n",
    "plt.legend()\n",
    "plt.grid()\n",
    "plt.show()\n",
    "\n",
    "plt.plot(sim_params['S1_cat']['cat_control'].flatten(), blm_model.S1_cat['cat_control'].flatten(), '.', label='S1_cat', color='red')\n",
    "plt.plot(sim_params['S2_cat']['cat_control'].flatten(), blm_model.S2_cat['cat_control'].flatten(), '.', label='S2_cat', color='green')\n",
    "plt.xlabel('Truth')\n",
    "plt.ylabel('Estimate')\n",
    "plt.legend()\n",
    "plt.grid()\n",
    "plt.show()\n",
    "\n",
    "plt.plot(sim_params['A1_cts']['cts_control'].flatten(), blm_model.A1_cts['cts_control'].flatten(), '.', label='A1_cts', color='red')\n",
    "plt.plot(sim_params['A2_cts']['cts_control'].flatten(), blm_model.A2_cts['cts_control'].flatten(), '.', label='A2_cts', color='green')\n",
    "plt.xlabel('Truth')\n",
    "plt.ylabel('Estimate')\n",
    "plt.legend()\n",
    "plt.grid()\n",
    "plt.show()\n",
    "\n",
    "plt.plot(sim_params['S1_cts']['cts_control'].flatten(), blm_model.S1_cts['cts_control'].flatten(), '.', label='S1_cts', color='red')\n",
    "plt.plot(sim_params['S2_cts']['cts_control'].flatten(), blm_model.S2_cts['cts_control'].flatten(), '.', label='S2_cts', color='green')\n",
    "plt.xlabel('Truth')\n",
    "plt.ylabel('Estimate')\n",
    "plt.legend()\n",
    "plt.grid()\n",
    "plt.show()\n",
    "\n",
    "plt.plot(sim_params['pk1'].flatten(), blm_model.pk1.flatten(), '.', label='pk1', color='red')\n",
    "plt.xlabel('Truth')\n",
    "plt.ylabel('Estimate')\n",
    "plt.legend()\n",
    "plt.grid()\n",
    "plt.show()\n",
    "\n",
    "plt.plot(sim_params['pk0'].flatten(), blm_model.pk0.flatten(), '.', label='pk0', color='red')\n",
    "plt.xlabel('Truth')\n",
    "plt.ylabel('Estimate')\n",
    "plt.legend()\n",
    "plt.grid()\n",
    "plt.show()"
   ]
  },
  {
   "cell_type": "markdown",
   "metadata": {},
   "source": [
    "<div class=\"alert alert-warning\">\n",
    "\n",
    "Warning\n",
    "\n",
    "The parameters are identified only up to a constant intercept.\n",
    "\n",
    "Because of this, to maintain consistency between estimations, PyTwoWay automatically normalizes worker-firm types to have effect 0, depending on the control variables used (normalization only occurs with categorical control variables - for a stationary control variable, only the first period is normalized (if it is non-stationary, both periods are normalized); for a control variable that does not interact with worker types, only the lowest worker type is normalized (if it does interact with worker types, all worker types are normalized)).\n",
    "\n",
    "If we take the sum over the estimators we see the model performs well.\n",
    "\n",
    "</div>"
   ]
  },
  {
   "cell_type": "code",
   "execution_count": 31,
   "metadata": {},
   "outputs": [
    {
     "data": {
      "image/png": "[encoded data removed]",
      "text/plain": [
       "<Figure size 432x288 with 1 Axes>"
      ]
     },
     "metadata": {
      "needs_background": "light"
     },
     "output_type": "display_data"
    },
    {
     "data": {
      "image/png": "[encoded data removed]",
      "text/plain": [
       "<Figure size 432x288 with 1 Axes>"
      ]
     },
     "metadata": {
      "needs_background": "light"
     },
     "output_type": "display_data"
    },
    {
     "data": {
      "image/png": "[encoded data removed]",
      "text/plain": [
       "<Figure size 432x288 with 1 Axes>"
      ]
     },
     "metadata": {
      "needs_background": "light"
     },
     "output_type": "display_data"
    },
    {
     "data": {
      "image/png": "[encoded data removed]",
      "text/plain": [
       "<Figure size 432x288 with 1 Axes>"
      ]
     },
     "metadata": {
      "needs_background": "light"
     },
     "output_type": "display_data"
    }
   ],
   "source": [
    "## First period ##\n",
    "plt.plot(\n",
    "    (sim_params['A1'] + sim_params['A1_cat']['cat_control'][0]).flatten(),\n",
    "    (blm_model.A1 + blm_model.A1_cat['cat_control'][0]).flatten(),\n",
    "    '.', label='A1 + A1_cat[0]', color='red'\n",
    ")\n",
    "plt.plot(\n",
    "    (sim_params['A1'] + sim_params['A1_cat']['cat_control'][1]).flatten(),\n",
    "    (blm_model.A1 + blm_model.A1_cat['cat_control'][1]).flatten(),\n",
    "    '.', label='A1 + A1_cat[1]', color='green'\n",
    ")\n",
    "plt.xlabel('Truth')\n",
    "plt.ylabel('Estimate')\n",
    "plt.legend()\n",
    "plt.grid()\n",
    "plt.show()\n",
    "\n",
    "plt.plot(\n",
    "    np.sqrt((sim_params['S1'] ** 2 + sim_params['S1_cat']['cat_control'][0] ** 2).flatten()),\n",
    "    np.sqrt((blm_model.S1 ** 2 + blm_model.S1_cat['cat_control'][0] ** 2).flatten()),\n",
    "    '.', label='sqrt(S1^2 + S1_cat[0]^2)', color='red'\n",
    ")\n",
    "plt.plot(\n",
    "    np.sqrt((sim_params['S1'] ** 2 + sim_params['S1_cat']['cat_control'][1] ** 2).flatten()),\n",
    "    np.sqrt((blm_model.S1 ** 2 + blm_model.S1_cat['cat_control'][1] ** 2).flatten()),\n",
    "    '.', label='sqrt(S1^2 + S1_cat[1]^2)', color='green'\n",
    ")\n",
    "plt.xlabel('Truth')\n",
    "plt.ylabel('Estimate')\n",
    "plt.legend()\n",
    "plt.grid()\n",
    "plt.show()\n",
    "\n",
    "## Second period ##\n",
    "plt.plot(\n",
    "    (sim_params['A2'] + sim_params['A2_cat']['cat_control'][0]).flatten(),\n",
    "    (blm_model.A2 + blm_model.A2_cat['cat_control'][0]).flatten(),\n",
    "    '.', label='A2 + A2_cat[0]', color='red'\n",
    ")\n",
    "plt.plot(\n",
    "    (sim_params['A2'] + sim_params['A2_cat']['cat_control'][1]).flatten(),\n",
    "    (blm_model.A2 + blm_model.A2_cat['cat_control'][1]).flatten(),\n",
    "    '.', label='A2 + A2_cat[1]', color='green'\n",
    ")\n",
    "plt.xlabel('Truth')\n",
    "plt.ylabel('Estimate')\n",
    "plt.legend()\n",
    "plt.grid()\n",
    "plt.show()\n",
    "\n",
    "plt.plot(\n",
    "    np.sqrt((sim_params['S2'] ** 2 + sim_params['S2_cat']['cat_control'][0] ** 2).flatten()),\n",
    "    np.sqrt((blm_model.S2 ** 2 + blm_model.S2_cat['cat_control'][0] ** 2).flatten()),\n",
    "    '.', label='sqrt(S2^2 + S2_cat[0]^2)', color='red'\n",
    ")\n",
    "plt.plot(\n",
    "    np.sqrt((sim_params['S2'] ** 2 + sim_params['S2_cat']['cat_control'][1] ** 2).flatten()),\n",
    "    np.sqrt((blm_model.S2 ** 2 + blm_model.S2_cat['cat_control'][1] ** 2).flatten()),\n",
    "    '.', label='sqrt(S2^2 + S2_cat[1]^2)', color='green'\n",
    ")\n",
    "plt.xlabel('Truth')\n",
    "plt.ylabel('Estimate')\n",
    "plt.legend()\n",
    "plt.grid()\n",
    "plt.show()"
   ]
  },
  {
   "cell_type": "markdown",
   "metadata": {},
   "source": [
    "## Variance decomposition\n",
    "\n",
    "The package contains the class `BLMVarianceDecomposition`, which allows for the estimation of the decomposition of the variance components of the BLM estimator.\n",
    "\n",
    "In this example, we use the same simulated data and estimation parameters as in the previous example.\n",
    "\n",
    "Estimated parameters from each sample can be investigated in the class attribute `.est_params`. Key results are combined into a table using the class method `.table()`. Neither of these is demonstrated here."
   ]
  },
  {
   "cell_type": "code",
   "execution_count": null,
   "metadata": {},
   "outputs": [],
   "source": [
    "# Initialize BLM variance decomposition estimator\n",
    "blm_fit = tw.BLMVarianceDecomposition(blm_params)\n",
    "# Fit BLM estimator\n",
    "blm_fit.fit(\n",
    "    jdata=jdata, sdata=sdata,\n",
    "    blm_model=blm_model,\n",
    "    n_samples=20,\n",
    "    Q_var=[tw.Q.VarCovariate('psi'), tw.Q.VarCovariate('cat_control'), tw.Q.VarCovariate('cts_control')],\n",
    "    ncore=1\n",
    ")"
   ]
  },
  {
   "cell_type": "markdown",
   "metadata": {},
   "source": [
    "### Investigate the results\n",
    "\n",
    "Results correspond to:\n",
    "\n",
    "- `y`: income (outcome) column\n",
    "- `eps`: residual\n",
    "- `psi`: firm effects\n",
    "- `alpha`: worker effects\n",
    "\n",
    "<div class=\"alert alert-info\">\n",
    "\n",
    "Note\n",
    "\n",
    "Results from all estimations are stored in the class attribute dictionary `.res`. We take the mean, but storing all results gives the option to estimate different sample statistics.\n",
    "\n",
    "</div>\n",
    "\n",
    "<div class=\"alert alert-info\">\n",
    "\n",
    "Note\n",
    "\n",
    "The particular variance that is estimated is controlled through the parameter `'Q_var'` and the covariance that is estimated is controlled through the parameter `'Q_cov'`.\n",
    "\n",
    "By default, the variance is `var(psi)` and the covariance is `cov(psi, alpha)`. The default estimates don't include `var(alpha)`, but if you don't include controls, `var(alpha)` can be computed as the residual from `var(y) = var(psi) + var(alpha) + 2 * cov(psi, alpha) + var(eps)`.\n",
    "\n",
    "</div>"
   ]
  },
  {
   "cell_type": "code",
   "execution_count": 33,
   "metadata": {},
   "outputs": [
    {
     "name": "stdout",
     "output_type": "stream",
     "text": [
      "'var(y)': 4.824249312573836\n",
      "'var(eps)': 4.466622557788073\n",
      "'var(cat_control)': 0.23567073309029912\n",
      "'var(cts_control)': 0.052820586150942914\n",
      "'var(psi)': 0.031800646788375145\n",
      "'cov(psi, alpha)': 0.0005517179464974684\n"
     ]
    }
   ],
   "source": [
    "for k, v in blm_fit.res.items():\n",
    "    print(f'{k!r}: {v.mean()}')"
   ]
  }
 ],
 "metadata": {
  "kernelspec": {
   "display_name": "Python 3 (ipykernel)",
   "language": "python",
   "name": "python3"
  },
  "language_info": {
   "codemirror_mode": {
    "name": "ipython",
    "version": 3
   },
   "file_extension": ".py",
   "mimetype": "text/x-python",
   "name": "python",
   "nbconvert_exporter": "python",
   "pygments_lexer": "ipython3",
   "version": "3.10.4"
  }
 },
 "nbformat": 4,
 "nbformat_minor": 4
}
