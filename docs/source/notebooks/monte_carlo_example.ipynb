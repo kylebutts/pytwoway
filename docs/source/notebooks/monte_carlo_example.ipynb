{
 "cells": [
  {
   "cell_type": "markdown",
   "metadata": {},
   "source": [
    "# Monte Carlo example"
   ]
  },
  {
   "cell_type": "code",
   "execution_count": 1,
   "metadata": {},
   "outputs": [],
   "source": [
    "%load_ext autoreload\n",
    "%autoreload 2"
   ]
  },
  {
   "cell_type": "code",
   "execution_count": 2,
   "metadata": {},
   "outputs": [],
   "source": [
    "# Add PyTwoWay to system path (do not run this)\n",
    "import sys\n",
    "sys.path.append('../../..')"
   ]
  },
  {
   "cell_type": "markdown",
   "metadata": {},
   "source": [
    "## Import the PyTwoWay package\n",
    "\n",
    "Make sure to install it using `pip install pytwoway`."
   ]
  },
  {
   "cell_type": "code",
   "execution_count": 3,
   "metadata": {
    "ExecuteTime": {
     "end_time": "2020-12-22T21:42:40.756437Z",
     "start_time": "2020-12-22T21:42:39.576929Z"
    }
   },
   "outputs": [
    {
     "ename": "AttributeError",
     "evalue": "module 'pytwoway.Q.Q' has no attribute 'VarGamma'",
     "output_type": "error",
     "traceback": [
      "\u001b[0;31m---------------------------------------------------------------------------\u001b[0m",
      "\u001b[0;31mAttributeError\u001b[0m                            Traceback (most recent call last)",
      "Input \u001b[0;32mIn [3]\u001b[0m, in \u001b[0;36m<cell line: 1>\u001b[0;34m()\u001b[0m\n\u001b[0;32m----> 1\u001b[0m \u001b[38;5;28;01mimport\u001b[39;00m \u001b[38;5;21;01mpytwoway\u001b[39;00m \u001b[38;5;28;01mas\u001b[39;00m \u001b[38;5;21;01mtw\u001b[39;00m\n\u001b[1;32m      2\u001b[0m \u001b[38;5;28;01mimport\u001b[39;00m \u001b[38;5;21;01mbipartitepandas\u001b[39;00m \u001b[38;5;28;01mas\u001b[39;00m \u001b[38;5;21;01mbpd\u001b[39;00m\n",
      "File \u001b[0;32m~/Desktop/pytwoway/pytwoway/__init__.py:6\u001b[0m, in \u001b[0;36m<module>\u001b[0;34m\u001b[0m\n\u001b[1;32m      4\u001b[0m \u001b[38;5;28;01mfrom\u001b[39;00m \u001b[38;5;21;01m.\u001b[39;00m\u001b[38;5;21;01mconstraints\u001b[39;00m \u001b[38;5;28;01mimport\u001b[39;00m constraints\n\u001b[1;32m      5\u001b[0m \u001b[38;5;28;01mfrom\u001b[39;00m \u001b[38;5;21;01m.\u001b[39;00m\u001b[38;5;21;01mattrition_utils\u001b[39;00m \u001b[38;5;28;01mimport\u001b[39;00m attrition_utils\n\u001b[0;32m----> 6\u001b[0m \u001b[38;5;28;01mfrom\u001b[39;00m \u001b[38;5;21;01m.\u001b[39;00m\u001b[38;5;21;01mfe\u001b[39;00m \u001b[38;5;28;01mimport\u001b[39;00m fe_params, FEEstimator\n\u001b[1;32m      7\u001b[0m \u001b[38;5;28;01mfrom\u001b[39;00m \u001b[38;5;21;01m.\u001b[39;00m\u001b[38;5;21;01mcre\u001b[39;00m \u001b[38;5;28;01mimport\u001b[39;00m cre_params, CREEstimator\n\u001b[1;32m      8\u001b[0m \u001b[38;5;28;01mfrom\u001b[39;00m \u001b[38;5;21;01m.\u001b[39;00m\u001b[38;5;21;01mblm\u001b[39;00m \u001b[38;5;28;01mimport\u001b[39;00m blm_params, categorical_control_params, continuous_control_params, BLMModel, BLMEstimator, BLMBootstrap\n",
      "File \u001b[0;32m~/Desktop/pytwoway/pytwoway/fe.py:62\u001b[0m, in \u001b[0;36m<module>\u001b[0;34m\u001b[0m\n\u001b[1;32m     30\u001b[0m     \u001b[38;5;28;01mreturn\u001b[39;00m \u001b[38;5;241m0\u001b[39m \u001b[38;5;241m<\u001b[39m\u001b[38;5;241m=\u001b[39m a \u001b[38;5;241m<\u001b[39m\u001b[38;5;241m=\u001b[39m \u001b[38;5;241m1\u001b[39m\n\u001b[1;32m     32\u001b[0m \u001b[38;5;66;03m# Define default parameter dictionary\u001b[39;00m\n\u001b[1;32m     33\u001b[0m _fe_params_default \u001b[38;5;241m=\u001b[39m ParamsDict({\n\u001b[1;32m     34\u001b[0m     \u001b[38;5;124m'\u001b[39m\u001b[38;5;124mncore\u001b[39m\u001b[38;5;124m'\u001b[39m: (\u001b[38;5;241m1\u001b[39m, \u001b[38;5;124m'\u001b[39m\u001b[38;5;124mtype_constrained\u001b[39m\u001b[38;5;124m'\u001b[39m, (\u001b[38;5;28mint\u001b[39m, _gteq1),\n\u001b[1;32m     35\u001b[0m         \u001b[38;5;124;03m'''\u001b[39;00m\n\u001b[1;32m     36\u001b[0m \u001b[38;5;124;03m            (default=1) Number of cores to use.\u001b[39;00m\n\u001b[1;32m     37\u001b[0m \u001b[38;5;124;03m        '''\u001b[39;00m, \u001b[38;5;124m'\u001b[39m\u001b[38;5;124m>= 1\u001b[39m\u001b[38;5;124m'\u001b[39m),\n\u001b[1;32m     38\u001b[0m     \u001b[38;5;124m'\u001b[39m\u001b[38;5;124mweighted\u001b[39m\u001b[38;5;124m'\u001b[39m: (\u001b[38;5;28;01mTrue\u001b[39;00m, \u001b[38;5;124m'\u001b[39m\u001b[38;5;124mtype\u001b[39m\u001b[38;5;124m'\u001b[39m, \u001b[38;5;28mbool\u001b[39m,\n\u001b[1;32m     39\u001b[0m         \u001b[38;5;124;03m'''\u001b[39;00m\n\u001b[1;32m     40\u001b[0m \u001b[38;5;124;03m            (default=True) If True, use weighted estimators.\u001b[39;00m\n\u001b[1;32m     41\u001b[0m \u001b[38;5;124;03m        '''\u001b[39;00m, \u001b[38;5;28;01mNone\u001b[39;00m),\n\u001b[1;32m     42\u001b[0m     \u001b[38;5;124m'\u001b[39m\u001b[38;5;124mstatsonly\u001b[39m\u001b[38;5;124m'\u001b[39m: (\u001b[38;5;28;01mFalse\u001b[39;00m, \u001b[38;5;124m'\u001b[39m\u001b[38;5;124mtype\u001b[39m\u001b[38;5;124m'\u001b[39m, \u001b[38;5;28mbool\u001b[39m,\n\u001b[1;32m     43\u001b[0m         \u001b[38;5;124;03m'''\u001b[39;00m\n\u001b[1;32m     44\u001b[0m \u001b[38;5;124;03m            (default=False) If True, return only basic statistics.\u001b[39;00m\n\u001b[1;32m     45\u001b[0m \u001b[38;5;124;03m        '''\u001b[39;00m, \u001b[38;5;28;01mNone\u001b[39;00m),\n\u001b[1;32m     46\u001b[0m     \u001b[38;5;124m'\u001b[39m\u001b[38;5;124mfeonly\u001b[39m\u001b[38;5;124m'\u001b[39m: (\u001b[38;5;28;01mFalse\u001b[39;00m, \u001b[38;5;124m'\u001b[39m\u001b[38;5;124mtype\u001b[39m\u001b[38;5;124m'\u001b[39m, \u001b[38;5;28mbool\u001b[39m,\n\u001b[1;32m     47\u001b[0m         \u001b[38;5;124;03m'''\u001b[39;00m\n\u001b[1;32m     48\u001b[0m \u001b[38;5;124;03m            (default=False) If True, estimate only fixed effects and not variances.\u001b[39;00m\n\u001b[1;32m     49\u001b[0m \u001b[38;5;124;03m        '''\u001b[39;00m, \u001b[38;5;28;01mNone\u001b[39;00m),\n\u001b[1;32m     50\u001b[0m     \u001b[38;5;124m'\u001b[39m\u001b[38;5;124mattach_fe_estimates\u001b[39m\u001b[38;5;124m'\u001b[39m: (\u001b[38;5;28;01mFalse\u001b[39;00m, \u001b[38;5;124m'\u001b[39m\u001b[38;5;124mtype\u001b[39m\u001b[38;5;124m'\u001b[39m, \u001b[38;5;28mbool\u001b[39m,\n\u001b[1;32m     51\u001b[0m         \u001b[38;5;124;03m'''\u001b[39;00m\n\u001b[1;32m     52\u001b[0m \u001b[38;5;124;03m            (default=False) If True, attach the estimated psi_hat and alpha_hat as columns to the input dataframe.\u001b[39;00m\n\u001b[1;32m     53\u001b[0m \u001b[38;5;124;03m        '''\u001b[39;00m, \u001b[38;5;28;01mNone\u001b[39;00m),\n\u001b[1;32m     54\u001b[0m     \u001b[38;5;124m'\u001b[39m\u001b[38;5;124mho\u001b[39m\u001b[38;5;124m'\u001b[39m: (\u001b[38;5;28;01mTrue\u001b[39;00m, \u001b[38;5;124m'\u001b[39m\u001b[38;5;124mtype\u001b[39m\u001b[38;5;124m'\u001b[39m, \u001b[38;5;28mbool\u001b[39m,\n\u001b[1;32m     55\u001b[0m         \u001b[38;5;124;03m'''\u001b[39;00m\n\u001b[1;32m     56\u001b[0m \u001b[38;5;124;03m            (default=True) If True, estimate homoskedastic correction.\u001b[39;00m\n\u001b[1;32m     57\u001b[0m \u001b[38;5;124;03m        '''\u001b[39;00m, \u001b[38;5;28;01mNone\u001b[39;00m),\n\u001b[1;32m     58\u001b[0m     \u001b[38;5;124m'\u001b[39m\u001b[38;5;124mhe\u001b[39m\u001b[38;5;124m'\u001b[39m: (\u001b[38;5;28;01mFalse\u001b[39;00m, \u001b[38;5;124m'\u001b[39m\u001b[38;5;124mtype\u001b[39m\u001b[38;5;124m'\u001b[39m, \u001b[38;5;28mbool\u001b[39m,\n\u001b[1;32m     59\u001b[0m         \u001b[38;5;124;03m'''\u001b[39;00m\n\u001b[1;32m     60\u001b[0m \u001b[38;5;124;03m            (default=False) If True, estimate heteroskedastic correction.\u001b[39;00m\n\u001b[1;32m     61\u001b[0m \u001b[38;5;124;03m        '''\u001b[39;00m, \u001b[38;5;28;01mNone\u001b[39;00m),\n\u001b[0;32m---> 62\u001b[0m     \u001b[38;5;124m'\u001b[39m\u001b[38;5;124mQ_var\u001b[39m\u001b[38;5;124m'\u001b[39m: (\u001b[38;5;28;01mNone\u001b[39;00m, \u001b[38;5;124m'\u001b[39m\u001b[38;5;124mtype_none\u001b[39m\u001b[38;5;124m'\u001b[39m, (Q\u001b[38;5;241m.\u001b[39mVarPsi, Q\u001b[38;5;241m.\u001b[39mVarAlpha, \u001b[43mQ\u001b[49m\u001b[38;5;241;43m.\u001b[39;49m\u001b[43mVarGamma\u001b[49m),\n\u001b[1;32m     63\u001b[0m         \u001b[38;5;124;03m'''\u001b[39;00m\n\u001b[1;32m     64\u001b[0m \u001b[38;5;124;03m            (default=None) Which Q matrix to use when estimating variance term; None is equivalent to tw.Q.VarPsi().\u001b[39;00m\n\u001b[1;32m     65\u001b[0m \u001b[38;5;124;03m        '''\u001b[39;00m, \u001b[38;5;28;01mNone\u001b[39;00m),\n\u001b[1;32m     66\u001b[0m     \u001b[38;5;124m'\u001b[39m\u001b[38;5;124mQ_cov\u001b[39m\u001b[38;5;124m'\u001b[39m: (\u001b[38;5;28;01mNone\u001b[39;00m, \u001b[38;5;124m'\u001b[39m\u001b[38;5;124mtype_none\u001b[39m\u001b[38;5;124m'\u001b[39m, (Q\u001b[38;5;241m.\u001b[39mCovPsiAlpha, Q\u001b[38;5;241m.\u001b[39mCovPsiPrevPsiNext),\n\u001b[1;32m     67\u001b[0m         \u001b[38;5;124;03m'''\u001b[39;00m\n\u001b[1;32m     68\u001b[0m \u001b[38;5;124;03m            (default=None) Which Q matrix to use when estimating covariance term; None is equivalent to tw.Q.CovPsiAlpha().\u001b[39;00m\n\u001b[1;32m     69\u001b[0m \u001b[38;5;124;03m        '''\u001b[39;00m, \u001b[38;5;28;01mNone\u001b[39;00m),\n\u001b[1;32m     70\u001b[0m     \u001b[38;5;124m'\u001b[39m\u001b[38;5;124mndraw_trace_sigma_2\u001b[39m\u001b[38;5;124m'\u001b[39m: (\u001b[38;5;241m5\u001b[39m, \u001b[38;5;124m'\u001b[39m\u001b[38;5;124mtype_constrained\u001b[39m\u001b[38;5;124m'\u001b[39m, (\u001b[38;5;28mint\u001b[39m, _gteq1),\n\u001b[1;32m     71\u001b[0m         \u001b[38;5;124;03m'''\u001b[39;00m\n\u001b[1;32m     72\u001b[0m \u001b[38;5;124;03m            (default=5) Number of draws to use when estimating trace approximation for sigma^2.\u001b[39;00m\n\u001b[1;32m     73\u001b[0m \u001b[38;5;124;03m        '''\u001b[39;00m, \u001b[38;5;124m'\u001b[39m\u001b[38;5;124m>= 1\u001b[39m\u001b[38;5;124m'\u001b[39m),\n\u001b[1;32m     74\u001b[0m     \u001b[38;5;124m'\u001b[39m\u001b[38;5;124mndraw_trace_ho\u001b[39m\u001b[38;5;124m'\u001b[39m: (\u001b[38;5;241m5\u001b[39m, \u001b[38;5;124m'\u001b[39m\u001b[38;5;124mtype_constrained\u001b[39m\u001b[38;5;124m'\u001b[39m, (\u001b[38;5;28mint\u001b[39m, _gteq1),\n\u001b[1;32m     75\u001b[0m         \u001b[38;5;124;03m'''\u001b[39;00m\n\u001b[1;32m     76\u001b[0m \u001b[38;5;124;03m            (default=5) Number of draws to use when estimating trace approximation for homoskedastic correction.\u001b[39;00m\n\u001b[1;32m     77\u001b[0m \u001b[38;5;124;03m        '''\u001b[39;00m, \u001b[38;5;124m'\u001b[39m\u001b[38;5;124m>= 1\u001b[39m\u001b[38;5;124m'\u001b[39m),\n\u001b[1;32m     78\u001b[0m     \u001b[38;5;124m'\u001b[39m\u001b[38;5;124mndraw_trace_he\u001b[39m\u001b[38;5;124m'\u001b[39m: (\u001b[38;5;241m5\u001b[39m, \u001b[38;5;124m'\u001b[39m\u001b[38;5;124mtype_constrained\u001b[39m\u001b[38;5;124m'\u001b[39m, (\u001b[38;5;28mint\u001b[39m, _gteq1),\n\u001b[1;32m     79\u001b[0m         \u001b[38;5;124;03m'''\u001b[39;00m\n\u001b[1;32m     80\u001b[0m \u001b[38;5;124;03m            (default=5) Number of draws to use when estimating trace approximation for heteroskedastic correction.\u001b[39;00m\n\u001b[1;32m     81\u001b[0m \u001b[38;5;124;03m        '''\u001b[39;00m, \u001b[38;5;124m'\u001b[39m\u001b[38;5;124m>= 1\u001b[39m\u001b[38;5;124m'\u001b[39m),\n\u001b[1;32m     82\u001b[0m     \u001b[38;5;124m'\u001b[39m\u001b[38;5;124mexact_trace_sigma_2\u001b[39m\u001b[38;5;124m'\u001b[39m: (\u001b[38;5;28;01mFalse\u001b[39;00m, \u001b[38;5;124m'\u001b[39m\u001b[38;5;124mtype\u001b[39m\u001b[38;5;124m'\u001b[39m, \u001b[38;5;28mbool\u001b[39m,\n\u001b[1;32m     83\u001b[0m         \u001b[38;5;124;03m'''\u001b[39;00m\n\u001b[1;32m     84\u001b[0m \u001b[38;5;124;03m            (default=False) If True, estimate trace analytically for sigma^2; if False, use a trace approximation.\u001b[39;00m\n\u001b[1;32m     85\u001b[0m \u001b[38;5;124;03m        '''\u001b[39;00m, \u001b[38;5;28;01mNone\u001b[39;00m),\n\u001b[1;32m     86\u001b[0m     \u001b[38;5;124m'\u001b[39m\u001b[38;5;124mexact_trace_ho\u001b[39m\u001b[38;5;124m'\u001b[39m: (\u001b[38;5;28;01mFalse\u001b[39;00m, \u001b[38;5;124m'\u001b[39m\u001b[38;5;124mtype\u001b[39m\u001b[38;5;124m'\u001b[39m, \u001b[38;5;28mbool\u001b[39m,\n\u001b[1;32m     87\u001b[0m         \u001b[38;5;124;03m'''\u001b[39;00m\n\u001b[1;32m     88\u001b[0m \u001b[38;5;124;03m            (default=False) If True, estimate trace analytically for homoskedastic correction; if False, use a trace approximation.\u001b[39;00m\n\u001b[1;32m     89\u001b[0m \u001b[38;5;124;03m        '''\u001b[39;00m, \u001b[38;5;28;01mNone\u001b[39;00m),\n\u001b[1;32m     90\u001b[0m     \u001b[38;5;124m'\u001b[39m\u001b[38;5;124mexact_trace_he\u001b[39m\u001b[38;5;124m'\u001b[39m: (\u001b[38;5;28;01mFalse\u001b[39;00m, \u001b[38;5;124m'\u001b[39m\u001b[38;5;124mtype\u001b[39m\u001b[38;5;124m'\u001b[39m, \u001b[38;5;28mbool\u001b[39m,\n\u001b[1;32m     91\u001b[0m         \u001b[38;5;124;03m'''\u001b[39;00m\n\u001b[1;32m     92\u001b[0m \u001b[38;5;124;03m            (default=False) If True, estimate trace analytically for heteroskedastic correction; if False, use a trace approximation.\u001b[39;00m\n\u001b[1;32m     93\u001b[0m \u001b[38;5;124;03m        '''\u001b[39;00m, \u001b[38;5;28;01mNone\u001b[39;00m),\n\u001b[1;32m     94\u001b[0m     \u001b[38;5;124m'\u001b[39m\u001b[38;5;124mexact_lev_he\u001b[39m\u001b[38;5;124m'\u001b[39m: (\u001b[38;5;28;01mFalse\u001b[39;00m, \u001b[38;5;124m'\u001b[39m\u001b[38;5;124mtype\u001b[39m\u001b[38;5;124m'\u001b[39m, \u001b[38;5;28mbool\u001b[39m,\n\u001b[1;32m     95\u001b[0m         \u001b[38;5;124;03m'''\u001b[39;00m\n\u001b[1;32m     96\u001b[0m \u001b[38;5;124;03m            (default=False) If True, estimate leverages analytically for heteroskedastic correction; if False, use the JL approximation.\u001b[39;00m\n\u001b[1;32m     97\u001b[0m \u001b[38;5;124;03m        '''\u001b[39;00m, \u001b[38;5;28;01mNone\u001b[39;00m),\n\u001b[1;32m     98\u001b[0m     \u001b[38;5;124m'\u001b[39m\u001b[38;5;124mlev_batchsize\u001b[39m\u001b[38;5;124m'\u001b[39m: (\u001b[38;5;241m50\u001b[39m, \u001b[38;5;124m'\u001b[39m\u001b[38;5;124mtype_constrained\u001b[39m\u001b[38;5;124m'\u001b[39m, (\u001b[38;5;28mint\u001b[39m, _gteq1),\n\u001b[1;32m     99\u001b[0m         \u001b[38;5;124;03m'''\u001b[39;00m\n\u001b[1;32m    100\u001b[0m \u001b[38;5;124;03m            (default=50) Number of draws to use for each batch in approximation of leverages for heteroskedastic correction.\u001b[39;00m\n\u001b[1;32m    101\u001b[0m \u001b[38;5;124;03m        '''\u001b[39;00m, \u001b[38;5;124m'\u001b[39m\u001b[38;5;124m>= 1\u001b[39m\u001b[38;5;124m'\u001b[39m),\n\u001b[1;32m    102\u001b[0m     \u001b[38;5;124m'\u001b[39m\u001b[38;5;124mlev_batchsize_multiprocessing\u001b[39m\u001b[38;5;124m'\u001b[39m: (\u001b[38;5;241m10\u001b[39m, \u001b[38;5;124m'\u001b[39m\u001b[38;5;124mtype_constrained\u001b[39m\u001b[38;5;124m'\u001b[39m, (\u001b[38;5;28mint\u001b[39m, _gteq1),\n\u001b[1;32m    103\u001b[0m         \u001b[38;5;124;03m'''\u001b[39;00m\n\u001b[1;32m    104\u001b[0m \u001b[38;5;124;03m            (default=10) Batch size to send in parallel. Should evenly divide 'lev_batchsize'.\u001b[39;00m\n\u001b[1;32m    105\u001b[0m \u001b[38;5;124;03m        '''\u001b[39;00m, \u001b[38;5;124m'\u001b[39m\u001b[38;5;124m>= 1\u001b[39m\u001b[38;5;124m'\u001b[39m),\n\u001b[1;32m    106\u001b[0m     \u001b[38;5;124m'\u001b[39m\u001b[38;5;124mlev_nbatches\u001b[39m\u001b[38;5;124m'\u001b[39m: (\u001b[38;5;241m5\u001b[39m, \u001b[38;5;124m'\u001b[39m\u001b[38;5;124mtype_constrained\u001b[39m\u001b[38;5;124m'\u001b[39m, (\u001b[38;5;28mint\u001b[39m, _gteq1),\n\u001b[1;32m    107\u001b[0m         \u001b[38;5;124;03m'''\u001b[39;00m\n\u001b[1;32m    108\u001b[0m \u001b[38;5;124;03m            (default=5) Maximum number of batches to run in approximation of leverages for heteroskedastic correction.\u001b[39;00m\n\u001b[1;32m    109\u001b[0m \u001b[38;5;124;03m        '''\u001b[39;00m, \u001b[38;5;124m'\u001b[39m\u001b[38;5;124m>= 1\u001b[39m\u001b[38;5;124m'\u001b[39m),\n\u001b[1;32m    110\u001b[0m     \u001b[38;5;124m'\u001b[39m\u001b[38;5;124mlev_threshold_obs\u001b[39m\u001b[38;5;124m'\u001b[39m: (\u001b[38;5;241m100\u001b[39m, \u001b[38;5;124m'\u001b[39m\u001b[38;5;124mtype_constrained\u001b[39m\u001b[38;5;124m'\u001b[39m, (\u001b[38;5;28mint\u001b[39m, _gteq1),\n\u001b[1;32m    111\u001b[0m         \u001b[38;5;124;03m'''\u001b[39;00m\n\u001b[1;32m    112\u001b[0m \u001b[38;5;124;03m            (default=100) Minimum number of observations with Pii >= threshold where batches will keep running in approximation of leverages for heteroskedastic correction. Once this threshold is met, remaining Pii above threshold will be recomputed analytically.\u001b[39;00m\n\u001b[1;32m    113\u001b[0m \u001b[38;5;124;03m        '''\u001b[39;00m, \u001b[38;5;124m'\u001b[39m\u001b[38;5;124m>= 1\u001b[39m\u001b[38;5;124m'\u001b[39m),\n\u001b[1;32m    114\u001b[0m     \u001b[38;5;124m'\u001b[39m\u001b[38;5;124mlev_threshold_pii\u001b[39m\u001b[38;5;124m'\u001b[39m: (\u001b[38;5;241m0.98\u001b[39m, \u001b[38;5;124m'\u001b[39m\u001b[38;5;124mtype_constrained\u001b[39m\u001b[38;5;124m'\u001b[39m, (\u001b[38;5;28mfloat\u001b[39m, _0to1),\n\u001b[1;32m    115\u001b[0m         \u001b[38;5;124;03m'''\u001b[39;00m\n\u001b[1;32m    116\u001b[0m \u001b[38;5;124;03m            (default=0.98) Threshold Pii value for computing threshold number of Pii observations in approximation of leverages for heteroskedastic correction.\u001b[39;00m\n\u001b[1;32m    117\u001b[0m \u001b[38;5;124;03m        '''\u001b[39;00m, \u001b[38;5;124m'\u001b[39m\u001b[38;5;124min [0, 1]\u001b[39m\u001b[38;5;124m'\u001b[39m),\n\u001b[1;32m    118\u001b[0m     \u001b[38;5;124m'\u001b[39m\u001b[38;5;124mlevfile\u001b[39m\u001b[38;5;124m'\u001b[39m: (\u001b[38;5;124m'\u001b[39m\u001b[38;5;124m'\u001b[39m, \u001b[38;5;124m'\u001b[39m\u001b[38;5;124mtype\u001b[39m\u001b[38;5;124m'\u001b[39m, \u001b[38;5;28mstr\u001b[39m,\n\u001b[1;32m    119\u001b[0m         \u001b[38;5;124;03m'''\u001b[39;00m\n\u001b[1;32m    120\u001b[0m \u001b[38;5;124;03m            (default='') File to load precomputed leverages for heteroskedastic correction.\u001b[39;00m\n\u001b[1;32m    121\u001b[0m \u001b[38;5;124;03m        '''\u001b[39;00m, \u001b[38;5;28;01mNone\u001b[39;00m),\n\u001b[1;32m    122\u001b[0m     \u001b[38;5;66;03m# 'con': (False, 'type', bool, # FIXME not used\u001b[39;00m\n\u001b[1;32m    123\u001b[0m     \u001b[38;5;66;03m#     '''\u001b[39;00m\n\u001b[1;32m    124\u001b[0m     \u001b[38;5;66;03m#         (default=False) Computes the smallest eigenvalues, this is the filepath where these results are saved.\u001b[39;00m\n\u001b[1;32m    125\u001b[0m     \u001b[38;5;66;03m#     ''', None),\u001b[39;00m\n\u001b[1;32m    126\u001b[0m     \u001b[38;5;124m'\u001b[39m\u001b[38;5;124moutputfile\u001b[39m\u001b[38;5;124m'\u001b[39m: (\u001b[38;5;28;01mNone\u001b[39;00m, \u001b[38;5;124m'\u001b[39m\u001b[38;5;124mtype_none\u001b[39m\u001b[38;5;124m'\u001b[39m, \u001b[38;5;28mstr\u001b[39m,\n\u001b[1;32m    127\u001b[0m         \u001b[38;5;124;03m'''\u001b[39;00m\n\u001b[1;32m    128\u001b[0m \u001b[38;5;124;03m            (default=None) Outputfile where results will be saved in json format. If None, results will not be saved.\u001b[39;00m\n\u001b[1;32m    129\u001b[0m \u001b[38;5;124;03m        '''\u001b[39;00m, \u001b[38;5;28;01mNone\u001b[39;00m),\n\u001b[1;32m    130\u001b[0m     \u001b[38;5;124m'\u001b[39m\u001b[38;5;124mprogress_bars\u001b[39m\u001b[38;5;124m'\u001b[39m: (\u001b[38;5;28;01mTrue\u001b[39;00m, \u001b[38;5;124m'\u001b[39m\u001b[38;5;124mtype\u001b[39m\u001b[38;5;124m'\u001b[39m, \u001b[38;5;28mbool\u001b[39m,\n\u001b[1;32m    131\u001b[0m         \u001b[38;5;124;03m'''\u001b[39;00m\n\u001b[1;32m    132\u001b[0m \u001b[38;5;124;03m            (default=True) If True, display progress bars.\u001b[39;00m\n\u001b[1;32m    133\u001b[0m \u001b[38;5;124;03m        '''\u001b[39;00m, \u001b[38;5;28;01mNone\u001b[39;00m),\n\u001b[1;32m    134\u001b[0m     \u001b[38;5;124m'\u001b[39m\u001b[38;5;124mverbose\u001b[39m\u001b[38;5;124m'\u001b[39m: (\u001b[38;5;28;01mTrue\u001b[39;00m, \u001b[38;5;124m'\u001b[39m\u001b[38;5;124mtype\u001b[39m\u001b[38;5;124m'\u001b[39m, \u001b[38;5;28mbool\u001b[39m,\n\u001b[1;32m    135\u001b[0m         \u001b[38;5;124;03m'''\u001b[39;00m\n\u001b[1;32m    136\u001b[0m \u001b[38;5;124;03m            (default=True) If True, print warnings during HE estimation.\u001b[39;00m\n\u001b[1;32m    137\u001b[0m \u001b[38;5;124;03m        '''\u001b[39;00m, \u001b[38;5;28;01mNone\u001b[39;00m)\n\u001b[1;32m    138\u001b[0m })\n\u001b[1;32m    140\u001b[0m \u001b[38;5;28;01mdef\u001b[39;00m \u001b[38;5;21mfe_params\u001b[39m(update_dict\u001b[38;5;241m=\u001b[39m\u001b[38;5;28;01mNone\u001b[39;00m):\n\u001b[1;32m    141\u001b[0m     \u001b[38;5;124;03m'''\u001b[39;00m\n\u001b[1;32m    142\u001b[0m \u001b[38;5;124;03m    Dictionary of default fe_params. Run tw.fe_params().describe_all() for descriptions of all valid parameters.\u001b[39;00m\n\u001b[1;32m    143\u001b[0m \n\u001b[0;32m   (...)\u001b[0m\n\u001b[1;32m    148\u001b[0m \u001b[38;5;124;03m        (ParamsDict) dictionary of fe_params\u001b[39;00m\n\u001b[1;32m    149\u001b[0m \u001b[38;5;124;03m    '''\u001b[39;00m\n",
      "\u001b[0;31mAttributeError\u001b[0m: module 'pytwoway.Q.Q' has no attribute 'VarGamma'"
     ]
    }
   ],
   "source": [
    "import pytwoway as tw\n",
    "import bipartitepandas as bpd"
   ]
  },
  {
   "cell_type": "markdown",
   "metadata": {},
   "source": [
    "## First, check out parameter options"
   ]
  },
  {
   "cell_type": "code",
   "execution_count": null,
   "metadata": {
    "ExecuteTime": {
     "end_time": "2020-12-22T21:42:40.761257Z",
     "start_time": "2020-12-22T21:42:40.758033Z"
    }
   },
   "outputs": [],
   "source": [
    "print('----- Simulation -----')\n",
    "bpd.sim_params().describe_all()\n",
    "print('----- FE -----')\n",
    "tw.fe_params().describe_all()\n",
    "print('----- CRE -----')\n",
    "tw.cre_params().describe_all()\n",
    "print('----- Clustering -----')\n",
    "bpd.cluster_params().describe_all()\n",
    "print('----- Cleaning -----')\n",
    "bpd.clean_params().describe_all()"
   ]
  },
  {
   "cell_type": "markdown",
   "metadata": {},
   "source": [
    "## Second, set parameter choices"
   ]
  },
  {
   "cell_type": "code",
   "execution_count": null,
   "metadata": {},
   "outputs": [],
   "source": [
    "nl = 5 # Number of worker types\n",
    "nk = 10 # Number of firm types\n",
    "# FE\n",
    "fe_params = tw.fe_params({'he': True, 'lev_threshold_obs': 1})\n",
    "# CRE\n",
    "cre_params = tw.cre_params()\n",
    "## Clustering ##\n",
    "# Group using k-means\n",
    "kmeans = bpd.grouping.KMeans(n_clusters=nk)\n",
    "cluster_params = bpd.cluster_params({'grouping': kmeans})\n",
    "# Cleaning\n",
    "clean_params = bpd.clean_params()\n",
    "# Simulating\n",
    "sim_params = bpd.sim_params({\n",
    "    'n_workers': 1000,\n",
    "    'nl': nl, 'nk': nk,\n",
    "    'firm_size': 5,\n",
    "    'alpha_sig': 2, 'w_sig': 2,\n",
    "    'c_sort': 1.5, 'c_netw': 1.5,\n",
    "    'p_move': 0.1\n",
    "})"
   ]
  },
  {
   "cell_type": "markdown",
   "metadata": {},
   "source": [
    "## Third, run the Monte Carlo simulation"
   ]
  },
  {
   "cell_type": "code",
   "execution_count": null,
   "metadata": {
    "ExecuteTime": {
     "end_time": "2020-12-22T21:43:16.646468Z",
     "start_time": "2020-12-22T21:42:40.780053Z"
    }
   },
   "outputs": [],
   "source": [
    "# Create the MonteCarlo object\n",
    "twmc = tw.MonteCarlo(\n",
    "    sim_params=sim_params,\n",
    "    fe_params=fe_params,\n",
    "    cre_params=cre_params,\n",
    "    cluster_params=cluster_params,\n",
    "    clean_params=clean_params,\n",
    "    collapse='match', # If 'spell', run estimators on data collapsed at the worker-firm spell level; if 'match', run estimators on data collapsed at the worker-firm match level\n",
    "    move_to_worker=False, # If True, each move is treated as a new worker\n",
    "    log=False # If True, will create log file(s)\n",
    ")\n",
    "# Run the Monte Carlo estimation\n",
    "twmc.monte_carlo(\n",
    "    N=50, # Number of simulations\n",
    "    ncore=1 # Number of cores to use\n",
    ")"
   ]
  },
  {
   "cell_type": "markdown",
   "metadata": {},
   "source": [
    "## Finally, plot histograms of parameter estimates (histograms show the difference from the truth)"
   ]
  },
  {
   "cell_type": "code",
   "execution_count": null,
   "metadata": {},
   "outputs": [],
   "source": [
    "twmc.hist()"
   ]
  }
 ],
 "metadata": {
  "celltoolbar": "Tags",
  "hide_input": false,
  "kernelspec": {
   "display_name": "Python 3 (ipykernel)",
   "language": "python",
   "name": "python3"
  },
  "language_info": {
   "codemirror_mode": {
    "name": "ipython",
    "version": 3
   },
   "file_extension": ".py",
   "mimetype": "text/x-python",
   "name": "python",
   "nbconvert_exporter": "python",
   "pygments_lexer": "ipython3",
   "version": "3.9.2"
  },
  "latex_envs": {
   "LaTeX_envs_menu_present": true,
   "autoclose": false,
   "autocomplete": true,
   "bibliofile": "biblio.bib",
   "cite_by": "apalike",
   "current_citInitial": 1,
   "eqLabelWithNumbers": true,
   "eqNumInitial": 1,
   "hotkeys": {
    "equation": "Ctrl-E",
    "itemize": "Ctrl-I"
   },
   "labels_anchors": false,
   "latex_user_defs": false,
   "report_style_numbering": false,
   "user_envs_cfg": false
  },
  "nbsphinx-toctree": {
   "hidden": true,
   "maxdepth": 1,
   "titlesonly": true
  },
  "toc": {
   "base_numbering": 1,
   "nav_menu": {},
   "number_sections": true,
   "sideBar": true,
   "skip_h1_title": false,
   "title_cell": "Table of Contents",
   "title_sidebar": "Contents",
   "toc_cell": false,
   "toc_position": {},
   "toc_section_display": true,
   "toc_window_display": false
  },
  "varInspector": {
   "cols": {
    "lenName": 16,
    "lenType": 16,
    "lenVar": 40
   },
   "kernels_config": {
    "python": {
     "delete_cmd_postfix": "",
     "delete_cmd_prefix": "del ",
     "library": "var_list.py",
     "varRefreshCmd": "print(var_dic_list())"
    },
    "r": {
     "delete_cmd_postfix": ") ",
     "delete_cmd_prefix": "rm(",
     "library": "var_list.r",
     "varRefreshCmd": "cat(var_dic_list()) "
    }
   },
   "types_to_exclude": [
    "module",
    "function",
    "builtin_function_or_method",
    "instance",
    "_Feature"
   ],
   "window_display": false
  }
 },
 "nbformat": 4,
 "nbformat_minor": 4
}
