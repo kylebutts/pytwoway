{
 "cells": [
  {
   "cell_type": "markdown",
   "metadata": {},
   "source": [
    "# Monte Carlo example"
   ]
  },
  {
   "cell_type": "code",
   "execution_count": 1,
   "metadata": {},
   "outputs": [],
   "source": [
    "# Add PyTwoWay to system path, do not run this\n",
    "import sys\n",
    "sys.path.append('../../..')"
   ]
  },
  {
   "cell_type": "code",
   "execution_count": 2,
   "metadata": {
    "ExecuteTime": {
     "end_time": "2020-12-22T21:42:40.756437Z",
     "start_time": "2020-12-22T21:42:39.576929Z"
    }
   },
   "outputs": [],
   "source": [
    "# Import the PyTwoWay package\n",
    "# (Make sure you have installed it using pip install pytwoway)\n",
    "import pytwoway as tw\n",
    "import bipartitepandas as bpd\n",
    "import numpy as np"
   ]
  },
  {
   "cell_type": "markdown",
   "metadata": {},
   "source": [
    "## First, check out parameter options"
   ]
  },
  {
   "cell_type": "code",
   "execution_count": 3,
   "metadata": {
    "ExecuteTime": {
     "end_time": "2020-12-22T21:42:40.761257Z",
     "start_time": "2020-12-22T21:42:40.758033Z"
    }
   },
   "outputs": [
    {
     "name": "stdout",
     "output_type": "stream",
     "text": [
      "----- Simulation -----\n",
      "KEY: 'n_workers'\n",
      "CURRENT VALUE: 10000\n",
      "VALID VALUES: one of type <class 'int'>\n",
      "CONSTRAINTS: '>= 1'\n",
      "DESCRIPTION: \n",
      "            (default=10000) Number of workers.\n",
      "        \n",
      "KEY: 'n_time'\n",
      "CURRENT VALUE: 5\n",
      "VALID VALUES: one of type <class 'int'>\n",
      "CONSTRAINTS: '>= 1'\n",
      "DESCRIPTION: \n",
      "            (default=5) Time length of panel.\n",
      "        \n",
      "KEY: 'firm_size'\n",
      "CURRENT VALUE: 50\n",
      "VALID VALUES: one of type (<class 'float'>, <class 'int'>)\n",
      "CONSTRAINTS: '> 0'\n",
      "DESCRIPTION: \n",
      "            (default=50) Average observations per firm per time period.\n",
      "        \n",
      "KEY: 'nk'\n",
      "CURRENT VALUE: 10\n",
      "VALID VALUES: one of type <class 'int'>\n",
      "CONSTRAINTS: '>= 1'\n",
      "DESCRIPTION: \n",
      "            (default=10) Number of firm types.\n",
      "        \n",
      "KEY: 'nl'\n",
      "CURRENT VALUE: 5\n",
      "VALID VALUES: one of type <class 'int'>\n",
      "CONSTRAINTS: '>= 1'\n",
      "DESCRIPTION: \n",
      "            (default=5) Number of worker types.\n",
      "        \n",
      "KEY: 'alpha_sig'\n",
      "CURRENT VALUE: 1\n",
      "VALID VALUES: one of type (<class 'float'>, <class 'int'>)\n",
      "CONSTRAINTS: '>= 0'\n",
      "DESCRIPTION: \n",
      "            (default=1) Standard error of individual fixed effect (volatility of worker effects).\n",
      "        \n",
      "KEY: 'psi_sig'\n",
      "CURRENT VALUE: 1\n",
      "VALID VALUES: one of type (<class 'float'>, <class 'int'>)\n",
      "CONSTRAINTS: '>= 0'\n",
      "DESCRIPTION: \n",
      "            (default=1) Standard error of firm fixed effect (volatility of firm effects).\n",
      "        \n",
      "KEY: 'w_sig'\n",
      "CURRENT VALUE: 1\n",
      "VALID VALUES: one of type (<class 'float'>, <class 'int'>)\n",
      "CONSTRAINTS: '>= 0'\n",
      "DESCRIPTION: \n",
      "            (default=1) Standard error of residual in AKM wage equation (volatility of wage shocks).\n",
      "        \n",
      "KEY: 'c_sort'\n",
      "CURRENT VALUE: 1\n",
      "VALID VALUES: one of type (<class 'float'>, <class 'int'>)\n",
      "DESCRIPTION: \n",
      "            (default=1) Sorting effect.\n",
      "        \n",
      "KEY: 'c_netw'\n",
      "CURRENT VALUE: 1\n",
      "VALID VALUES: one of type (<class 'float'>, <class 'int'>)\n",
      "DESCRIPTION: \n",
      "            (default=1) Network effect.\n",
      "        \n",
      "KEY: 'c_sig'\n",
      "CURRENT VALUE: 1\n",
      "VALID VALUES: one of type (<class 'float'>, <class 'int'>)\n",
      "CONSTRAINTS: '>= 0'\n",
      "DESCRIPTION: \n",
      "            (default=1) Standard error of sorting/network effects.\n",
      "        \n",
      "KEY: 'p_move'\n",
      "CURRENT VALUE: 0.5\n",
      "VALID VALUES: one of type (<class 'float'>, <class 'int'>)\n",
      "CONSTRAINTS: 'in [0, 1]'\n",
      "DESCRIPTION: \n",
      "            (default=0.5) Probability a worker moves firms in any period.\n",
      "        \n",
      "----- FE -----\n",
      "KEY: 'ncore'\n",
      "CURRENT VALUE: 1\n",
      "VALID VALUES: one of type <class 'int'>\n",
      "CONSTRAINTS: '>= 1'\n",
      "DESCRIPTION: \n",
      "            (default=1) Number of cores to use.\n",
      "        \n",
      "KEY: 'weighted'\n",
      "CURRENT VALUE: True\n",
      "VALID VALUES: one of type <class 'bool'>\n",
      "DESCRIPTION: \n",
      "            (default=True) If True, use weighted estimators.\n",
      "        \n",
      "KEY: 'statsonly'\n",
      "CURRENT VALUE: False\n",
      "VALID VALUES: one of type <class 'bool'>\n",
      "DESCRIPTION: \n",
      "            (default=False) If True, return only basic statistics.\n",
      "        \n",
      "KEY: 'feonly'\n",
      "CURRENT VALUE: False\n",
      "VALID VALUES: one of type <class 'bool'>\n",
      "DESCRIPTION: \n",
      "            (default=False) If True, estimate only fixed effects and not variances.\n",
      "        \n",
      "KEY: 'Q'\n",
      "CURRENT VALUE: 'cov(alpha, psi)'\n",
      "VALID VALUES: one of ['cov(alpha, psi)', 'cov(psi_t, psi_{t+1})']\n",
      "DESCRIPTION: \n",
      "            (default='cov(alpha, psi)') Which Q matrix to consider. Options include 'cov(alpha, psi)' and 'cov(psi_t, psi_{t+1})'.\n",
      "        \n",
      "KEY: 'ndraw_trace'\n",
      "CURRENT VALUE: 5\n",
      "VALID VALUES: one of type <class 'int'>\n",
      "CONSTRAINTS: '>= 1'\n",
      "DESCRIPTION: \n",
      "            (default=5) Number of draws to use in trace approximations.\n",
      "        \n",
      "KEY: 'he'\n",
      "CURRENT VALUE: False\n",
      "VALID VALUES: one of type <class 'bool'>\n",
      "DESCRIPTION: \n",
      "            (default=False) If True, estimate heteroskedastic correction.\n",
      "        \n",
      "KEY: 'he_analytical'\n",
      "CURRENT VALUE: False\n",
      "VALID VALUES: one of type <class 'bool'>\n",
      "DESCRIPTION: \n",
      "            (default=False) If True, estimate heteroskedastic correction using analytical formula; if False, use JL approxmation.\n",
      "        \n",
      "KEY: 'lev_batchsize'\n",
      "CURRENT VALUE: 50\n",
      "VALID VALUES: one of type <class 'int'>\n",
      "CONSTRAINTS: '>= 1'\n",
      "DESCRIPTION: \n",
      "            (default=50) Number of draws to use for each batch in approximation of leverages for heteroskedastic correction.\n",
      "        \n",
      "KEY: 'lev_batchsize_multiprocessing'\n",
      "CURRENT VALUE: 10\n",
      "VALID VALUES: one of type <class 'int'>\n",
      "CONSTRAINTS: '>= 1'\n",
      "DESCRIPTION: \n",
      "            (default=10) Batch size to send in parallel. Should evenly divide 'lev_batchsize'.\n",
      "        \n",
      "KEY: 'lev_nbatches'\n",
      "CURRENT VALUE: 5\n",
      "VALID VALUES: one of type <class 'int'>\n",
      "CONSTRAINTS: '>= 1'\n",
      "DESCRIPTION: \n",
      "            (default=5) Maximum number of batches to run in approximation of leverages for heteroskedastic correction.\n",
      "        \n",
      "KEY: 'lev_threshold_obs'\n",
      "CURRENT VALUE: 100\n",
      "VALID VALUES: one of type <class 'int'>\n",
      "CONSTRAINTS: '>= 1'\n",
      "DESCRIPTION: \n",
      "            (default=100) Minimum number of observations with Pii >= threshold where batches will keep running in approximation of leverages for heteroskedastic correction. Once this threshold is met, remaining Pii above threshold will be recomputed analytically.\n",
      "        \n",
      "KEY: 'lev_threshold_pii'\n",
      "CURRENT VALUE: 0.98\n",
      "VALID VALUES: one of type <class 'float'>\n",
      "CONSTRAINTS: 'in [0, 1]'\n",
      "DESCRIPTION: \n",
      "            (default=0.98) Threshold Pii value for computing threshold number of Pii observations in approximation of leverages for heteroskedastic correction.\n",
      "        \n",
      "KEY: 'levfile'\n",
      "CURRENT VALUE: ''\n",
      "VALID VALUES: one of type <class 'str'>\n",
      "DESCRIPTION: \n",
      "            (default='') File to load precomputed leverages for heteroskedastic correction.\n",
      "        \n",
      "KEY: 'out'\n",
      "CURRENT VALUE: 'res_fe.json'\n",
      "VALID VALUES: one of type <class 'str'>\n",
      "DESCRIPTION: \n",
      "            (default='res_fe.json') Outputfile where results are saved.\n",
      "        \n",
      "----- CRE -----\n",
      "KEY: 'ncore'\n",
      "CURRENT VALUE: 1\n",
      "VALID VALUES: one of type <class 'int'>\n",
      "CONSTRAINTS: '>= 1'\n",
      "DESCRIPTION: \n",
      "            (default=1) Number of cores to use.\n",
      "        \n",
      "KEY: 'posterior'\n",
      "CURRENT VALUE: False\n",
      "VALID VALUES: one of type <class 'bool'>\n",
      "DESCRIPTION: \n",
      "            (default=False) If True, compute posterior variance.\n",
      "        \n",
      "KEY: 'wo_btw'\n",
      "CURRENT VALUE: False\n",
      "VALID VALUES: one of type <class 'bool'>\n",
      "DESCRIPTION: \n",
      "            (default=False) If True, sets between variation to 0, pure RE.\n",
      "        \n",
      "KEY: 'ndraw_trace'\n",
      "CURRENT VALUE: 5\n",
      "VALID VALUES: one of type <class 'int'>\n",
      "CONSTRAINTS: '>= 1'\n",
      "DESCRIPTION: \n",
      "            (default=5) Number of draws to use in trace approximations.\n",
      "        \n",
      "KEY: 'out'\n",
      "CURRENT VALUE: 'res_cre.json'\n",
      "VALID VALUES: one of type <class 'str'>\n",
      "DESCRIPTION: \n",
      "            (default='res_fe.json') Outputfile where results are saved.\n",
      "        \n",
      "----- Clustering -----\n",
      "KEY: 'measures'\n",
      "CURRENT VALUE: <bipartitepandas.measures.measures.CDFs object at 0x7f97963a5580>\n",
      "VALID VALUES: one of or list of type (<class 'bipartitepandas.measures.measures.CDFs'>, <class 'bipartitepandas.measures.measures.Moments'>)\n",
      "DESCRIPTION: \n",
      "            (default=bpd.measures.CDFs()) How to compute measures for clustering. Options can be seen in bipartitepandas.measures.\n",
      "        \n",
      "KEY: 'grouping'\n",
      "CURRENT VALUE: <bipartitepandas.grouping.grouping.KMeans object at 0x7f97963a55b0>\n",
      "VALID VALUES: one of type (<class 'bipartitepandas.grouping.grouping.KMeans'>, <class 'bipartitepandas.grouping.grouping.Quantiles'>)\n",
      "DESCRIPTION: \n",
      "            (default=bpd.grouping.KMeans()) How to group firms based on measures. Options can be seen in bipartitepandas.grouping.\n",
      "        \n",
      "KEY: 'stayers_movers'\n",
      "CURRENT VALUE: None\n",
      "VALID VALUES: one of [None, 'stayers', 'movers']\n",
      "DESCRIPTION: \n",
      "            (default=None) If None, clusters on entire dataset; if 'stayers', clusters on only stayers; if 'movers', clusters on only movers; if 'stays', clusters on only stays; if 'moves', clusters on only moves.\n",
      "        \n",
      "KEY: 't'\n",
      "CURRENT VALUE: None\n",
      "VALID VALUES: None or one of type (<class 'int'>, <class 'list'>)\n",
      "DESCRIPTION: \n",
      "            (default=None) If None, clusters on entire dataset; if int, gives period in data to consider (only valid for non-collapsed data); if list of int, gives periods in data to consider (only valid for non-collapsed data).\n",
      "        \n",
      "KEY: 'weighted'\n",
      "CURRENT VALUE: True\n",
      "VALID VALUES: one of type <class 'bool'>\n",
      "DESCRIPTION: \n",
      "            (default=True) If True, weight firm clusters by firm size (if a weight column is included, firm weight is computed using this column; otherwise, each observation is given weight 1).\n",
      "        \n",
      "KEY: 'dropna'\n",
      "CURRENT VALUE: False\n",
      "VALID VALUES: one of type <class 'bool'>\n",
      "DESCRIPTION: \n",
      "            (default=False) If True, drop observations where firms aren't clustered; if False, keep all observations.\n",
      "        \n",
      "KEY: 'clean_params'\n",
      "CURRENT VALUE: None\n",
      "VALID VALUES: None or one of type <class 'bipartitepandas.util.ParamsDict'>\n",
      "DESCRIPTION: \n",
      "            (default=None) Dictionary of parameters for cleaning. This is used when observations get dropped because they were not clustered. Default is None, which sets connectedness to be the connectedness measure previously used. Run bpd.clean_params().describe_all() for descriptions of all valid parameters.\n",
      "        \n",
      "KEY: 'is_sorted'\n",
      "CURRENT VALUE: False\n",
      "VALID VALUES: one of type <class 'bool'>\n",
      "DESCRIPTION: \n",
      "            (default=False) For event study format. If False, dataframe will be sorted by i (and t, if included). Returned dataframe is not guaranteed to be sorted if original dataframe is not sorted. Sorting may alter original dataframe if copy is set to False. Set is_sorted to True if dataframe is already sorted.\n",
      "        \n",
      "KEY: 'copy'\n",
      "CURRENT VALUE: True\n",
      "VALID VALUES: one of type <class 'bool'>\n",
      "DESCRIPTION: \n",
      "            (default=True) If False, avoid copy.\n",
      "        \n",
      "----- Cleaning -----\n",
      "KEY: 'connectedness'\n",
      "CURRENT VALUE: None\n",
      "VALID VALUES: one of ['connected', 'leave_out_observation', 'leave_out_spell', 'leave_out_match', 'leave_out_worker', 'leave_out_firm', None]\n",
      "DESCRIPTION: \n",
      "            (default=None) When computing largest connected set of firms: if 'connected', keep observations in the largest connected set of firms; if 'leave_out_observation', keep observations in the largest leave-one-observation-out connected set; if 'leave_out_spell', keep observations in the largest leave-one-spell-out connected set; if 'leave_out_match', keep observations in the largest leave-one-match-out connected set; if 'leave_out_worker', keep observations in the largest leave-one-worker-out connected set; if 'leave_out_firm', keep observations in the largest leave-one-firm-out connected set; if None, keep all observations.\n",
      "        \n",
      "KEY: 'component_size_variable'\n",
      "CURRENT VALUE: 'firms'\n",
      "VALID VALUES: one of ['len', 'length', 'firms', 'workers', 'stayers', 'movers', 'firms_plus_workers', 'firms_plus_stayers', 'firms_plus_movers', 'len_stayers', 'length_stayers', 'len_movers', 'length_movers', 'stays', 'moves']\n",
      "DESCRIPTION: \n",
      "        (default='firms') How to determine largest connected component. Options are 'len'/'length' (length of frames), 'firms' (number of unique firms), 'workers' (number of unique workers), 'stayers' (number of unique stayers), 'movers' (number of unique movers), 'firms_plus_workers' (number of unique firms + number of unique workers), 'firms_plus_stayers' (number of unique firms + number of unique stayers), 'firms_plus_movers' (number of unique firms + number of unique movers), 'len_stayers'/'length_stayers' (number of stayer observations), 'len_movers'/'length_movers' (number of mover observations), 'stays' (number of stay observations), and 'moves' (number of move observations).\n",
      "        \n",
      "KEY: 'i_t_how'\n",
      "CURRENT VALUE: 'max'\n",
      "VALID VALUES: one of type (<class 'builtin_function_or_method'>, <class 'function'>, <class 'method'>, <class 'str'>)\n",
      "DESCRIPTION: \n",
      "            (default='max') When dropping i-t duplicates: if 'max', keep max paying job; otherwise, take `i_t_how` over duplicate worker-firm-year observations, then take the highest paying worker-firm observation. `i_t_how` can take any input valid for a Pandas transform. Note that if multiple time and/or firm columns are included (as in collapsed long and event study formats), then data is converted to long, cleaned, then converted back to its original format.\n",
      "        \n",
      "KEY: 'drop_returns'\n",
      "CURRENT VALUE: False\n",
      "VALID VALUES: one of [False, 'returns', 'returners', 'keep_first_returns', 'keep_last_returns']\n",
      "DESCRIPTION: \n",
      "            (default=False) If 'returns', drop observations where workers leave a firm then return to it; if 'returners', drop workers who ever leave then return to a firm; if 'keep_first_returns', keep first spell where a worker leaves a firm then returns to it; if 'keep_last_returns', keep last spell where a worker leaves a firm then returns to it; if False, keep all observations.\n",
      "        \n",
      "KEY: 'drop_returns_to_stays'\n",
      "CURRENT VALUE: False\n",
      "VALID VALUES: one of type <class 'bool'>\n",
      "DESCRIPTION: \n",
      "            (default=False) Applies only if 'drop_returns' is set to False. If True, when recollapsing collapsed data, drop observations that need to be recollapsed instead of collapsing (this is for computational efficiency when re-collapsing data for leave-one-out connected components, where intermediate observations can be dropped, causing a worker who returns to a firm to become a stayer).\n",
      "        \n",
      "KEY: 'is_sorted'\n",
      "CURRENT VALUE: False\n",
      "VALID VALUES: one of type <class 'bool'>\n",
      "DESCRIPTION: \n",
      "            (default=False) If False, dataframe will be sorted by i (and t, if included). Returned dataframe will be sorted. Sorting may alter original dataframe if copy is set to False. Set is_sorted to True if dataframe is already sorted.\n",
      "        \n",
      "KEY: 'copy'\n",
      "CURRENT VALUE: True\n",
      "VALID VALUES: one of type <class 'bool'>\n",
      "DESCRIPTION: \n",
      "            (default=True) If False, avoid copying data when possible.\n",
      "        \n",
      "KEY: 'force'\n",
      "CURRENT VALUE: True\n",
      "VALID VALUES: one of type <class 'bool'>\n",
      "DESCRIPTION: \n",
      "            (default=True) If True, force all cleaning methods to run; much faster if set to False.\n",
      "        \n",
      "KEY: 'verbose'\n",
      "CURRENT VALUE: True\n",
      "VALID VALUES: one of type <class 'bool'>\n",
      "DESCRIPTION: \n",
      "            (default=True) If True, print progress during data cleaning.\n",
      "        \n"
     ]
    }
   ],
   "source": [
    "print('----- Simulation -----')\n",
    "bpd.sim_params().describe_all()\n",
    "print('----- FE -----')\n",
    "tw.fe_params().describe_all()\n",
    "print('----- CRE -----')\n",
    "tw.cre_params().describe_all()\n",
    "print('----- Clustering -----')\n",
    "bpd.cluster_params().describe_all()\n",
    "print('----- Cleaning -----')\n",
    "bpd.clean_params().describe_all()"
   ]
  },
  {
   "cell_type": "markdown",
   "metadata": {},
   "source": [
    "## Second, set parameter choices"
   ]
  },
  {
   "cell_type": "code",
   "execution_count": 4,
   "metadata": {},
   "outputs": [],
   "source": [
    "# Set parameters\n",
    "sim_params = bpd.sim_params({'n_workers': 1000, 'firm_size': 5, 'alpha_sig': 2, 'w_sig': 2, 'c_sort': 1.5, 'c_netw': 1.5, 'p_move': 0.1})\n",
    "fe_params = tw.fe_params({'he': True, 'lev_threshold_obs': 1, 'weighted': True})\n",
    "cre_params = tw.cre_params()\n",
    "cluster_params = bpd.cluster_params()\n",
    "clean_params = bpd.clean_params({'verbose': False})"
   ]
  },
  {
   "cell_type": "markdown",
   "metadata": {},
   "source": [
    "## Third, run the Monte Carlo simulation using the parameter choices"
   ]
  },
  {
   "cell_type": "code",
   "execution_count": 8,
   "metadata": {
    "ExecuteTime": {
     "end_time": "2020-12-22T21:43:16.646468Z",
     "start_time": "2020-12-22T21:42:40.780053Z"
    }
   },
   "outputs": [
    {
     "name": "stderr",
     "output_type": "stream",
     "text": [
      "  0%|                                                    | 0/10 [00:00<?, ?it/s]\n"
     ]
    },
    {
     "ename": "PicklingError",
     "evalue": "Can't pickle <class 'builtin_function_or_method'>: attribute lookup builtin_function_or_method on builtins failed",
     "output_type": "error",
     "traceback": [
      "\u001b[0;31m---------------------------------------------------------------------------\u001b[0m",
      "\u001b[0;31mPicklingError\u001b[0m                             Traceback (most recent call last)",
      "Input \u001b[0;32mIn [8]\u001b[0m, in \u001b[0;36m<module>\u001b[0;34m\u001b[0m\n\u001b[1;32m      2\u001b[0m twmc \u001b[38;5;241m=\u001b[39m tw\u001b[38;5;241m.\u001b[39mMonteCarlo(\n\u001b[1;32m      3\u001b[0m     sim_params\u001b[38;5;241m=\u001b[39msim_params,\n\u001b[1;32m      4\u001b[0m     fe_params\u001b[38;5;241m=\u001b[39mfe_params,\n\u001b[0;32m   (...)\u001b[0m\n\u001b[1;32m     10\u001b[0m     log\u001b[38;5;241m=\u001b[39m\u001b[38;5;28;01mFalse\u001b[39;00m \u001b[38;5;66;03m# If True, will create log file(s)\u001b[39;00m\n\u001b[1;32m     11\u001b[0m )\n\u001b[1;32m     12\u001b[0m \u001b[38;5;66;03m# Run the Monte Carlo estimation\u001b[39;00m\n\u001b[0;32m---> 13\u001b[0m \u001b[43mtwmc\u001b[49m\u001b[38;5;241;43m.\u001b[39;49m\u001b[43mmonte_carlo\u001b[49m\u001b[43m(\u001b[49m\n\u001b[1;32m     14\u001b[0m \u001b[43m    \u001b[49m\u001b[43mN\u001b[49m\u001b[38;5;241;43m=\u001b[39;49m\u001b[38;5;241;43m10\u001b[39;49m\u001b[43m,\u001b[49m\u001b[43m \u001b[49m\u001b[38;5;66;43;03m# Number of simulations\u001b[39;49;00m\n\u001b[1;32m     15\u001b[0m \u001b[43m    \u001b[49m\u001b[43mncore\u001b[49m\u001b[38;5;241;43m=\u001b[39;49m\u001b[38;5;241;43m4\u001b[39;49m\u001b[43m,\u001b[49m\u001b[43m \u001b[49m\u001b[38;5;66;43;03m# Number of cores to use\u001b[39;49;00m\n\u001b[1;32m     16\u001b[0m \u001b[43m    \u001b[49m\u001b[43mrng\u001b[49m\u001b[38;5;241;43m=\u001b[39;49m\u001b[43mnp\u001b[49m\u001b[38;5;241;43m.\u001b[39;49m\u001b[43mrandom\u001b[49m\u001b[38;5;241;43m.\u001b[39;49m\u001b[43mdefault_rng\u001b[49m\u001b[43m(\u001b[49m\u001b[38;5;241;43m1234\u001b[39;49m\u001b[43m)\u001b[49m\u001b[43m \u001b[49m\u001b[38;5;66;43;03m# NumPy random number generator. This overrides the random number generators for simulating, FE, and CRE.\u001b[39;49;00m\n\u001b[1;32m     17\u001b[0m \u001b[43m)\u001b[49m\n",
      "File \u001b[0;32m~/Desktop/pytwoway/pytwoway/montecarlo.py:179\u001b[0m, in \u001b[0;36mMonteCarlo.monte_carlo\u001b[0;34m(self, N, ncore, rng)\u001b[0m\n\u001b[1;32m    176\u001b[0m     seeds \u001b[38;5;241m=\u001b[39m rng\u001b[38;5;241m.\u001b[39mbit_generator\u001b[38;5;241m.\u001b[39m_seed_seq\u001b[38;5;241m.\u001b[39mspawn(N)\n\u001b[1;32m    177\u001b[0m     \u001b[38;5;28;01mwith\u001b[39;00m Pool(processes\u001b[38;5;241m=\u001b[39mncore) \u001b[38;5;28;01mas\u001b[39;00m pool:\n\u001b[1;32m    178\u001b[0m         \u001b[38;5;66;03m# Multiprocessing tqdm source: https://stackoverflow.com/a/45276885/17333120\u001b[39;00m\n\u001b[0;32m--> 179\u001b[0m         all_res \u001b[38;5;241m=\u001b[39m \u001b[38;5;28;43mlist\u001b[39;49m\u001b[43m(\u001b[49m\u001b[43mtqdm\u001b[49m\u001b[43m(\u001b[49m\u001b[43mpool\u001b[49m\u001b[38;5;241;43m.\u001b[39;49m\u001b[43mimap\u001b[49m\u001b[43m(\u001b[49m\u001b[38;5;28;43mself\u001b[39;49m\u001b[38;5;241;43m.\u001b[39;49m\u001b[43m_monte_carlo_interior\u001b[49m\u001b[43m,\u001b[49m\u001b[43m \u001b[49m\u001b[43m[\u001b[49m\u001b[43mnp\u001b[49m\u001b[38;5;241;43m.\u001b[39;49m\u001b[43mrandom\u001b[49m\u001b[38;5;241;43m.\u001b[39;49m\u001b[43mdefault_rng\u001b[49m\u001b[43m(\u001b[49m\u001b[43mseed\u001b[49m\u001b[43m)\u001b[49m\u001b[43m \u001b[49m\u001b[38;5;28;43;01mfor\u001b[39;49;00m\u001b[43m \u001b[49m\u001b[43mseed\u001b[49m\u001b[43m \u001b[49m\u001b[38;5;129;43;01min\u001b[39;49;00m\u001b[43m \u001b[49m\u001b[43mseeds\u001b[49m\u001b[43m]\u001b[49m\u001b[43m)\u001b[49m\u001b[43m,\u001b[49m\u001b[43m \u001b[49m\u001b[43mtotal\u001b[49m\u001b[38;5;241;43m=\u001b[39;49m\u001b[43mN\u001b[49m\u001b[43m)\u001b[49m\u001b[43m)\u001b[49m\n\u001b[1;32m    180\u001b[0m \u001b[38;5;28;01melse\u001b[39;00m:\n\u001b[1;32m    181\u001b[0m     \u001b[38;5;66;03m# Single core\u001b[39;00m\n\u001b[1;32m    182\u001b[0m     all_res \u001b[38;5;241m=\u001b[39m [\u001b[38;5;28mself\u001b[39m\u001b[38;5;241m.\u001b[39m_monte_carlo_interior(rng) \u001b[38;5;28;01mfor\u001b[39;00m _ \u001b[38;5;129;01min\u001b[39;00m trange(N)]\n",
      "File \u001b[0;32m~/opt/anaconda3/envs/stata-env/lib/python3.9/site-packages/tqdm/std.py:1178\u001b[0m, in \u001b[0;36mtqdm.__iter__\u001b[0;34m(self)\u001b[0m\n\u001b[1;32m   1175\u001b[0m time \u001b[38;5;241m=\u001b[39m \u001b[38;5;28mself\u001b[39m\u001b[38;5;241m.\u001b[39m_time\n\u001b[1;32m   1177\u001b[0m \u001b[38;5;28;01mtry\u001b[39;00m:\n\u001b[0;32m-> 1178\u001b[0m     \u001b[38;5;28;01mfor\u001b[39;00m obj \u001b[38;5;129;01min\u001b[39;00m iterable:\n\u001b[1;32m   1179\u001b[0m         \u001b[38;5;28;01myield\u001b[39;00m obj\n\u001b[1;32m   1180\u001b[0m         \u001b[38;5;66;03m# Update and possibly print the progressbar.\u001b[39;00m\n\u001b[1;32m   1181\u001b[0m         \u001b[38;5;66;03m# Note: does not call self.update(1) for speed optimisation.\u001b[39;00m\n",
      "File \u001b[0;32m~/opt/anaconda3/envs/stata-env/lib/python3.9/multiprocessing/pool.py:870\u001b[0m, in \u001b[0;36mIMapIterator.next\u001b[0;34m(self, timeout)\u001b[0m\n\u001b[1;32m    868\u001b[0m \u001b[38;5;28;01mif\u001b[39;00m success:\n\u001b[1;32m    869\u001b[0m     \u001b[38;5;28;01mreturn\u001b[39;00m value\n\u001b[0;32m--> 870\u001b[0m \u001b[38;5;28;01mraise\u001b[39;00m value\n",
      "File \u001b[0;32m~/opt/anaconda3/envs/stata-env/lib/python3.9/multiprocessing/pool.py:537\u001b[0m, in \u001b[0;36mPool._handle_tasks\u001b[0;34m(taskqueue, put, outqueue, pool, cache)\u001b[0m\n\u001b[1;32m    535\u001b[0m     \u001b[38;5;28;01mbreak\u001b[39;00m\n\u001b[1;32m    536\u001b[0m \u001b[38;5;28;01mtry\u001b[39;00m:\n\u001b[0;32m--> 537\u001b[0m     \u001b[43mput\u001b[49m\u001b[43m(\u001b[49m\u001b[43mtask\u001b[49m\u001b[43m)\u001b[49m\n\u001b[1;32m    538\u001b[0m \u001b[38;5;28;01mexcept\u001b[39;00m \u001b[38;5;167;01mException\u001b[39;00m \u001b[38;5;28;01mas\u001b[39;00m e:\n\u001b[1;32m    539\u001b[0m     job, idx \u001b[38;5;241m=\u001b[39m task[:\u001b[38;5;241m2\u001b[39m]\n",
      "File \u001b[0;32m~/opt/anaconda3/envs/stata-env/lib/python3.9/multiprocessing/connection.py:211\u001b[0m, in \u001b[0;36m_ConnectionBase.send\u001b[0;34m(self, obj)\u001b[0m\n\u001b[1;32m    209\u001b[0m \u001b[38;5;28mself\u001b[39m\u001b[38;5;241m.\u001b[39m_check_closed()\n\u001b[1;32m    210\u001b[0m \u001b[38;5;28mself\u001b[39m\u001b[38;5;241m.\u001b[39m_check_writable()\n\u001b[0;32m--> 211\u001b[0m \u001b[38;5;28mself\u001b[39m\u001b[38;5;241m.\u001b[39m_send_bytes(\u001b[43m_ForkingPickler\u001b[49m\u001b[38;5;241;43m.\u001b[39;49m\u001b[43mdumps\u001b[49m\u001b[43m(\u001b[49m\u001b[43mobj\u001b[49m\u001b[43m)\u001b[49m)\n",
      "File \u001b[0;32m~/opt/anaconda3/envs/stata-env/lib/python3.9/multiprocessing/reduction.py:51\u001b[0m, in \u001b[0;36mForkingPickler.dumps\u001b[0;34m(cls, obj, protocol)\u001b[0m\n\u001b[1;32m     48\u001b[0m \u001b[38;5;129m@classmethod\u001b[39m\n\u001b[1;32m     49\u001b[0m \u001b[38;5;28;01mdef\u001b[39;00m \u001b[38;5;21mdumps\u001b[39m(\u001b[38;5;28mcls\u001b[39m, obj, protocol\u001b[38;5;241m=\u001b[39m\u001b[38;5;28;01mNone\u001b[39;00m):\n\u001b[1;32m     50\u001b[0m     buf \u001b[38;5;241m=\u001b[39m io\u001b[38;5;241m.\u001b[39mBytesIO()\n\u001b[0;32m---> 51\u001b[0m     \u001b[38;5;28;43mcls\u001b[39;49m\u001b[43m(\u001b[49m\u001b[43mbuf\u001b[49m\u001b[43m,\u001b[49m\u001b[43m \u001b[49m\u001b[43mprotocol\u001b[49m\u001b[43m)\u001b[49m\u001b[38;5;241;43m.\u001b[39;49m\u001b[43mdump\u001b[49m\u001b[43m(\u001b[49m\u001b[43mobj\u001b[49m\u001b[43m)\u001b[49m\n\u001b[1;32m     52\u001b[0m     \u001b[38;5;28;01mreturn\u001b[39;00m buf\u001b[38;5;241m.\u001b[39mgetbuffer()\n",
      "\u001b[0;31mPicklingError\u001b[0m: Can't pickle <class 'builtin_function_or_method'>: attribute lookup builtin_function_or_method on builtins failed"
     ]
    }
   ],
   "source": [
    "# Create the TwoWayMonteCarlo object\n",
    "twmc = tw.MonteCarlo(\n",
    "    sim_params=sim_params,\n",
    "    fe_params=fe_params,\n",
    "    cre_params=cre_params,\n",
    "    cluster_params=cluster_params,\n",
    "    clean_params=clean_params,\n",
    "    collapse=True, # If True, run estimators on data collapsed at the worker-firm spell level\n",
    "    move_to_worker=False, # If True, each move is treated as a new worker\n",
    "    log=False # If True, will create log file(s)\n",
    ")\n",
    "# Run the Monte Carlo estimation\n",
    "twmc.monte_carlo(\n",
    "    N=10, # Number of simulations\n",
    "    ncore=4, # Number of cores to use\n",
    "    rng=np.random.default_rng(1234) # NumPy random number generator. This overrides the random number generators for simulating, FE, and CRE.\n",
    ")"
   ]
  },
  {
   "cell_type": "markdown",
   "metadata": {},
   "source": [
    "## Finally, plot parameter estimates (plots show the difference from the truth)"
   ]
  },
  {
   "cell_type": "code",
   "execution_count": 6,
   "metadata": {
    "ExecuteTime": {
     "end_time": "2020-12-22T21:43:17.415199Z",
     "start_time": "2020-12-22T21:43:16.649221Z"
    }
   },
   "outputs": [
    {
     "data": {
      "image/png": "[encoded data removed]",
      "text/plain": [
       "<Figure size 432x288 with 1 Axes>"
      ]
     },
     "metadata": {
      "needs_background": "light"
     },
     "output_type": "display_data"
    },
    {
     "data": {
      "image/png": "[encoded data removed]",
      "text/plain": [
       "<Figure size 432x288 with 1 Axes>"
      ]
     },
     "metadata": {
      "needs_background": "light"
     },
     "output_type": "display_data"
    }
   ],
   "source": [
    "twmc.plot_monte_carlo(he=True)"
   ]
  },
  {
   "cell_type": "code",
   "execution_count": 7,
   "metadata": {},
   "outputs": [
    {
     "data": {
      "image/png": "[encoded data removed]",
      "text/plain": [
       "<Figure size 432x288 with 1 Axes>"
      ]
     },
     "metadata": {
      "needs_background": "light"
     },
     "output_type": "display_data"
    },
    {
     "data": {
      "image/png": "[encoded data removed]",
      "text/plain": [
       "<Figure size 432x288 with 1 Axes>"
      ]
     },
     "metadata": {
      "needs_background": "light"
     },
     "output_type": "display_data"
    }
   ],
   "source": [
    "twmc.plot_monte_carlo(he=False)"
   ]
  }
 ],
 "metadata": {
  "celltoolbar": "Tags",
  "hide_input": false,
  "kernelspec": {
   "display_name": "Python 3 (ipykernel)",
   "language": "python",
   "name": "python3"
  },
  "language_info": {
   "codemirror_mode": {
    "name": "ipython",
    "version": 3
   },
   "file_extension": ".py",
   "mimetype": "text/x-python",
   "name": "python",
   "nbconvert_exporter": "python",
   "pygments_lexer": "ipython3",
   "version": "3.9.2"
  },
  "latex_envs": {
   "LaTeX_envs_menu_present": true,
   "autoclose": false,
   "autocomplete": true,
   "bibliofile": "biblio.bib",
   "cite_by": "apalike",
   "current_citInitial": 1,
   "eqLabelWithNumbers": true,
   "eqNumInitial": 1,
   "hotkeys": {
    "equation": "Ctrl-E",
    "itemize": "Ctrl-I"
   },
   "labels_anchors": false,
   "latex_user_defs": false,
   "report_style_numbering": false,
   "user_envs_cfg": false
  },
  "nbsphinx-toctree": {
   "hidden": true,
   "maxdepth": 1,
   "titlesonly": true
  },
  "toc": {
   "base_numbering": 1,
   "nav_menu": {},
   "number_sections": true,
   "sideBar": true,
   "skip_h1_title": false,
   "title_cell": "Table of Contents",
   "title_sidebar": "Contents",
   "toc_cell": false,
   "toc_position": {},
   "toc_section_display": true,
   "toc_window_display": false
  },
  "varInspector": {
   "cols": {
    "lenName": 16,
    "lenType": 16,
    "lenVar": 40
   },
   "kernels_config": {
    "python": {
     "delete_cmd_postfix": "",
     "delete_cmd_prefix": "del ",
     "library": "var_list.py",
     "varRefreshCmd": "print(var_dic_list())"
    },
    "r": {
     "delete_cmd_postfix": ") ",
     "delete_cmd_prefix": "rm(",
     "library": "var_list.r",
     "varRefreshCmd": "cat(var_dic_list()) "
    }
   },
   "types_to_exclude": [
    "module",
    "function",
    "builtin_function_or_method",
    "instance",
    "_Feature"
   ],
   "window_display": false
  }
 },
 "nbformat": 4,
 "nbformat_minor": 4
}
