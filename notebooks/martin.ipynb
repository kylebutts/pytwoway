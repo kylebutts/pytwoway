{
 "cells": [
  {
   "cell_type": "code",
   "execution_count": 1,
   "id": "5090aa6f-0a77-40e4-b481-122fcd51b5ea",
   "metadata": {},
   "outputs": [
    {
     "name": "stderr",
     "output_type": "stream",
     "text": [
      "/home/jovyan/.cache/pypoetry/virtualenvs/pytwoway-8EXZSVYp-py3.9/lib/python3.9/site-packages/tqdm/auto.py:21: TqdmWarning: IProgress not found. Please update jupyter and ipywidgets. See https://ipywidgets.readthedocs.io/en/stable/user_install.html\n",
      "  from .autonotebook import tqdm as notebook_tqdm\n"
     ]
    }
   ],
   "source": [
    "import numpy as np\n",
    "import bipartitepandas as bpd\n",
    "import pytwoway as tw\n",
    "from pytwoway import constraints as cons\n",
    "from matplotlib import pyplot as plt\n",
    "\n",
    "\n",
    "nl = 3 # Number of worker types\n",
    "nk = 3 # Number of firm types\n",
    "blm_params = tw.blm_params({\n",
    "    'nl': nl, 'nk': nk,\n",
    "    'a1_mu': 0, 'a1_sig': 1.5, 'a2_mu': 0, 'a2_sig': 1.5,\n",
    "    's1_low': 0.5, 's1_high': 1.5, 's2_low': 0.5, 's2_high': 1.5, 'verbose': 0\n",
    "})\n",
    "cluster_params = bpd.cluster_params({\n",
    "    'measures': bpd.measures.CDFs(),\n",
    "    'grouping': bpd.grouping.KMeans(n_clusters=nk),\n",
    "    'is_sorted': True,\n",
    "    'copy': False\n",
    "})\n",
    "clean_params = bpd.clean_params({\n",
    "    'drop_returns': 'returners',\n",
    "    'copy': False\n",
    "})"
   ]
  },
  {
   "cell_type": "code",
   "execution_count": 2,
   "id": "63e106d8-cb1c-4fde-adb1-595f6cb165ea",
   "metadata": {},
   "outputs": [],
   "source": [
    "\n",
    "\n",
    "real_values_a = []\n",
    "real_values_psi = []\n",
    "real_values_cov = []\n",
    "estimated_a = []\n",
    "estimated_psi = []\n",
    "estimated_cov = []\n",
    "monotonic_mover = []\n",
    "monotonic_stayer = []\n",
    "\n",
    "values = np.arange(0,3,0.05)"
   ]
  },
  {
   "cell_type": "code",
   "execution_count": 3,
   "id": "3ad5ad22-0110-40ed-9070-fdbe5e798d4c",
   "metadata": {},
   "outputs": [
    {
     "name": "stdout",
     "output_type": "stream",
     "text": [
      "checking required columns and datatypes\n",
      "sorting rows\n",
      "dropping NaN observations\n",
      "generating 'm' column\n",
      "keeping highest paying job for i-t (worker-year) duplicates (how='max')\n",
      "dropping workers who leave a firm then return to it (how='returners')\n",
      "making 'i' ids contiguous\n",
      "making 'j' ids contiguous\n",
      "computing largest connected set (how=None)\n",
      "sorting columns\n",
      "resetting index\n"
     ]
    },
    {
     "name": "stderr",
     "output_type": "stream",
     "text": [
      "  8%|▊         | 3/40 [00:08<01:40,  2.70s/it]"
     ]
    },
    {
     "name": "stdout",
     "output_type": "stream",
     "text": [
      "Maximum iterations reached for movers. It is recommended to increase `n_iters_movers` from its current value of 1000.\n"
     ]
    },
    {
     "name": "stderr",
     "output_type": "stream",
     "text": [
      "100%|██████████| 40/40 [00:10<00:00,  3.73it/s]"
     ]
    },
    {
     "name": "stdout",
     "output_type": "stream",
     "text": [
      "Log-likelihoods monotonic (movers): True\n",
      "Log-likelihoods monotonic (stayers): True\n"
     ]
    },
    {
     "name": "stderr",
     "output_type": "stream",
     "text": [
      "\n",
      "100%|██████████| 20/20 [00:00<00:00, 80.10it/s]"
     ]
    },
    {
     "name": "stdout",
     "output_type": "stream",
     "text": [
      "'var(y)':  0.5268974090907124\n",
      "\n",
      "'var(eps)':  0.14375285921709394\n",
      "\n",
      "'var(alpha)':  0.10661254723604655\n",
      "\n",
      "'var(psi + alpha)':  0.3831445498736182\n",
      "\n",
      "'var(psi)':  0.2851741635299866\n",
      "\n",
      "'cov(psi, alpha)':  -0.004321080446207527\n",
      "\n"
     ]
    },
    {
     "name": "stderr",
     "output_type": "stream",
     "text": [
      "\n"
     ]
    }
   ],
   "source": [
    "sim_params = bpd.sim_params({\n",
    "    'nl': nl, 'nk': nk,\n",
    "    'alpha_sig': 0.1, 'psi_sig': 1.0, 'w_sig': 0.6,\n",
    "    'c_sort': 0, 'c_netw': 0, 'c_sig': 1\n",
    "})\n",
    "\n",
    "sim_data = bpd.SimBipartite(sim_params).simulate()\n",
    "\n",
    "# Convert into BipartitePandas DataFrame\n",
    "sim_data = bpd.BipartiteDataFrame(sim_data)\n",
    "# Clean and collapse\n",
    "sim_data = sim_data.clean(clean_params).collapse(is_sorted=True, copy=False)\n",
    "# Cluster\n",
    "sim_data = sim_data.cluster(cluster_params)\n",
    "# Convert to event study format\n",
    "sim_data = sim_data.to_eventstudy(is_sorted=True, copy=False)\n",
    "\n",
    "sim_data_observed = sim_data.loc[:, ['i', 'j1', 'j2', 'y1', 'y2', 't11', 't12', 't21', 't22', 'g1', 'g2', 'w1', 'w2', 'm']]\n",
    "sim_data_unobserved = sim_data.loc[:, ['alpha1', 'alpha2', 'k1', 'k2', 'l1', 'l2', 'psi1', 'psi2']]\n",
    "\n",
    "movers = sim_data_observed.get_worker_m(is_sorted=True)\n",
    "jdata = sim_data_observed.loc[movers, :]\n",
    "sdata = sim_data_observed.loc[~movers, :]\n",
    "\n",
    "\n",
    "# Initialize BLM estimator\n",
    "blm_fit = tw.BLMEstimator(blm_params)\n",
    "# Fit BLM estimator\n",
    "blm_fit.fit(jdata=jdata, sdata=sdata, n_init=40, n_best=5, ncore=16)\n",
    "# Store best model\n",
    "blm_model = blm_fit.model\n",
    "\n",
    "liks1 = blm_model.liks1\n",
    "\n",
    "print('Log-likelihoods monotonic (movers):', np.min(np.diff(liks1)) >= 0)\n",
    "monotonic_mover = monotonic_mover + [np.min(np.diff(liks1)) >= 0]\n",
    "liks0 = blm_model.liks0\n",
    "print('Log-likelihoods monotonic (stayers):', np.min(np.diff(liks0)) >= 0)\n",
    "monotonic_stayer = monotonic_stayer + [np.min(np.diff(liks0)) >= 0]\n",
    "\n",
    "# Initialize BLM variance decomposition estimator\n",
    "blm_var = tw.BLMVarianceDecomposition(blm_model,blm_params)\n",
    "# Fit BLM estimator\n",
    "blm_var.fit(\n",
    "    jdata=jdata, sdata=sdata,\n",
    "    n_samples=20,\n",
    "    Q_var=[\n",
    "                tw.Q.VarAlpha(),\n",
    "                tw.Q.VarPsi(),\n",
    "                tw.Q.VarPsiPlusAlpha()\n",
    "            ],\n",
    "    ncore=16\n",
    ")\n",
    "\n",
    "for k, v in blm_var.res['var_decomp'].items():\n",
    "    print(f'{k!r}:  {np.mean(v)}\\n')\n",
    "\n",
    "real_values_a = real_values_a + [np.var(sim_data_unobserved['alpha1'])]\n",
    "real_values_psi = real_values_psi + [np.var(sim_data_unobserved['psi1'])]\n",
    "real_values_cov = real_values_cov + [np.cov(sim_data_unobserved['psi1'], sim_data_unobserved['alpha1'], ddof=0)[0, 1]]\n",
    "estimated_a = estimated_a + [np.mean(blm_var.res['var_decomp']['var(alpha)'])]\n",
    "estimated_psi = estimated_psi + [np.mean(blm_var.res['var_decomp']['var(psi)'])]\n",
    "estimated_cov = estimated_cov + [np.mean(blm_var.res['var_decomp']['cov(psi, alpha)'])]"
   ]
  },
  {
   "cell_type": "code",
   "execution_count": null,
   "id": "e0ea8006-bc2f-44bf-ac59-3f2a4bdf7d79",
   "metadata": {},
   "outputs": [],
   "source": []
  }
 ],
 "metadata": {
  "kernelspec": {
   "display_name": "pytwoway",
   "language": "python",
   "name": "pytwoway"
  },
  "language_info": {
   "codemirror_mode": {
    "name": "ipython",
    "version": 3
   },
   "file_extension": ".py",
   "mimetype": "text/x-python",
   "name": "python",
   "nbconvert_exporter": "python",
   "pygments_lexer": "ipython3",
   "version": "3.9.18"
  }
 },
 "nbformat": 4,
 "nbformat_minor": 5
}
